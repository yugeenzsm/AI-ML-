{
  "nbformat": 4,
  "nbformat_minor": 0,
  "metadata": {
    "colab": {
      "provenance": [],
      "include_colab_link": true
    },
    "kernelspec": {
      "name": "python3",
      "display_name": "Python 3"
    },
    "language_info": {
      "name": "python"
    }
  },
  "cells": [
    {
      "cell_type": "markdown",
      "metadata": {
        "id": "view-in-github",
        "colab_type": "text"
      },
      "source": [
        "<a href=\"https://colab.research.google.com/github/yugeenzsm/AI-ML-/blob/main/Workshop9_AIML.ipynb\" target=\"_parent\"><img src=\"https://colab.research.google.com/assets/colab-badge.svg\" alt=\"Open In Colab\"/></a>"
      ]
    },
    {
      "cell_type": "markdown",
      "source": [
        "# Sequence to Sequence Model.\n",
        "___\n",
        "In this Notebook we will try to build and understand a Seq to Seq Model for Machine Translations."
      ],
      "metadata": {
        "id": "UWcsJRycHt7q"
      }
    },
    {
      "cell_type": "markdown",
      "source": [
        "# Download the dataset:\n",
        "\n",
        "The following script will download the dataset and stores the file in designated folder.\n",
        "\n",
        "Please change the folder path as per your file structure.\n"
      ],
      "metadata": {
        "id": "9F-3OkoGNiEZ"
      }
    },
    {
      "cell_type": "code",
      "source": [
        "import os\n",
        "root_path = \"/content/drive/MyDrive/csv\""
      ],
      "metadata": {
        "id": "FkEtWvIQWjrg"
      },
      "execution_count": 2,
      "outputs": []
    },
    {
      "cell_type": "code",
      "source": [
        "from google.colab import drive\n",
        "drive.mount('/content/drive')"
      ],
      "metadata": {
        "colab": {
          "base_uri": "https://localhost:8080/"
        },
        "id": "HJZ47jj0OnYr",
        "outputId": "69debb1a-8a33-4f86-8d5c-a51fa881e288"
      },
      "execution_count": 1,
      "outputs": [
        {
          "output_type": "stream",
          "name": "stdout",
          "text": [
            "Mounted at /content/drive\n"
          ]
        }
      ]
    },
    {
      "cell_type": "code",
      "source": [
        "import pandas as pd\n",
        "import os\n",
        "\n",
        "# Path to the original data file\n",
        "data_path = \"/content/drive/MyDrive/csv/npi.txt\"\n",
        "\n",
        "# Read the .txt file into a DataFrame\n",
        "lines = pd.read_table(data_path, names=['source', 'target', 'comments'])\n",
        "\n",
        "# Drop the 'comments' column if it exists\n",
        "if 'comments' in lines.columns:\n",
        "    lines = lines.drop(columns=['comments'])\n",
        "\n",
        "# Path to save the cleaned CSV file\n",
        "csv_path = os.path.join(\"/content/drive/MyDrive/csv\", \"raw_data.csv\")\n",
        "\n",
        "# Save as CSV if it doesn't already exist\n",
        "if not os.path.exists(csv_path):\n",
        "    lines.to_csv(csv_path, index=False, encoding='utf-8')\n",
        "    print(f\"✅ CSV file saved to: {csv_path}\")\n",
        "else:\n",
        "    print(f\"⚠️ CSV file already exists at: {csv_path}\")\n",
        "\n"
      ],
      "metadata": {
        "colab": {
          "base_uri": "https://localhost:8080/"
        },
        "id": "cj10-zvZOGGz",
        "outputId": "45ffe35b-6ffd-4e3d-ddc4-e908d6506900"
      },
      "execution_count": 3,
      "outputs": [
        {
          "output_type": "stream",
          "name": "stdout",
          "text": [
            "✅ CSV file saved to: /content/drive/MyDrive/csv/raw_data.csv\n"
          ]
        }
      ]
    },
    {
      "cell_type": "code",
      "source": [
        "raw_data = pd.read_csv(\"/content/drive/MyDrive/csv/raw_data.csv\")\n",
        "raw_data.sample(6)"
      ],
      "metadata": {
        "id": "wZjg1aoGs7Yh",
        "colab": {
          "base_uri": "https://localhost:8080/",
          "height": 238
        },
        "outputId": "7eeba070-1b4b-4965-8932-6844bbbbc433"
      },
      "execution_count": 4,
      "outputs": [
        {
          "output_type": "execute_result",
          "data": {
            "text/plain": [
              "                                        source  \\\n",
              "2097       Tom started whistling a happy tune.   \n",
              "2366  You don't need to finish it by tomorrow.   \n",
              "25                                  May I eat?   \n",
              "1056                  Tom searched everywhere.   \n",
              "2274    Tom was hoping we'd do that with Mary.   \n",
              "1114                 I'll call you right back.   \n",
              "\n",
              "                                                 target  \n",
              "2097              टमले सुसेलेर खुशीको धुन बजाउन थाल्यो।  \n",
              "2366       तपाईंले यसलाई भोलिसम्म पूरा गर्न आवश्यक छैन।  \n",
              "25                                     के म खान सक्छु ?  \n",
              "1056                                टमले जताततै खोज्यो।  \n",
              "2274  टमलाई आशा थियो कि हामीले मरियमसँग त्यसो गर्नेछौं।  \n",
              "1114                      म तिमीलाई तुरुन्तै फोन गर्छु।  "
            ],
            "text/html": [
              "\n",
              "  <div id=\"df-7517d038-fe34-4468-972d-792d8d96225e\" class=\"colab-df-container\">\n",
              "    <div>\n",
              "<style scoped>\n",
              "    .dataframe tbody tr th:only-of-type {\n",
              "        vertical-align: middle;\n",
              "    }\n",
              "\n",
              "    .dataframe tbody tr th {\n",
              "        vertical-align: top;\n",
              "    }\n",
              "\n",
              "    .dataframe thead th {\n",
              "        text-align: right;\n",
              "    }\n",
              "</style>\n",
              "<table border=\"1\" class=\"dataframe\">\n",
              "  <thead>\n",
              "    <tr style=\"text-align: right;\">\n",
              "      <th></th>\n",
              "      <th>source</th>\n",
              "      <th>target</th>\n",
              "    </tr>\n",
              "  </thead>\n",
              "  <tbody>\n",
              "    <tr>\n",
              "      <th>2097</th>\n",
              "      <td>Tom started whistling a happy tune.</td>\n",
              "      <td>टमले सुसेलेर खुशीको धुन बजाउन थाल्यो।</td>\n",
              "    </tr>\n",
              "    <tr>\n",
              "      <th>2366</th>\n",
              "      <td>You don't need to finish it by tomorrow.</td>\n",
              "      <td>तपाईंले यसलाई भोलिसम्म पूरा गर्न आवश्यक छैन।</td>\n",
              "    </tr>\n",
              "    <tr>\n",
              "      <th>25</th>\n",
              "      <td>May I eat?</td>\n",
              "      <td>के म खान सक्छु ?</td>\n",
              "    </tr>\n",
              "    <tr>\n",
              "      <th>1056</th>\n",
              "      <td>Tom searched everywhere.</td>\n",
              "      <td>टमले जताततै खोज्यो।</td>\n",
              "    </tr>\n",
              "    <tr>\n",
              "      <th>2274</th>\n",
              "      <td>Tom was hoping we'd do that with Mary.</td>\n",
              "      <td>टमलाई आशा थियो कि हामीले मरियमसँग त्यसो गर्नेछौं।</td>\n",
              "    </tr>\n",
              "    <tr>\n",
              "      <th>1114</th>\n",
              "      <td>I'll call you right back.</td>\n",
              "      <td>म तिमीलाई तुरुन्तै फोन गर्छु।</td>\n",
              "    </tr>\n",
              "  </tbody>\n",
              "</table>\n",
              "</div>\n",
              "    <div class=\"colab-df-buttons\">\n",
              "\n",
              "  <div class=\"colab-df-container\">\n",
              "    <button class=\"colab-df-convert\" onclick=\"convertToInteractive('df-7517d038-fe34-4468-972d-792d8d96225e')\"\n",
              "            title=\"Convert this dataframe to an interactive table.\"\n",
              "            style=\"display:none;\">\n",
              "\n",
              "  <svg xmlns=\"http://www.w3.org/2000/svg\" height=\"24px\" viewBox=\"0 -960 960 960\">\n",
              "    <path d=\"M120-120v-720h720v720H120Zm60-500h600v-160H180v160Zm220 220h160v-160H400v160Zm0 220h160v-160H400v160ZM180-400h160v-160H180v160Zm440 0h160v-160H620v160ZM180-180h160v-160H180v160Zm440 0h160v-160H620v160Z\"/>\n",
              "  </svg>\n",
              "    </button>\n",
              "\n",
              "  <style>\n",
              "    .colab-df-container {\n",
              "      display:flex;\n",
              "      gap: 12px;\n",
              "    }\n",
              "\n",
              "    .colab-df-convert {\n",
              "      background-color: #E8F0FE;\n",
              "      border: none;\n",
              "      border-radius: 50%;\n",
              "      cursor: pointer;\n",
              "      display: none;\n",
              "      fill: #1967D2;\n",
              "      height: 32px;\n",
              "      padding: 0 0 0 0;\n",
              "      width: 32px;\n",
              "    }\n",
              "\n",
              "    .colab-df-convert:hover {\n",
              "      background-color: #E2EBFA;\n",
              "      box-shadow: 0px 1px 2px rgba(60, 64, 67, 0.3), 0px 1px 3px 1px rgba(60, 64, 67, 0.15);\n",
              "      fill: #174EA6;\n",
              "    }\n",
              "\n",
              "    .colab-df-buttons div {\n",
              "      margin-bottom: 4px;\n",
              "    }\n",
              "\n",
              "    [theme=dark] .colab-df-convert {\n",
              "      background-color: #3B4455;\n",
              "      fill: #D2E3FC;\n",
              "    }\n",
              "\n",
              "    [theme=dark] .colab-df-convert:hover {\n",
              "      background-color: #434B5C;\n",
              "      box-shadow: 0px 1px 3px 1px rgba(0, 0, 0, 0.15);\n",
              "      filter: drop-shadow(0px 1px 2px rgba(0, 0, 0, 0.3));\n",
              "      fill: #FFFFFF;\n",
              "    }\n",
              "  </style>\n",
              "\n",
              "    <script>\n",
              "      const buttonEl =\n",
              "        document.querySelector('#df-7517d038-fe34-4468-972d-792d8d96225e button.colab-df-convert');\n",
              "      buttonEl.style.display =\n",
              "        google.colab.kernel.accessAllowed ? 'block' : 'none';\n",
              "\n",
              "      async function convertToInteractive(key) {\n",
              "        const element = document.querySelector('#df-7517d038-fe34-4468-972d-792d8d96225e');\n",
              "        const dataTable =\n",
              "          await google.colab.kernel.invokeFunction('convertToInteractive',\n",
              "                                                    [key], {});\n",
              "        if (!dataTable) return;\n",
              "\n",
              "        const docLinkHtml = 'Like what you see? Visit the ' +\n",
              "          '<a target=\"_blank\" href=https://colab.research.google.com/notebooks/data_table.ipynb>data table notebook</a>'\n",
              "          + ' to learn more about interactive tables.';\n",
              "        element.innerHTML = '';\n",
              "        dataTable['output_type'] = 'display_data';\n",
              "        await google.colab.output.renderOutput(dataTable, element);\n",
              "        const docLink = document.createElement('div');\n",
              "        docLink.innerHTML = docLinkHtml;\n",
              "        element.appendChild(docLink);\n",
              "      }\n",
              "    </script>\n",
              "  </div>\n",
              "\n",
              "\n",
              "<div id=\"df-32aa8dc5-cf7d-468e-96df-1cee76d9e012\">\n",
              "  <button class=\"colab-df-quickchart\" onclick=\"quickchart('df-32aa8dc5-cf7d-468e-96df-1cee76d9e012')\"\n",
              "            title=\"Suggest charts\"\n",
              "            style=\"display:none;\">\n",
              "\n",
              "<svg xmlns=\"http://www.w3.org/2000/svg\" height=\"24px\"viewBox=\"0 0 24 24\"\n",
              "     width=\"24px\">\n",
              "    <g>\n",
              "        <path d=\"M19 3H5c-1.1 0-2 .9-2 2v14c0 1.1.9 2 2 2h14c1.1 0 2-.9 2-2V5c0-1.1-.9-2-2-2zM9 17H7v-7h2v7zm4 0h-2V7h2v10zm4 0h-2v-4h2v4z\"/>\n",
              "    </g>\n",
              "</svg>\n",
              "  </button>\n",
              "\n",
              "<style>\n",
              "  .colab-df-quickchart {\n",
              "      --bg-color: #E8F0FE;\n",
              "      --fill-color: #1967D2;\n",
              "      --hover-bg-color: #E2EBFA;\n",
              "      --hover-fill-color: #174EA6;\n",
              "      --disabled-fill-color: #AAA;\n",
              "      --disabled-bg-color: #DDD;\n",
              "  }\n",
              "\n",
              "  [theme=dark] .colab-df-quickchart {\n",
              "      --bg-color: #3B4455;\n",
              "      --fill-color: #D2E3FC;\n",
              "      --hover-bg-color: #434B5C;\n",
              "      --hover-fill-color: #FFFFFF;\n",
              "      --disabled-bg-color: #3B4455;\n",
              "      --disabled-fill-color: #666;\n",
              "  }\n",
              "\n",
              "  .colab-df-quickchart {\n",
              "    background-color: var(--bg-color);\n",
              "    border: none;\n",
              "    border-radius: 50%;\n",
              "    cursor: pointer;\n",
              "    display: none;\n",
              "    fill: var(--fill-color);\n",
              "    height: 32px;\n",
              "    padding: 0;\n",
              "    width: 32px;\n",
              "  }\n",
              "\n",
              "  .colab-df-quickchart:hover {\n",
              "    background-color: var(--hover-bg-color);\n",
              "    box-shadow: 0 1px 2px rgba(60, 64, 67, 0.3), 0 1px 3px 1px rgba(60, 64, 67, 0.15);\n",
              "    fill: var(--button-hover-fill-color);\n",
              "  }\n",
              "\n",
              "  .colab-df-quickchart-complete:disabled,\n",
              "  .colab-df-quickchart-complete:disabled:hover {\n",
              "    background-color: var(--disabled-bg-color);\n",
              "    fill: var(--disabled-fill-color);\n",
              "    box-shadow: none;\n",
              "  }\n",
              "\n",
              "  .colab-df-spinner {\n",
              "    border: 2px solid var(--fill-color);\n",
              "    border-color: transparent;\n",
              "    border-bottom-color: var(--fill-color);\n",
              "    animation:\n",
              "      spin 1s steps(1) infinite;\n",
              "  }\n",
              "\n",
              "  @keyframes spin {\n",
              "    0% {\n",
              "      border-color: transparent;\n",
              "      border-bottom-color: var(--fill-color);\n",
              "      border-left-color: var(--fill-color);\n",
              "    }\n",
              "    20% {\n",
              "      border-color: transparent;\n",
              "      border-left-color: var(--fill-color);\n",
              "      border-top-color: var(--fill-color);\n",
              "    }\n",
              "    30% {\n",
              "      border-color: transparent;\n",
              "      border-left-color: var(--fill-color);\n",
              "      border-top-color: var(--fill-color);\n",
              "      border-right-color: var(--fill-color);\n",
              "    }\n",
              "    40% {\n",
              "      border-color: transparent;\n",
              "      border-right-color: var(--fill-color);\n",
              "      border-top-color: var(--fill-color);\n",
              "    }\n",
              "    60% {\n",
              "      border-color: transparent;\n",
              "      border-right-color: var(--fill-color);\n",
              "    }\n",
              "    80% {\n",
              "      border-color: transparent;\n",
              "      border-right-color: var(--fill-color);\n",
              "      border-bottom-color: var(--fill-color);\n",
              "    }\n",
              "    90% {\n",
              "      border-color: transparent;\n",
              "      border-bottom-color: var(--fill-color);\n",
              "    }\n",
              "  }\n",
              "</style>\n",
              "\n",
              "  <script>\n",
              "    async function quickchart(key) {\n",
              "      const quickchartButtonEl =\n",
              "        document.querySelector('#' + key + ' button');\n",
              "      quickchartButtonEl.disabled = true;  // To prevent multiple clicks.\n",
              "      quickchartButtonEl.classList.add('colab-df-spinner');\n",
              "      try {\n",
              "        const charts = await google.colab.kernel.invokeFunction(\n",
              "            'suggestCharts', [key], {});\n",
              "      } catch (error) {\n",
              "        console.error('Error during call to suggestCharts:', error);\n",
              "      }\n",
              "      quickchartButtonEl.classList.remove('colab-df-spinner');\n",
              "      quickchartButtonEl.classList.add('colab-df-quickchart-complete');\n",
              "    }\n",
              "    (() => {\n",
              "      let quickchartButtonEl =\n",
              "        document.querySelector('#df-32aa8dc5-cf7d-468e-96df-1cee76d9e012 button');\n",
              "      quickchartButtonEl.style.display =\n",
              "        google.colab.kernel.accessAllowed ? 'block' : 'none';\n",
              "    })();\n",
              "  </script>\n",
              "</div>\n",
              "\n",
              "    </div>\n",
              "  </div>\n"
            ],
            "application/vnd.google.colaboratory.intrinsic+json": {
              "type": "dataframe",
              "summary": "{\n  \"name\": \"raw_data\",\n  \"rows\": 6,\n  \"fields\": [\n    {\n      \"column\": \"source\",\n      \"properties\": {\n        \"dtype\": \"string\",\n        \"num_unique_values\": 6,\n        \"samples\": [\n          \"Tom started whistling a happy tune.\",\n          \"You don't need to finish it by tomorrow.\",\n          \"I'll call you right back.\"\n        ],\n        \"semantic_type\": \"\",\n        \"description\": \"\"\n      }\n    },\n    {\n      \"column\": \"target\",\n      \"properties\": {\n        \"dtype\": \"string\",\n        \"num_unique_values\": 6,\n        \"samples\": [\n          \"\\u091f\\u092e\\u0932\\u0947 \\u0938\\u0941\\u0938\\u0947\\u0932\\u0947\\u0930 \\u0916\\u0941\\u0936\\u0940\\u0915\\u094b \\u0927\\u0941\\u0928 \\u092c\\u091c\\u093e\\u0909\\u0928 \\u0925\\u093e\\u0932\\u094d\\u092f\\u094b\\u0964\",\n          \"\\u0924\\u092a\\u093e\\u0908\\u0902\\u0932\\u0947 \\u092f\\u0938\\u0932\\u093e\\u0908 \\u092d\\u094b\\u0932\\u093f\\u0938\\u092e\\u094d\\u092e \\u092a\\u0942\\u0930\\u093e \\u0917\\u0930\\u094d\\u0928 \\u0906\\u0935\\u0936\\u094d\\u092f\\u0915 \\u091b\\u0948\\u0928\\u0964\",\n          \"\\u092e \\u0924\\u093f\\u092e\\u0940\\u0932\\u093e\\u0908 \\u0924\\u0941\\u0930\\u0941\\u0928\\u094d\\u0924\\u0948 \\u092b\\u094b\\u0928 \\u0917\\u0930\\u094d\\u091b\\u0941\\u0964\"\n        ],\n        \"semantic_type\": \"\",\n        \"description\": \"\"\n      }\n    }\n  ]\n}"
            }
          },
          "metadata": {},
          "execution_count": 4
        }
      ]
    },
    {
      "cell_type": "markdown",
      "source": [
        "# Clean, Normalize and Prepare Target Sentences."
      ],
      "metadata": {
        "id": "v6zsLTwyk0-o"
      }
    },
    {
      "cell_type": "code",
      "source": [
        "import re\n",
        "import string\n",
        "import os\n",
        "from string import digits\n",
        "\n",
        "def clean_text_data(df, output_path=None):\n",
        "    \"\"\"\n",
        "    Cleans source and target text columns in a DataFrame for translation tasks.\n",
        "\n",
        "    Parameters:\n",
        "    -----------\n",
        "    df : pandas.DataFrame\n",
        "        A DataFrame with 'source' and 'target' columns.\n",
        "        - 'source': English sentences\n",
        "        - 'target': Translated Nepali sentences\n",
        "\n",
        "    output_path : str, optional\n",
        "        If provided, saves the cleaned DataFrame as CSV with 'cleaned_source' and 'cleaned_target'.\n",
        "        Will not overwrite if file already exists.\n",
        "\n",
        "    Returns:\n",
        "    --------\n",
        "    pandas.DataFrame\n",
        "        Cleaned data with minimal changes to preserve sentence meaning.\n",
        "    \"\"\"\n",
        "\n",
        "    # Lowercase both columns\n",
        "    df.source = df.source.apply(lambda x: x.lower())\n",
        "    df.target = df.target.apply(lambda x: x.lower())\n",
        "\n",
        "    # Remove stray apostrophes or quotes\n",
        "    df.source = df.source.apply(lambda x: re.sub(r\"[\\\"’‘“”']\", '', x))\n",
        "    df.target = df.target.apply(lambda x: re.sub(r\"[\\\"’‘“”']\", '', x))\n",
        "\n",
        "    # Remove digits only\n",
        "    df.source = df.source.apply(lambda x: re.sub(r\"\\d+\", '', x))\n",
        "    df.target = df.target.apply(lambda x: re.sub(r\"\\d+\", '', x))\n",
        "\n",
        "    # Normalize whitespace\n",
        "    df.source = df.source.apply(lambda x: re.sub(r\"\\s+\", \" \", x.strip()))\n",
        "    df.target = df.target.apply(lambda x: re.sub(r\"\\s+\", \" \", x.strip()))\n",
        "\n",
        "    # Add START_ and _END to target text\n",
        "    df.target = df.target.apply(lambda x: f\"START_ {x} _END\")\n",
        "\n",
        "    # Rename the cleaned columns\n",
        "    df.rename(columns={\"source\": \"cleaned_source\", \"target\": \"cleaned_target\"}, inplace=True)\n",
        "\n",
        "    # Save cleaned file (if not exists)\n",
        "    if output_path:\n",
        "        if not os.path.exists(output_path):\n",
        "            df.to_csv(output_path, index=False, encoding='utf-8')\n",
        "            print(f\"✅ Cleaned data saved to: {output_path}\")\n",
        "        else:\n",
        "            print(f\"⚠️ File already exists. Skipping save: {output_path}\")\n",
        "\n",
        "    return df\n"
      ],
      "metadata": {
        "id": "Td4wMOOPTpoZ"
      },
      "execution_count": 5,
      "outputs": []
    },
    {
      "cell_type": "code",
      "source": [
        "cleaned_data_path = os.path.join(root_path, \"cleaned_data.csv\")\n",
        "cleaned_lines = clean_text_data(raw_data, cleaned_data_path)\n",
        "# Check the column names\n",
        "print(cleaned_lines.columns)"
      ],
      "metadata": {
        "id": "UNuDm5uxk9Tj",
        "colab": {
          "base_uri": "https://localhost:8080/"
        },
        "outputId": "13aaaa16-9c29-4748-cbf8-a27cf674a844"
      },
      "execution_count": 6,
      "outputs": [
        {
          "output_type": "stream",
          "name": "stdout",
          "text": [
            "✅ Cleaned data saved to: /content/drive/MyDrive/csv/cleaned_data.csv\n",
            "Index(['cleaned_source', 'cleaned_target'], dtype='object')\n"
          ]
        }
      ]
    },
    {
      "cell_type": "markdown",
      "source": [
        "### For sanity - ReLoad the Cleaned Dataset.\n",
        "\n",
        "For consistency, we reload the dataset from the saved CSV. The earlier extraction and saving steps will not be rerun moving forward"
      ],
      "metadata": {
        "id": "QWWhQKX7-WSV"
      }
    },
    {
      "cell_type": "code",
      "source": [
        "import pandas as pd\n",
        "cleaned_data = pd.read_csv(\"/content/drive/MyDrive/csv/cleaned_data.csv\")"
      ],
      "metadata": {
        "id": "HoF5cNTL-gyd"
      },
      "execution_count": 8,
      "outputs": []
    },
    {
      "cell_type": "code",
      "source": [
        "cleaned_data.sample(6)"
      ],
      "metadata": {
        "id": "XhK2foOmqVLC",
        "colab": {
          "base_uri": "https://localhost:8080/",
          "height": 238
        },
        "outputId": "afc1a1fa-0efe-498c-df4f-611205c14434"
      },
      "execution_count": 9,
      "outputs": [
        {
          "output_type": "execute_result",
          "data": {
            "text/plain": [
              "                                cleaned_source  \\\n",
              "2077       tom covered his eyes with one hand.   \n",
              "2353  thank you very much for your suggestion.   \n",
              "976                   animals are our friends.   \n",
              "1715            tom thinks mary is over forty.   \n",
              "2078        tom doesnt care what people think.   \n",
              "1272                i want to stretch my legs.   \n",
              "\n",
              "                                         cleaned_target  \n",
              "2077       START_ टमले एक हातले आफ्नो आँखा छोप्यो। _END  \n",
              "2353  START_ तपाईको सुझावको लागि धेरै धेरै धन्यवाद। ...  \n",
              "976              START_ जनावरहरू हाम्रा साथी हुन्। _END  \n",
              "1715  START_ टमले मेरीलाई चालीस वर्ष नाघेको सोच्छ। _END  \n",
              "2078  START_ टमले मानिसहरू के सोच्छन् वास्ता गर्दैन।...  \n",
              "1272          START_ म मेरो खुट्टा फैलाउन चाहन्छु। _END  "
            ],
            "text/html": [
              "\n",
              "  <div id=\"df-454e9d6f-e485-460f-9b3c-364a76c5673d\" class=\"colab-df-container\">\n",
              "    <div>\n",
              "<style scoped>\n",
              "    .dataframe tbody tr th:only-of-type {\n",
              "        vertical-align: middle;\n",
              "    }\n",
              "\n",
              "    .dataframe tbody tr th {\n",
              "        vertical-align: top;\n",
              "    }\n",
              "\n",
              "    .dataframe thead th {\n",
              "        text-align: right;\n",
              "    }\n",
              "</style>\n",
              "<table border=\"1\" class=\"dataframe\">\n",
              "  <thead>\n",
              "    <tr style=\"text-align: right;\">\n",
              "      <th></th>\n",
              "      <th>cleaned_source</th>\n",
              "      <th>cleaned_target</th>\n",
              "    </tr>\n",
              "  </thead>\n",
              "  <tbody>\n",
              "    <tr>\n",
              "      <th>2077</th>\n",
              "      <td>tom covered his eyes with one hand.</td>\n",
              "      <td>START_ टमले एक हातले आफ्नो आँखा छोप्यो। _END</td>\n",
              "    </tr>\n",
              "    <tr>\n",
              "      <th>2353</th>\n",
              "      <td>thank you very much for your suggestion.</td>\n",
              "      <td>START_ तपाईको सुझावको लागि धेरै धेरै धन्यवाद। ...</td>\n",
              "    </tr>\n",
              "    <tr>\n",
              "      <th>976</th>\n",
              "      <td>animals are our friends.</td>\n",
              "      <td>START_ जनावरहरू हाम्रा साथी हुन्। _END</td>\n",
              "    </tr>\n",
              "    <tr>\n",
              "      <th>1715</th>\n",
              "      <td>tom thinks mary is over forty.</td>\n",
              "      <td>START_ टमले मेरीलाई चालीस वर्ष नाघेको सोच्छ। _END</td>\n",
              "    </tr>\n",
              "    <tr>\n",
              "      <th>2078</th>\n",
              "      <td>tom doesnt care what people think.</td>\n",
              "      <td>START_ टमले मानिसहरू के सोच्छन् वास्ता गर्दैन।...</td>\n",
              "    </tr>\n",
              "    <tr>\n",
              "      <th>1272</th>\n",
              "      <td>i want to stretch my legs.</td>\n",
              "      <td>START_ म मेरो खुट्टा फैलाउन चाहन्छु। _END</td>\n",
              "    </tr>\n",
              "  </tbody>\n",
              "</table>\n",
              "</div>\n",
              "    <div class=\"colab-df-buttons\">\n",
              "\n",
              "  <div class=\"colab-df-container\">\n",
              "    <button class=\"colab-df-convert\" onclick=\"convertToInteractive('df-454e9d6f-e485-460f-9b3c-364a76c5673d')\"\n",
              "            title=\"Convert this dataframe to an interactive table.\"\n",
              "            style=\"display:none;\">\n",
              "\n",
              "  <svg xmlns=\"http://www.w3.org/2000/svg\" height=\"24px\" viewBox=\"0 -960 960 960\">\n",
              "    <path d=\"M120-120v-720h720v720H120Zm60-500h600v-160H180v160Zm220 220h160v-160H400v160Zm0 220h160v-160H400v160ZM180-400h160v-160H180v160Zm440 0h160v-160H620v160ZM180-180h160v-160H180v160Zm440 0h160v-160H620v160Z\"/>\n",
              "  </svg>\n",
              "    </button>\n",
              "\n",
              "  <style>\n",
              "    .colab-df-container {\n",
              "      display:flex;\n",
              "      gap: 12px;\n",
              "    }\n",
              "\n",
              "    .colab-df-convert {\n",
              "      background-color: #E8F0FE;\n",
              "      border: none;\n",
              "      border-radius: 50%;\n",
              "      cursor: pointer;\n",
              "      display: none;\n",
              "      fill: #1967D2;\n",
              "      height: 32px;\n",
              "      padding: 0 0 0 0;\n",
              "      width: 32px;\n",
              "    }\n",
              "\n",
              "    .colab-df-convert:hover {\n",
              "      background-color: #E2EBFA;\n",
              "      box-shadow: 0px 1px 2px rgba(60, 64, 67, 0.3), 0px 1px 3px 1px rgba(60, 64, 67, 0.15);\n",
              "      fill: #174EA6;\n",
              "    }\n",
              "\n",
              "    .colab-df-buttons div {\n",
              "      margin-bottom: 4px;\n",
              "    }\n",
              "\n",
              "    [theme=dark] .colab-df-convert {\n",
              "      background-color: #3B4455;\n",
              "      fill: #D2E3FC;\n",
              "    }\n",
              "\n",
              "    [theme=dark] .colab-df-convert:hover {\n",
              "      background-color: #434B5C;\n",
              "      box-shadow: 0px 1px 3px 1px rgba(0, 0, 0, 0.15);\n",
              "      filter: drop-shadow(0px 1px 2px rgba(0, 0, 0, 0.3));\n",
              "      fill: #FFFFFF;\n",
              "    }\n",
              "  </style>\n",
              "\n",
              "    <script>\n",
              "      const buttonEl =\n",
              "        document.querySelector('#df-454e9d6f-e485-460f-9b3c-364a76c5673d button.colab-df-convert');\n",
              "      buttonEl.style.display =\n",
              "        google.colab.kernel.accessAllowed ? 'block' : 'none';\n",
              "\n",
              "      async function convertToInteractive(key) {\n",
              "        const element = document.querySelector('#df-454e9d6f-e485-460f-9b3c-364a76c5673d');\n",
              "        const dataTable =\n",
              "          await google.colab.kernel.invokeFunction('convertToInteractive',\n",
              "                                                    [key], {});\n",
              "        if (!dataTable) return;\n",
              "\n",
              "        const docLinkHtml = 'Like what you see? Visit the ' +\n",
              "          '<a target=\"_blank\" href=https://colab.research.google.com/notebooks/data_table.ipynb>data table notebook</a>'\n",
              "          + ' to learn more about interactive tables.';\n",
              "        element.innerHTML = '';\n",
              "        dataTable['output_type'] = 'display_data';\n",
              "        await google.colab.output.renderOutput(dataTable, element);\n",
              "        const docLink = document.createElement('div');\n",
              "        docLink.innerHTML = docLinkHtml;\n",
              "        element.appendChild(docLink);\n",
              "      }\n",
              "    </script>\n",
              "  </div>\n",
              "\n",
              "\n",
              "<div id=\"df-d28a9fe7-e45a-44fc-b684-1c0730493c80\">\n",
              "  <button class=\"colab-df-quickchart\" onclick=\"quickchart('df-d28a9fe7-e45a-44fc-b684-1c0730493c80')\"\n",
              "            title=\"Suggest charts\"\n",
              "            style=\"display:none;\">\n",
              "\n",
              "<svg xmlns=\"http://www.w3.org/2000/svg\" height=\"24px\"viewBox=\"0 0 24 24\"\n",
              "     width=\"24px\">\n",
              "    <g>\n",
              "        <path d=\"M19 3H5c-1.1 0-2 .9-2 2v14c0 1.1.9 2 2 2h14c1.1 0 2-.9 2-2V5c0-1.1-.9-2-2-2zM9 17H7v-7h2v7zm4 0h-2V7h2v10zm4 0h-2v-4h2v4z\"/>\n",
              "    </g>\n",
              "</svg>\n",
              "  </button>\n",
              "\n",
              "<style>\n",
              "  .colab-df-quickchart {\n",
              "      --bg-color: #E8F0FE;\n",
              "      --fill-color: #1967D2;\n",
              "      --hover-bg-color: #E2EBFA;\n",
              "      --hover-fill-color: #174EA6;\n",
              "      --disabled-fill-color: #AAA;\n",
              "      --disabled-bg-color: #DDD;\n",
              "  }\n",
              "\n",
              "  [theme=dark] .colab-df-quickchart {\n",
              "      --bg-color: #3B4455;\n",
              "      --fill-color: #D2E3FC;\n",
              "      --hover-bg-color: #434B5C;\n",
              "      --hover-fill-color: #FFFFFF;\n",
              "      --disabled-bg-color: #3B4455;\n",
              "      --disabled-fill-color: #666;\n",
              "  }\n",
              "\n",
              "  .colab-df-quickchart {\n",
              "    background-color: var(--bg-color);\n",
              "    border: none;\n",
              "    border-radius: 50%;\n",
              "    cursor: pointer;\n",
              "    display: none;\n",
              "    fill: var(--fill-color);\n",
              "    height: 32px;\n",
              "    padding: 0;\n",
              "    width: 32px;\n",
              "  }\n",
              "\n",
              "  .colab-df-quickchart:hover {\n",
              "    background-color: var(--hover-bg-color);\n",
              "    box-shadow: 0 1px 2px rgba(60, 64, 67, 0.3), 0 1px 3px 1px rgba(60, 64, 67, 0.15);\n",
              "    fill: var(--button-hover-fill-color);\n",
              "  }\n",
              "\n",
              "  .colab-df-quickchart-complete:disabled,\n",
              "  .colab-df-quickchart-complete:disabled:hover {\n",
              "    background-color: var(--disabled-bg-color);\n",
              "    fill: var(--disabled-fill-color);\n",
              "    box-shadow: none;\n",
              "  }\n",
              "\n",
              "  .colab-df-spinner {\n",
              "    border: 2px solid var(--fill-color);\n",
              "    border-color: transparent;\n",
              "    border-bottom-color: var(--fill-color);\n",
              "    animation:\n",
              "      spin 1s steps(1) infinite;\n",
              "  }\n",
              "\n",
              "  @keyframes spin {\n",
              "    0% {\n",
              "      border-color: transparent;\n",
              "      border-bottom-color: var(--fill-color);\n",
              "      border-left-color: var(--fill-color);\n",
              "    }\n",
              "    20% {\n",
              "      border-color: transparent;\n",
              "      border-left-color: var(--fill-color);\n",
              "      border-top-color: var(--fill-color);\n",
              "    }\n",
              "    30% {\n",
              "      border-color: transparent;\n",
              "      border-left-color: var(--fill-color);\n",
              "      border-top-color: var(--fill-color);\n",
              "      border-right-color: var(--fill-color);\n",
              "    }\n",
              "    40% {\n",
              "      border-color: transparent;\n",
              "      border-right-color: var(--fill-color);\n",
              "      border-top-color: var(--fill-color);\n",
              "    }\n",
              "    60% {\n",
              "      border-color: transparent;\n",
              "      border-right-color: var(--fill-color);\n",
              "    }\n",
              "    80% {\n",
              "      border-color: transparent;\n",
              "      border-right-color: var(--fill-color);\n",
              "      border-bottom-color: var(--fill-color);\n",
              "    }\n",
              "    90% {\n",
              "      border-color: transparent;\n",
              "      border-bottom-color: var(--fill-color);\n",
              "    }\n",
              "  }\n",
              "</style>\n",
              "\n",
              "  <script>\n",
              "    async function quickchart(key) {\n",
              "      const quickchartButtonEl =\n",
              "        document.querySelector('#' + key + ' button');\n",
              "      quickchartButtonEl.disabled = true;  // To prevent multiple clicks.\n",
              "      quickchartButtonEl.classList.add('colab-df-spinner');\n",
              "      try {\n",
              "        const charts = await google.colab.kernel.invokeFunction(\n",
              "            'suggestCharts', [key], {});\n",
              "      } catch (error) {\n",
              "        console.error('Error during call to suggestCharts:', error);\n",
              "      }\n",
              "      quickchartButtonEl.classList.remove('colab-df-spinner');\n",
              "      quickchartButtonEl.classList.add('colab-df-quickchart-complete');\n",
              "    }\n",
              "    (() => {\n",
              "      let quickchartButtonEl =\n",
              "        document.querySelector('#df-d28a9fe7-e45a-44fc-b684-1c0730493c80 button');\n",
              "      quickchartButtonEl.style.display =\n",
              "        google.colab.kernel.accessAllowed ? 'block' : 'none';\n",
              "    })();\n",
              "  </script>\n",
              "</div>\n",
              "\n",
              "    </div>\n",
              "  </div>\n"
            ],
            "application/vnd.google.colaboratory.intrinsic+json": {
              "type": "dataframe",
              "summary": "{\n  \"name\": \"cleaned_data\",\n  \"rows\": 6,\n  \"fields\": [\n    {\n      \"column\": \"cleaned_source\",\n      \"properties\": {\n        \"dtype\": \"string\",\n        \"num_unique_values\": 6,\n        \"samples\": [\n          \"tom covered his eyes with one hand.\",\n          \"thank you very much for your suggestion.\",\n          \"i want to stretch my legs.\"\n        ],\n        \"semantic_type\": \"\",\n        \"description\": \"\"\n      }\n    },\n    {\n      \"column\": \"cleaned_target\",\n      \"properties\": {\n        \"dtype\": \"string\",\n        \"num_unique_values\": 6,\n        \"samples\": [\n          \"START_ \\u091f\\u092e\\u0932\\u0947 \\u090f\\u0915 \\u0939\\u093e\\u0924\\u0932\\u0947 \\u0906\\u092b\\u094d\\u0928\\u094b \\u0906\\u0901\\u0916\\u093e \\u091b\\u094b\\u092a\\u094d\\u092f\\u094b\\u0964 _END\",\n          \"START_ \\u0924\\u092a\\u093e\\u0908\\u0915\\u094b \\u0938\\u0941\\u091d\\u093e\\u0935\\u0915\\u094b \\u0932\\u093e\\u0917\\u093f \\u0927\\u0947\\u0930\\u0948 \\u0927\\u0947\\u0930\\u0948 \\u0927\\u0928\\u094d\\u092f\\u0935\\u093e\\u0926\\u0964 _END\",\n          \"START_ \\u092e \\u092e\\u0947\\u0930\\u094b \\u0916\\u0941\\u091f\\u094d\\u091f\\u093e \\u092b\\u0948\\u0932\\u093e\\u0909\\u0928 \\u091a\\u093e\\u0939\\u0928\\u094d\\u091b\\u0941\\u0964 _END\"\n        ],\n        \"semantic_type\": \"\",\n        \"description\": \"\"\n      }\n    }\n  ]\n}"
            }
          },
          "metadata": {},
          "execution_count": 9
        }
      ]
    },
    {
      "cell_type": "markdown",
      "source": [
        "### Vocabulary Extractions:\n",
        "\n",
        "We put all the words from source[English] to a list called source vocabulary.\n",
        "\n",
        "We put all the words from target[Nepali] to a list called target vocabulary."
      ],
      "metadata": {
        "id": "Ut9i92t7KY3O"
      }
    },
    {
      "cell_type": "code",
      "source": [
        "import numpy as np\n",
        "from sklearn.model_selection import train_test_split\n",
        "from sklearn.utils import shuffle\n",
        "from tensorflow.keras.preprocessing.sequence import pad_sequences\n",
        "from collections import Counter"
      ],
      "metadata": {
        "id": "qyaATqM2KktN"
      },
      "execution_count": 10,
      "outputs": []
    },
    {
      "cell_type": "code",
      "source": [
        "all_source_words = set()\n",
        "for source in cleaned_data.cleaned_source:\n",
        "    for word in source.split():\n",
        "        all_source_words.add(word)\n",
        "\n",
        "all_target_words = set()\n",
        "for target in cleaned_data.cleaned_target:\n",
        "    for word in target.split():\n",
        "        all_target_words.add(word)\n",
        "\n",
        "source_words = sorted(list(all_source_words))\n",
        "target_words = sorted(list(all_target_words))\n",
        "print(len(target_words))"
      ],
      "metadata": {
        "id": "BtOrOwZNKovd",
        "colab": {
          "base_uri": "https://localhost:8080/"
        },
        "outputId": "e0ea386b-ca7d-4d78-9c23-0dde2753b6ba"
      },
      "execution_count": 11,
      "outputs": [
        {
          "output_type": "stream",
          "name": "stdout",
          "text": [
            "3269\n"
          ]
        }
      ]
    },
    {
      "cell_type": "markdown",
      "source": [
        "### Sentence Length Calculation:\n",
        "\n",
        "Finding longest sentence both in Source and Target.\n",
        "\n"
      ],
      "metadata": {
        "id": "e5ooa8XbK-am"
      }
    },
    {
      "cell_type": "code",
      "source": [
        "#Find maximum sentence length in  the source and target data\n",
        "source_length_list=[]\n",
        "for l in cleaned_data.cleaned_source:\n",
        "    source_length_list.append(len(l.split(' ')))\n",
        "max_source_length= max(source_length_list)\n",
        "print(\" Max length of the source sentence\",max_source_length)\n",
        "target_length_list=[]\n",
        "for l in cleaned_data.cleaned_target:\n",
        "    target_length_list.append(len(l.split(' ')))\n",
        "max_target_length= max(target_length_list)\n",
        "print(\" Max length of the target sentence\",max_target_length)"
      ],
      "metadata": {
        "id": "ELDp7Pn8LLP9",
        "colab": {
          "base_uri": "https://localhost:8080/"
        },
        "outputId": "d2469d6e-9c8e-4ed4-f793-26f4d46af1fb"
      },
      "execution_count": 12,
      "outputs": [
        {
          "output_type": "stream",
          "name": "stdout",
          "text": [
            " Max length of the source sentence 25\n",
            " Max length of the target sentence 22\n"
          ]
        }
      ]
    },
    {
      "cell_type": "markdown",
      "source": [
        "### Word - to - Index and Index - to - Word Mapping\n",
        "\n",
        "Creating a Look Up table.\n",
        "  1.   We create a dicitionary word2indx both for source and target.\n",
        "  2.   We will also Creata reverse dicitionary indx2word for both source and target.\n",
        "\n"
      ],
      "metadata": {
        "id": "Qv4OOttaK-nm"
      }
    },
    {
      "cell_type": "code",
      "source": [
        "# Define special tokens\n",
        "PAD_TOKEN = '<PAD>'\n",
        "UNK_TOKEN = '<UNK>'\n",
        "\n",
        "# Create word-to-index dictionaries\n",
        "source_word2idx = {PAD_TOKEN: 0, UNK_TOKEN: 1} | dict([(word, i+2) for i, word in enumerate(source_words)])\n",
        "target_word2idx = {PAD_TOKEN: 0, UNK_TOKEN: 1} | dict([(word, i+2) for i, word in enumerate(target_words)])\n",
        "\n",
        "# Create index-to-word dictionaries\n",
        "source_idx2word = {i: word for word, i in source_word2idx.items()}\n",
        "target_idx2word = {i: word for word, i in target_word2idx.items()}\n",
        "\n",
        "# Check if the dictionaries have been properly created\n",
        "print(source_word2idx)\n",
        "print(len(target_word2idx))\n",
        "print(source_idx2word)\n",
        "print(len(target_idx2word))"
      ],
      "metadata": {
        "id": "XvNuXHq1P-oU",
        "colab": {
          "base_uri": "https://localhost:8080/"
        },
        "outputId": "0ebf5a25-cf8b-4d2e-a7a4-6c93ced5009a"
      },
      "execution_count": 13,
      "outputs": [
        {
          "output_type": "stream",
          "name": "stdout",
          "text": [
            "{'<PAD>': 0, '<UNK>': 1, ',': 2, '.': 3, ':': 4, ':.': 5, '?': 6, 'a': 7, 'able': 8, 'aboard.': 9, 'about': 10, 'about?': 11, 'above': 12, 'abroad': 13, 'abroad.': 14, 'abused': 15, 'accept': 16, 'accept.': 17, 'accepted': 18, 'accident.': 19, 'accountant?': 20, 'accurate': 21, 'accurately': 22, 'across': 23, 'act': 24, 'active.': 25, 'actor?': 26, 'actually': 27, 'actually,': 28, 'add?': 29, 'addict.': 30, 'address.': 31, 'admit': 32, 'admitted': 33, 'advance': 34, 'advance.': 35, 'adventures': 36, 'advice,': 37, 'advice.': 38, 'afraid': 39, 'after': 40, 'afternoon.': 41, 'afternoon?': 42, 'again': 43, 'again,': 44, 'again.': 45, 'again?': 46, 'age.': 47, 'aggressive.': 48, 'ago.': 49, 'agree': 50, 'agreed': 51, 'ahead': 52, 'airport': 53, 'alcohol?': 54, 'alice': 55, 'all': 56, 'all.': 57, 'all?': 58, 'allergic': 59, 'allergies.': 60, 'allowed': 61, 'almost': 62, 'alone': 63, 'alone!': 64, 'alone.': 65, 'alone?': 66, 'along': 67, 'already': 68, 'also': 69, 'alternative.': 70, 'always': 71, 'am': 72, 'am.': 73, 'amazing': 74, 'amazing.': 75, 'ambitious.': 76, 'amusing': 77, 'an': 78, 'ancient': 79, 'and': 80, 'angry.': 81, 'animal.': 82, 'animals': 83, 'animals.': 84, 'announced': 85, 'annoying': 86, 'another': 87, 'answer': 88, 'answer.': 89, 'answer?': 90, 'answered.': 91, 'any': 92, 'anybody': 93, 'anybody.': 94, 'anymore.': 95, 'anyone': 96, 'anyone.': 97, 'anything': 98, 'anything.': 99, 'anything?': 100, 'anyway.': 101, 'anyway?': 102, 'anywhere': 103, 'anywhere.': 104, 'apart.': 105, 'apartment': 106, 'apartment.': 107, 'apologize': 108, 'apologize.': 109, 'apologized.': 110, 'appearance.': 111, 'apple': 112, 'apple.': 113, 'apples,': 114, 'apples.': 115, 'application': 116, 'appreciate': 117, 'approved.': 118, 'are': 119, 'are!': 120, 'are.': 121, 'arent': 122, 'argued': 123, 'arizona.': 124, 'arm.': 125, 'army': 126, 'around': 127, 'arrive': 128, 'artist.': 129, 'as': 130, 'ask': 131, 'ask.': 132, 'ask?': 133, 'asked': 134, 'asleep.': 135, 'asleep?': 136, 'assume': 137, 'assure': 138, 'at': 139, 'ate': 140, 'attack!': 141, 'attackers': 142, 'attend': 143, 'attention.': 144, 'attitude.': 145, 'attractive.': 146, 'aunts': 147, 'australia': 148, 'australia,': 149, 'australia.': 150, 'australia?': 151, 'awards.': 152, 'aware': 153, 'away': 154, 'away.': 155, 'awful': 156, 'awkward.': 157, 'b.': 158, 'baby.': 159, 'back': 160, 'back.': 161, 'back?': 162, 'backpack.': 163, 'bad': 164, 'bad?': 165, 'badly.': 166, 'bag': 167, 'bags': 168, 'baking': 169, 'ball.': 170, 'bananas': 171, 'bananas.': 172, 'bangkok': 173, 'bank': 174, 'banker?': 175, 'bankrupt.': 176, 'barking.': 177, 'barks': 178, 'basement.': 179, 'bath': 180, 'bath.': 181, 'batteries.': 182, 'bazaar.': 183, 'be': 184, 'be.': 185, 'be?': 186, 'beans.': 187, 'bear': 188, 'beat': 189, 'beautiful': 190, 'beautiful.': 191, 'beauty': 192, 'became': 193, 'because': 194, 'become': 195, 'bed': 196, 'bed.': 197, 'bee.': 198, 'beef.': 199, 'beef?': 200, 'been': 201, 'beer,': 202, 'beer.': 203, 'beers': 204, 'beers,': 205, 'before': 206, 'before.': 207, 'began': 208, 'begin?': 209, 'beginning': 210, 'begins': 211, 'behave': 212, 'behind': 213, 'beholder.': 214, 'beijing': 215, 'being': 216, 'belgium.': 217, 'believe': 218, 'believed': 219, 'believing': 220, 'bell?': 221, 'below': 222, 'benefits': 223, 'berlin': 224, 'bern': 225, 'best': 226, 'best-selling': 227, 'best.': 228, 'best?': 229, 'bet': 230, 'better': 231, 'better.': 232, 'between': 233, 'bicycle': 234, 'bicycle.': 235, 'bicycle?': 236, 'big': 237, 'bigger.': 238, 'biggest': 239, 'billionaire,': 240, 'billionaires': 241, 'biologist.': 242, 'bird': 243, 'birthday': 244, 'birthday!': 245, 'birthday,': 246, 'birthday.': 247, 'bit': 248, 'bit.': 249, 'bitten': 250, 'bitter.': 251, 'black': 252, 'black.': 253, 'blackboard.': 254, 'blame': 255, 'blames': 256, 'blank.': 257, 'blew': 258, 'blocked': 259, 'blossoms?': 260, 'blue': 261, 'blue.': 262, 'boat.': 263, 'body.': 264, 'book': 265, 'book.': 266, 'booked.': 267, 'booklet': 268, 'books': 269, 'books.': 270, 'bored': 271, 'bored.': 272, 'born': 273, 'born.': 274, 'born?': 275, 'borrow': 276, 'borrowed': 277, 'boston': 278, 'boston.': 279, 'boston?': 280, 'both': 281, 'bother.': 282, 'bottle': 283, 'bottles': 284, 'bought': 285, 'bowline.': 286, 'box.': 287, 'boxes': 288, 'boxing': 289, 'boy.': 290, 'boyfriend': 291, 'boyfriend.': 292, 'boyfriends': 293, 'boys': 294, 'boys.': 295, 'brasilia.': 296, 'brave.': 297, 'braver': 298, 'brazil': 299, 'brazil.': 300, 'bread.': 301, 'bread?': 302, 'break': 303, 'breakfast': 304, 'breakfast.': 305, 'breathe': 306, 'bridge': 307, 'bridge.': 308, 'briefcase.': 309, 'bright': 310, 'bring': 311, 'british': 312, 'broke': 313, 'broke.': 314, 'broken.': 315, 'brother': 316, 'brother.': 317, 'brother?': 318, 'brothers.': 319, 'brought': 320, 'brown': 321, 'brussels': 322, 'bug.': 323, 'bugs.': 324, 'build': 325, 'build.': 326, 'building?': 327, 'buildings.': 328, 'bull.': 329, 'bullfighting?': 330, 'burned': 331, 'bus': 332, 'bus.': 333, 'business': 334, 'busy': 335, 'busy.': 336, 'but': 337, 'buy': 338, 'buy?': 339, 'buying': 340, 'buys': 341, 'by': 342, 'by.': 343, 'c.': 344, 'cab.': 345, 'cake': 346, 'cake,': 347, 'cake.': 348, 'cake?': 349, 'calculator.': 350, 'call': 351, 'call.': 352, 'called': 353, 'calling': 354, 'calm.': 355, 'came': 356, 'came.': 357, 'camera.': 358, 'cameras.': 359, 'can': 360, 'can.': 361, 'canada.': 362, 'canadian': 363, 'canadian.': 364, 'canals.': 365, 'canaries.': 366, 'candle.': 367, 'candy.': 368, 'cannot': 369, 'cant': 370, 'cap.': 371, 'capital': 372, 'capital.': 373, 'captain.': 374, 'car': 375, 'car.': 376, 'car?': 377, 'card.': 378, 'cards.': 379, 'care': 380, 'care,': 381, 'careful.': 382, 'carefully.': 383, 'careless?': 384, 'cares': 385, 'cars': 386, 'cars.': 387, 'cash.': 388, 'cat': 389, 'cat.': 390, 'cats': 391, 'causing': 392, 'cave.': 393, 'celebrate.': 394, 'cell': 395, 'center': 396, 'certain': 397, 'certain.': 398, 'chair': 399, 'chair.': 400, 'challenge': 401, 'chance': 402, 'chance.': 403, 'change': 404, 'change.': 405, 'changed': 406, 'changes.': 407, 'character': 408, 'charismatic': 409, 'charity.': 410, 'chased': 411, 'cheap': 412, 'cheap,': 413, 'cheap.': 414, 'cheaper.': 415, 'checked.': 416, 'cheerful': 417, 'cheese.': 418, 'chemistry': 419, 'cherry': 420, 'chess': 421, 'chess?': 422, 'chicago.': 423, 'chicago?': 424, 'chicken.': 425, 'chicken?': 426, 'children': 427, 'china.': 428, 'chinese.': 429, 'chocolate.': 430, 'choice.': 431, 'choose': 432, 'chopsticks.': 433, 'chose': 434, 'christmas': 435, 'christmas!': 436, 'christmas.': 437, 'chubby': 438, 'chubby.': 439, 'citizen,': 440, 'citizens.': 441, 'city.': 442, 'claims': 443, 'clap?': 444, 'class.': 445, 'classes,': 446, 'classmates.': 447, 'classroom': 448, 'cleaning': 449, 'clear': 450, 'clear.': 451, 'clearly.': 452, 'climate': 453, 'climb': 454, 'climbed': 455, 'clogs': 456, 'close': 457, 'close.': 458, 'close?': 459, 'closed': 460, 'closed.': 461, 'clothes': 462, 'clothes.': 463, 'clothing': 464, 'clouds.': 465, 'club.': 466, 'coach.': 467, 'coat.': 468, 'coffee': 469, 'coffee.': 470, 'coin': 471, 'coins.': 472, 'coke,': 473, 'cold': 474, 'cold.': 475, 'colder': 476, 'colleagues?': 477, 'collect': 478, 'college?': 479, 'color': 480, 'colors.': 481, 'come': 482, 'come?': 483, 'comes': 484, 'comfort.': 485, 'comfortable.': 486, 'coming': 487, 'coming.': 488, 'communication.': 489, 'companies': 490, 'company.': 491, 'compare': 492, 'competent.': 493, 'competitive.': 494, 'complain.': 495, 'complained': 496, 'complaints.': 497, 'complex.': 498, 'complicated.': 499, 'computer': 500, 'conceive': 501, 'concentrate': 502, 'concerned': 503, 'concert': 504, 'conference': 505, 'confused.': 506, 'confusing': 507, 'congratulations!': 508, 'cons.': 509, 'conservative.': 510, 'constant': 511, 'contact': 512, 'continue': 513, 'continue.': 514, 'contribute': 515, 'control.': 516, 'convalescing': 517, 'convince': 518, 'convinced': 519, 'convincing.': 520, 'cook': 521, 'cook.': 522, 'cookbooks.': 523, 'cooked?': 524, 'cookie.': 525, 'cookies.': 526, 'cooking.': 527, 'cooking?': 528, 'cool': 529, 'cooler': 530, 'cooperative.': 531, 'correct': 532, 'correct?': 533, 'cost': 534, 'cost?': 535, 'cough': 536, 'could': 537, 'couldnt': 538, 'countries': 539, 'countries.': 540, 'couple': 541, 'couple?': 542, 'courageous.': 543, 'cousins.': 544, 'covered': 545, 'cows': 546, 'crackers.': 547, 'cranky.': 548, 'crazy.': 549, 'cream.': 550, 'creative.': 551, 'cried?': 552, 'criminal.': 553, 'crowded': 554, 'cry': 555, 'cry.': 556, 'crying.': 557, 'cultures.': 558, 'cup': 559, 'cure': 560, 'curious.': 561, 'curry': 562, 'cut': 563, 'cycling.': 564, 'dad': 565, 'dad.': 566, 'daiquiri.': 567, 'damaged': 568, 'dance': 569, 'dance,': 570, 'danced': 571, 'danced.': 572, 'dangerous': 573, 'dark': 574, 'dark.': 575, 'darker': 576, 'date': 577, 'dating': 578, 'daughter.': 579, 'daughters': 580, 'day': 581, 'day!': 582, 'day.': 583, 'day?': 584, 'days': 585, 'days.': 586, 'days?': 587, 'dazed': 588, 'dead': 589, 'dead.': 590, 'deal.': 591, 'debt.': 592, 'debt?': 593, 'decide': 594, 'decide.': 595, 'decided': 596, 'decided.': 597, 'deeply.': 598, 'defeat': 599, 'defeated.': 600, 'definitely': 601, 'degree.': 602, 'delete': 603, 'delicious.': 604, 'delightful.': 605, 'depend': 606, 'derailed': 607, 'deserve': 608, 'desk.': 609, 'dessert.': 610, 'dessert?': 611, 'destroyed': 612, 'details.': 613, 'detained': 614, 'detergent.': 615, 'developed': 616, 'did': 617, 'did.': 618, 'didnt': 619, 'die': 620, 'died': 621, 'died.': 622, 'dieting.': 623, 'difference': 624, 'difficult': 625, 'difficult.': 626, 'dinner.': 627, 'director.': 628, 'disappeared': 629, 'disappointed?': 630, 'disco': 631, 'discussed': 632, 'dishes.': 633, 'disliked': 634, 'distance': 635, 'divorced.': 636, 'do': 637, 'do,': 638, 'do.': 639, 'do?': 640, 'doctor': 641, 'doctor,': 642, 'doctor.': 643, 'doctors.': 644, 'does': 645, 'does.': 646, 'doesnt': 647, 'doesnt.': 648, 'dog': 649, 'dog,': 650, 'dog.': 651, 'dogs.': 652, 'doing': 653, 'doing.': 654, 'dollars': 655, 'dollars!': 656, 'dollars.': 657, 'done': 658, 'done.': 659, 'dont': 660, 'door': 661, 'door.': 662, 'door?': 663, 'doors.': 664, 'doubt': 665, 'down': 666, 'down.': 667, 'downloaded': 668, 'downstairs': 669, 'downstairs.': 670, 'drank': 671, 'drank,': 672, 'draw': 673, 'drawer': 674, 'dream': 675, 'dream.': 676, 'dress': 677, 'dress.': 678, 'drink': 679, 'drink.': 680, 'drink?': 681, 'drinking': 682, 'drinks': 683, 'drive': 684, 'drive.': 685, 'driver': 686, 'driver.': 687, 'driving': 688, 'driving?': 689, 'drops?': 690, 'drugs.': 691, 'drummer': 692, 'drunk': 693, 'drunk.': 694, 'ducks': 695, 'dumb.': 696, 'durian.': 697, 'duties?': 698, 'dying': 699, 'dying.': 700, 'each': 701, 'earlier': 702, 'earned': 703, 'easier.': 704, 'easily.': 705, 'easy': 706, 'easy.': 707, 'eat': 708, 'eat.': 709, 'eat?': 710, 'eaten': 711, 'eating': 712, 'eating.': 713, 'eats': 714, 'egg': 715, 'eggs': 716, 'egypt.': 717, 'eight.': 718, 'eighteen': 719, 'eighteen.': 720, 'either': 721, 'elderly.': 722, 'else': 723, 'else.': 724, 'emphasize': 725, 'empty': 726, 'empty.': 727, 'encourage': 728, 'enemy': 729, 'engine.': 730, 'england.': 731, 'english': 732, 'english.': 733, 'english?': 734, 'enjoy': 735, 'enjoyed': 736, 'enjoying': 737, 'enough': 738, 'enough.': 739, 'enter': 740, 'error.': 741, 'escaped': 742, 'especially': 743, 'essay.': 744, 'even': 745, 'evening.': 746, 'evening?': 747, 'ever': 748, 'ever.': 749, 'everest': 750, 'everest.': 751, 'every': 752, 'everybody': 753, 'everybody.': 754, 'everyone': 755, 'everyone!': 756, 'everyone.': 757, 'everything': 758, 'everything.': 759, 'everything?': 760, 'everythings': 761, 'everywhere.': 762, 'exactly': 763, 'exam': 764, 'example?': 765, 'exams': 766, 'excellent.': 767, 'except': 768, 'exceptions.': 769, 'exchange': 770, 'exchanging': 771, 'excited.': 772, 'exciting.': 773, 'excuse': 774, 'exercise.': 775, 'exist.': 776, 'expect': 777, 'expect.': 778, 'expected': 779, 'expecting': 780, 'expensive': 781, 'explain': 782, 'explosion': 783, 'express': 784, 'extra': 785, 'extremely': 786, 'eye': 787, 'eyes': 788, 'eyes.': 789, 'eyesight.': 790, 'face': 791, 'face.': 792, 'facing': 793, 'fact': 794, 'facts!': 795, 'fake.': 796, 'fall.': 797, 'fall?': 798, 'fallen': 799, 'falling.': 800, 'family': 801, 'family.': 802, 'famous': 803, 'famous.': 804, 'famous?': 805, 'far': 806, 'far.': 807, 'far?': 808, 'fast': 809, 'fast.': 810, 'faster': 811, 'faster.': 812, 'father': 813, 'father.': 814, 'fathers': 815, 'fault?': 816, 'favor.': 817, 'favorite': 818, 'february': 819, 'feel': 820, 'feeling': 821, 'feeling.': 822, 'feels': 823, 'fell': 824, 'felt': 825, 'few': 826, 'fight': 827, 'fight.': 828, 'figure': 829, 'files.': 830, 'filled': 831, 'final': 832, 'finally': 833, 'financial': 834, 'find': 835, 'fine,': 836, 'finish': 837, 'finish.': 838, 'finished': 839, 'finished.': 840, 'finland.': 841, 'fire': 842, 'fire.': 843, 'first': 844, 'first.': 845, 'fish': 846, 'fish.': 847, 'fish?': 848, 'fishing.': 849, 'five': 850, 'five.': 851, 'fix': 852, 'fixed': 853, 'flashlight': 854, 'flew': 855, 'flowers': 856, 'flowers.': 857, 'flown?': 858, 'fluently?': 859, 'fly': 860, 'fog.': 861, 'folk': 862, 'follow': 863, 'food': 864, 'food.': 865, 'food?': 866, 'foolish.': 867, 'foot.': 868, 'for': 869, 'for,': 870, 'for.': 871, 'for?': 872, 'foreign': 873, 'foreigner.': 874, 'foreigners?': 875, 'forever': 876, 'forget': 877, 'forget.': 878, 'forgive': 879, 'forgot': 880, 'forgot.': 881, 'forgotten': 882, 'former': 883, 'fortune': 884, 'forty.': 885, 'forward': 886, 'found': 887, 'fountain': 888, 'four': 889, 'france.': 890, 'free': 891, 'french': 892, 'french,': 893, 'french.': 894, 'french?': 895, 'fresh': 896, 'freshman.': 897, 'fried': 898, 'friend': 899, 'friend.': 900, 'friendly': 901, 'friendly.': 902, 'friends': 903, 'friends.': 904, 'fries.': 905, 'from': 906, 'from?': 907, 'front': 908, 'fruit.': 909, 'fuji': 910, 'fuji.': 911, 'full': 912, 'full.': 913, 'fully': 914, 'fun': 915, 'fun.': 916, 'funny': 917, 'funny.': 918, 'further.': 919, 'fuse?': 920, 'future.': 921, 'future?': 922, 'game': 923, 'game?': 924, 'games.': 925, 'gas.': 926, 'gate': 927, 'gate.': 928, 'gave': 929, 'generally': 930, 'gentle': 931, 'gentleman.': 932, 'germany': 933, 'germany.': 934, 'get': 935, 'get,': 936, 'gets': 937, 'getting': 938, 'ghosts': 939, 'gift.': 940, 'gingerbread.': 941, 'girl': 942, 'girl.': 943, 'girlfriend': 944, 'girlfriend.': 945, 'girls': 946, 'give': 947, 'glad': 948, 'glasses.': 949, 'go': 950, 'go,': 951, 'go.': 952, 'go?': 953, 'goal.': 954, 'godmother.': 955, 'goes': 956, 'going': 957, 'going?': 958, 'gold': 959, 'golf?': 960, 'gone': 961, 'gone.': 962, 'gone?': 963, 'good': 964, 'good-looking.': 965, 'good.': 966, 'goodbye.': 967, 'got': 968, 'gotten': 969, 'grabbed': 970, 'grade.': 971, 'gradually,': 972, 'graduated': 973, 'grammar': 974, 'grandfather': 975, 'grandmother': 976, 'grass.': 977, 'grateful': 978, 'great': 979, 'great-grandmother.': 980, 'greatest': 981, 'grew': 982, 'group': 983, 'grow': 984, 'grows': 985, 'guess': 986, 'guess.': 987, 'guide.': 988, 'guilty': 989, 'guitar.': 990, 'gun.': 991, 'guy,': 992, 'guy.': 993, 'guys': 994, 'habits?': 995, 'had': 996, 'hadnt': 997, 'hair.': 998, 'haircut,': 999, 'half': 1000, 'half-brother.': 1001, 'halloween': 1002, 'hamburgers': 1003, 'hammer?': 1004, 'hand': 1005, 'hand.': 1006, 'handle': 1007, 'hands': 1008, 'hands.': 1009, 'happen': 1010, 'happen,': 1011, 'happen?': 1012, 'happened': 1013, 'happened.': 1014, 'happening': 1015, 'happens.': 1016, 'happy': 1017, 'happy.': 1018, 'hard': 1019, 'hard.': 1020, 'harvard.': 1021, 'has': 1022, 'hasnt': 1023, 'hat': 1024, 'hat,': 1025, 'hat.': 1026, 'hate': 1027, 'hated': 1028, 'hates': 1029, 'haunted.': 1030, 'have': 1031, 'have.': 1032, 'havent': 1033, 'having': 1034, 'hayashi': 1035, 'he': 1036, 'he?': 1037, 'head': 1038, 'headache': 1039, 'headache.': 1040, 'headed': 1041, 'headline': 1042, 'health': 1043, 'healthy': 1044, 'hear': 1045, 'heard': 1046, 'heart.': 1047, 'heat.': 1048, 'heaven.': 1049, 'heavier,': 1050, 'heavy.': 1051, 'hed': 1052, 'heights.': 1053, 'hello!': 1054, 'help': 1055, 'help.': 1056, 'help?': 1057, 'helped': 1058, 'helpful.': 1059, 'helping': 1060, 'helsinki': 1061, 'her': 1062, 'her.': 1063, 'here': 1064, 'here,': 1065, 'here.': 1066, 'here?': 1067, 'herself?': 1068, 'hes': 1069, 'hi,': 1070, 'hiccups.': 1071, 'hidden': 1072, 'hide.': 1073, 'hiding': 1074, 'high': 1075, 'highest': 1076, 'highly': 1077, 'hiking.': 1078, 'him': 1079, 'him.': 1080, 'himself': 1081, 'himself.': 1082, 'hippopotamus': 1083, 'hire': 1084, 'his': 1085, 'history': 1086, 'history!': 1087, 'hit': 1088, 'hobby.': 1089, 'hold': 1090, 'holding': 1091, 'holiday': 1092, 'home': 1093, 'home.': 1094, 'homework': 1095, 'homework.': 1096, 'honestly.': 1097, 'hope': 1098, 'hoping': 1099, 'horizon.': 1100, 'hospital': 1101, 'hospital,': 1102, 'hospital.': 1103, 'hot': 1104, 'hotel.': 1105, 'hour.': 1106, 'hours': 1107, 'hours.': 1108, 'house': 1109, 'house.': 1110, 'house?': 1111, 'houses': 1112, 'how': 1113, 'hows': 1114, 'human.': 1115, 'humiliating.': 1116, 'hunger.': 1117, 'hungry,': 1118, 'hungry.': 1119, 'hunting.': 1120, 'hurry': 1121, 'hurry.': 1122, 'hurt': 1123, 'hurt.': 1124, 'hurts.': 1125, 'husband.': 1126, 'husbands': 1127, 'i': 1128, 'i?': 1129, 'ice': 1130, 'id': 1131, 'idea': 1132, 'idea.': 1133, 'ideas': 1134, 'ideas.': 1135, 'identify': 1136, 'if': 1137, 'ignore': 1138, 'ill': 1139, 'ill.': 1140, 'im': 1141, 'im,': 1142, 'imagining': 1143, 'immediately.': 1144, 'import': 1145, 'important': 1146, 'important.': 1147, 'impossible.': 1148, 'impress': 1149, 'impressed.': 1150, 'impressive.': 1151, 'improve': 1152, 'in': 1153, 'in.': 1154, 'in?': 1155, 'incentive.': 1156, 'including': 1157, 'india.': 1158, 'inevitable.': 1159, 'influential.': 1160, 'injured.': 1161, 'insects.': 1162, 'insecure': 1163, 'inside.': 1164, 'instead.': 1165, 'intelligent': 1166, 'intends': 1167, 'interested': 1168, 'interested.': 1169, 'interesting': 1170, 'internet.': 1171, 'intersection.': 1172, 'into': 1173, 'involved': 1174, 'involved.': 1175, 'irish': 1176, 'iron': 1177, 'is': 1178, 'is.': 1179, 'is?': 1180, 'island.': 1181, 'isnt': 1182, 'isnt.': 1183, 'issues?': 1184, 'it': 1185, 'it,': 1186, 'it.': 1187, 'it?': 1188, 'italy': 1189, 'itll': 1190, 'its': 1191, 'ive': 1192, 'jackson': 1193, 'jackson.': 1194, 'jackson?': 1195, 'jail.': 1196, 'japan': 1197, 'japan.': 1198, 'japanese': 1199, 'japanese.': 1200, 'japanese?': 1201, 'jazz.': 1202, 'jealous,': 1203, 'jeans.': 1204, 'job': 1205, 'job.': 1206, 'jobs': 1207, 'john.': 1208, 'join': 1209, 'joined': 1210, 'joke': 1211, 'joke,': 1212, 'judged': 1213, 'juice.': 1214, 'july.': 1215, 'jumped': 1216, 'just': 1217, 'keep': 1218, 'kept': 1219, 'ketchup': 1220, 'key.': 1221, 'keys': 1222, 'kid': 1223, 'kid.': 1224, 'kidding!': 1225, 'kids': 1226, 'kids,': 1227, 'killed': 1228, 'killed.': 1229, 'kilometers': 1230, 'kind': 1231, 'kind.': 1232, 'king': 1233, 'kiss': 1234, 'kissed': 1235, 'kite.': 1236, 'kitten.': 1237, 'knew': 1238, 'knife': 1239, 'knocked': 1240, 'know': 1241, 'know,': 1242, 'know.': 1243, 'knowing': 1244, 'known': 1245, 'knows': 1246, 'knows.': 1247, 'korean': 1248, 'kosher': 1249, 'kyiv': 1250, 'kyiv.': 1251, 'lamp': 1252, 'language': 1253, 'language.': 1254, 'languages': 1255, 'languages,': 1256, 'languages.': 1257, 'laptop': 1258, 'laptop,': 1259, 'laptop?': 1260, 'large': 1261, 'large.': 1262, 'larger': 1263, 'larger.': 1264, 'last': 1265, 'late': 1266, 'late.': 1267, 'lately?': 1268, 'later?': 1269, 'latin.': 1270, 'laugh.': 1271, 'laughing.': 1272, 'laughs': 1273, 'laughter.': 1274, 'laundry': 1275, 'law': 1276, 'lazy.': 1277, 'lead': 1278, 'learn': 1279, 'learn.': 1280, 'learned': 1281, 'learning': 1282, 'least': 1283, 'leather.': 1284, 'leave': 1285, 'leave.': 1286, 'leaves': 1287, 'leaving': 1288, 'left': 1289, 'left.': 1290, 'legs.': 1291, 'lend': 1292, 'lent': 1293, 'let': 1294, 'lets': 1295, 'letter': 1296, 'letter.': 1297, 'letter?': 1298, 'letters.': 1299, 'library': 1300, 'lie.': 1301, 'lied': 1302, 'life': 1303, 'lifetime.': 1304, 'light': 1305, 'light.': 1306, 'lightning': 1307, 'like': 1308, 'like.': 1309, 'like?': 1310, 'liked': 1311, 'likely': 1312, 'likes': 1313, 'limping': 1314, 'line': 1315, 'lion.': 1316, 'lips.': 1317, 'liquid': 1318, 'list': 1319, 'list.': 1320, 'listed.': 1321, 'listen.': 1322, 'listened': 1323, 'listening': 1324, 'listening.': 1325, 'lit': 1326, 'liter': 1327, 'literally': 1328, 'little': 1329, 'little.': 1330, 'little?': 1331, 'live': 1332, 'live.': 1333, 'lived': 1334, 'lived.': 1335, 'lives': 1336, 'lives.': 1337, 'living': 1338, 'loan.': 1339, 'local?': 1340, 'locked': 1341, 'log': 1342, 'london': 1343, 'lonely.': 1344, 'long': 1345, 'long.': 1346, 'long?': 1347, 'longer': 1348, 'longer.': 1349, 'longer?': 1350, 'look': 1351, 'look.': 1352, 'looked': 1353, 'looking': 1354, 'looks': 1355, 'lose': 1356, 'lose.': 1357, 'loss': 1358, 'lost': 1359, 'lost.': 1360, 'lot': 1361, 'lot.': 1362, 'louder.': 1363, 'love': 1364, 'love.': 1365, 'loved': 1366, 'lovely!': 1367, 'lover.': 1368, 'loves': 1369, 'low.': 1370, 'lower': 1371, 'lucky': 1372, 'lucky.': 1373, 'lunch': 1374, 'lunch.': 1375, 'lunch?': 1376, 'lying': 1377, 'lying.': 1378, 'machine.': 1379, 'mad.': 1380, 'made': 1381, 'made.': 1382, 'made?': 1383, 'madrid': 1384, 'mail': 1385, 'mailbox': 1386, 'make': 1387, 'makes': 1388, 'making': 1389, 'man': 1390, 'man.': 1391, 'man?': 1392, 'many': 1393, 'map': 1394, 'map.': 1395, 'marine': 1396, 'mark': 1397, 'married': 1398, 'married.': 1399, 'marry': 1400, 'marshmallows?': 1401, 'mary': 1402, 'mary.': 1403, 'mary?': 1404, 'marys': 1405, 'marys.': 1406, 'mask.': 1407, 'material.': 1408, 'math': 1409, 'mathematics': 1410, 'mathematics.': 1411, 'matter': 1412, 'matter.': 1413, 'may': 1414, 'maybe': 1415, 'me': 1416, 'me,': 1417, 'me.': 1418, 'me?': 1419, 'mean': 1420, 'meaning': 1421, 'means': 1422, 'meat.': 1423, 'meat?': 1424, 'medicine.': 1425, 'meet': 1426, 'meeting.': 1427, 'meeting?': 1428, 'meetings.': 1429, 'member.': 1430, 'men': 1431, 'men.': 1432, 'merry': 1433, 'message.': 1434, 'met': 1435, 'met.': 1436, 'mexican': 1437, 'microwave': 1438, 'middle': 1439, 'might': 1440, 'mightve': 1441, 'miles': 1442, 'milk': 1443, 'milk.': 1444, 'million': 1445, 'millionaire.': 1446, 'mind': 1447, 'mine.': 1448, 'minute.': 1449, 'minutes': 1450, 'minutes.': 1451, 'misleading.': 1452, 'miss': 1453, 'mistake.': 1454, 'mistaken.': 1455, 'mistakes.': 1456, 'model': 1457, 'model.': 1458, 'modest': 1459, 'moment.': 1460, 'monday': 1461, 'monday.': 1462, 'mondays?': 1463, 'money': 1464, 'money.': 1465, 'money?': 1466, 'mongolia.': 1467, 'month': 1468, 'month.': 1469, 'months': 1470, 'mood.': 1471, 'mood?': 1472, 'moon': 1473, 'more': 1474, 'more.': 1475, 'more?': 1476, 'morning': 1477, 'morning.': 1478, 'mosquitoes': 1479, 'most': 1480, 'mother': 1481, 'mother.': 1482, 'motor': 1483, 'motorcycle?': 1484, 'mount': 1485, 'mountain': 1486, 'mountaintops': 1487, 'mouth': 1488, 'moved': 1489, 'movie.': 1490, 'movie?': 1491, 'movies': 1492, 'movies.': 1493, 'mt.': 1494, 'much': 1495, 'much,': 1496, 'much.': 1497, 'mug': 1498, 'mushrooms': 1499, 'music.': 1500, 'musician.': 1501, 'must': 1502, 'my': 1503, 'myself': 1504, 'myself.': 1505, 'naka-meguro.': 1506, 'name': 1507, 'name.': 1508, 'name?': 1509, 'names': 1510, 'names.': 1511, 'names?': 1512, 'narrow.': 1513, 'naughty': 1514, 'near': 1515, 'nearby.': 1516, 'nearly': 1517, 'necessary.': 1518, 'need': 1519, 'need?': 1520, 'needed': 1521, 'needs': 1522, 'neighbor?': 1523, 'neighborhood': 1524, 'neither': 1525, 'nervous': 1526, 'nervous.': 1527, 'netherlands': 1528, 'never': 1529, 'new': 1530, 'new.': 1531, 'next': 1532, 'next.': 1533, 'next?': 1534, 'nice': 1535, 'nice.': 1536, 'nickname.': 1537, 'night': 1538, 'night,': 1539, 'night.': 1540, 'night?': 1541, 'nine.': 1542, 'no': 1543, 'nobel': 1544, 'nobody': 1545, 'noisy': 1546, 'nor': 1547, 'normal': 1548, 'not': 1549, 'not.': 1550, 'notebook?': 1551, 'notes.': 1552, 'nothing': 1553, 'notice': 1554, 'notice.': 1555, 'novels.': 1556, 'now': 1557, 'now,': 1558, 'now.': 1559, 'now?': 1560, 'nowadays': 1561, 'nowadays.': 1562, 'number': 1563, 'number.': 1564, 'numbers': 1565, 'nursing': 1566, 'nutritious.': 1567, 'obnoxious.': 1568, 'obvious.': 1569, 'obviously': 1570, 'obviously,': 1571, 'ocean': 1572, 'oclock.': 1573, 'october': 1574, 'october.': 1575, 'of': 1576, 'off': 1577, 'off.': 1578, 'off?': 1579, 'offended.': 1580, 'offered': 1581, 'office': 1582, 'office.': 1583, 'office?': 1584, 'often': 1585, 'often?': 1586, 'oh,': 1587, 'ok': 1588, 'ok,': 1589, 'ok.': 1590, 'ok?': 1591, 'okay.': 1592, 'old': 1593, 'old.': 1594, 'older': 1595, 'on': 1596, 'on.': 1597, 'on?': 1598, 'once': 1599, 'once.': 1600, 'one': 1601, 'one.': 1602, 'one?': 1603, 'ones.': 1604, 'only': 1605, 'open': 1606, 'open.': 1607, 'opened': 1608, 'opens': 1609, 'opinion': 1610, 'opinion.': 1611, 'or': 1612, 'orange.': 1613, 'oranges': 1614, 'ostriches': 1615, 'other': 1616, 'other.': 1617, 'otherwise.': 1618, 'ottawa': 1619, 'ought': 1620, 'our': 1621, 'out': 1622, 'out.': 1623, 'outside': 1624, 'outside.': 1625, 'oven.': 1626, 'over': 1627, 'over.': 1628, 'overreact.': 1629, 'overseas': 1630, 'overseas.': 1631, 'overweight.': 1632, 'own': 1633, 'pack': 1634, 'page': 1635, 'paid': 1636, 'paid.': 1637, 'pain.': 1638, 'pain?': 1639, 'painful': 1640, 'paint?': 1641, 'painted': 1642, 'palace.': 1643, 'pancakes.': 1644, 'papers': 1645, 'parents': 1646, 'parents.': 1647, 'paris': 1648, 'park': 1649, 'park.': 1650, 'parked': 1651, 'parking': 1652, 'part': 1653, 'particularly': 1654, 'party.': 1655, 'passed': 1656, 'passengers': 1657, 'passport,': 1658, 'pattern.': 1659, 'pay': 1660, 'paying': 1661, 'payment': 1662, 'peach': 1663, 'peak': 1664, 'peas.': 1665, 'pen': 1666, 'pencil.': 1667, 'pens.': 1668, 'people': 1669, 'people,': 1670, 'people.': 1671, 'per': 1672, 'perfect': 1673, 'person': 1674, 'person.': 1675, 'pet.': 1676, 'phoenix': 1677, 'phone': 1678, 'phone.': 1679, 'phone?': 1680, 'photographs': 1681, 'pick': 1682, 'picture': 1683, 'picture.': 1684, 'picture?': 1685, 'piece': 1686, 'pig': 1687, 'pig.': 1688, 'pizza': 1689, 'pizza?': 1690, 'place': 1691, 'place,': 1692, 'place.': 1693, 'plan': 1694, 'plan.': 1695, 'plane': 1696, 'planes': 1697, 'planes.': 1698, 'planning': 1699, 'plans': 1700, 'plans.': 1701, 'plans?': 1702, 'planted': 1703, 'plants': 1704, 'plants?': 1705, 'play': 1706, 'played': 1707, 'player': 1708, 'player.': 1709, 'playing': 1710, 'plays': 1711, 'please': 1712, 'please.': 1713, 'please?': 1714, 'pleased': 1715, 'pleased.': 1716, 'plumber.': 1717, 'pocket.': 1718, 'pocketknife.': 1719, 'poem': 1720, 'poems.': 1721, 'point': 1722, 'point.': 1723, 'pointing': 1724, 'poland': 1725, 'police': 1726, 'police.': 1727, 'policeman': 1728, 'polite.': 1729, 'pond.': 1730, 'poor': 1731, 'poor.': 1732, 'pop': 1733, 'popular': 1734, 'pork,': 1735, 'pork.': 1736, 'positive': 1737, 'possible,': 1738, 'potential.': 1739, 'power.': 1740, 'powerful.': 1741, 'practical.': 1742, 'pray': 1743, 'predict': 1744, 'predictable.': 1745, 'prefer': 1746, 'preparations': 1747, 'pressure': 1748, 'pretended': 1749, 'pretty': 1750, 'pretty.': 1751, 'price': 1752, 'price?': 1753, 'prices?': 1754, 'prime': 1755, 'prison': 1756, 'prize,': 1757, 'proactive.': 1758, 'probably': 1759, 'problem': 1760, 'problem.': 1761, 'problem?': 1762, 'problems.': 1763, 'process': 1764, 'produces': 1765, 'products': 1766, 'professor.': 1767, 'promised': 1768, 'pronouncing': 1769, 'proof': 1770, 'proof.': 1771, 'pros': 1772, 'protect': 1773, 'proved': 1774, 'public': 1775, 'public.': 1776, 'pulled': 1777, 'punch': 1778, 'puppy': 1779, 'purpose.': 1780, 'put': 1781, 'question': 1782, 'question.': 1783, 'question?': 1784, 'questions': 1785, 'questions.': 1786, 'quicker': 1787, 'quickly': 1788, 'quickly.': 1789, 'quiet': 1790, 'quiet.': 1791, 'quietly.': 1792, 'quit': 1793, 'quit.': 1794, 'quit?': 1795, 'quite': 1796, 'radio': 1797, 'radio.': 1798, 'radio?': 1799, 'rain': 1800, 'rain.': 1801, 'rained': 1802, 'raining': 1803, 'raining.': 1804, 'raise': 1805, 'ramen.': 1806, 'ran': 1807, 'rang': 1808, 'rare.': 1809, 'rate?': 1810, 'rather': 1811, 'reach': 1812, 'read': 1813, 'read.': 1814, 'read?': 1815, 'reading': 1816, 'reading.': 1817, 'ready': 1818, 'ready.': 1819, 'real': 1820, 'realize': 1821, 'realized': 1822, 'really': 1823, 'really?': 1824, 'received': 1825, 'recent': 1826, 'red': 1827, 'red.': 1828, 'refrigerator.': 1829, 'refused': 1830, 'regrets.': 1831, 'relationship': 1832, 'relatives.': 1833, 'relax.': 1834, 'reluctant': 1835, 'remained': 1836, 'remember': 1837, 'remembers': 1838, 'remind': 1839, 'rent': 1840, 'rent.': 1841, 'repair': 1842, 'repeat': 1843, 'repeated': 1844, 'rephrase': 1845, 'replaceable.': 1846, 'reply.': 1847, 'report': 1848, 'report.': 1849, 'report?': 1850, 'reprimanded': 1851, 'requested,': 1852, 'required': 1853, 'respect': 1854, 'respect.': 1855, 'response': 1856, 'rest': 1857, 'restaurant': 1858, 'restaurant.': 1859, 'restroom?': 1860, 'results': 1861, 'return': 1862, 'rewarded.': 1863, 'rice': 1864, 'rice,': 1865, 'rice.': 1866, 'rich': 1867, 'rich.': 1868, 'ride': 1869, 'riding.': 1870, 'right': 1871, 'right.': 1872, 'right?': 1873, 'ring': 1874, 'rings': 1875, 'risk.': 1876, 'risky': 1877, 'risky.': 1878, 'rival.': 1879, 'river.': 1880, 'robbed': 1881, 'rock': 1882, 'rolled': 1883, 'rome.': 1884, 'roof': 1885, 'room': 1886, 'room.': 1887, 'roommate.': 1888, 'rooms': 1889, 'rosemary.': 1890, 'roses': 1891, 'roses.': 1892, 'round': 1893, 'rude': 1894, 'rude.': 1895, 'rule,': 1896, 'rule.': 1897, 'rumored': 1898, 'run': 1899, 'run.': 1900, 'run?': 1901, 'runner.': 1902, 'running.': 1903, 'sacred': 1904, 'sad.': 1905, 'safe': 1906, 'safe.': 1907, 'said': 1908, 'said.': 1909, 'sale': 1910, 'same': 1911, 'same.': 1912, 'sandwiches': 1913, 'sandwiches.': 1914, 'sang': 1915, 'santas': 1916, 'sashimi.': 1917, 'sat': 1918, 'save': 1919, 'saw': 1920, 'say': 1921, 'say.': 1922, 'say?': 1923, 'saying.': 1924, 'says': 1925, 'says.': 1926, 'scare': 1927, 'scared': 1928, 'scary.': 1929, 'school': 1930, 'school,': 1931, 'school.': 1932, 'school?': 1933, 'schoolbooks.': 1934, 'scored': 1935, 'scripts.': 1936, 'sea': 1937, 'searched': 1938, 'searching': 1939, 'seat': 1940, 'secret.': 1941, 'secret?': 1942, 'see': 1943, 'seem': 1944, 'seemed': 1945, 'seems': 1946, 'seen': 1947, 'seen.': 1948, 'send': 1949, 'senior': 1950, 'seniority.': 1951, 'sense.': 1952, 'sent': 1953, 'sentence?': 1954, 'serious': 1955, 'serious.': 1956, 'seriously': 1957, 'served': 1958, 'set': 1959, 'setting': 1960, 'seven': 1961, 'several': 1962, 'sewing': 1963, 'shake': 1964, 'shall': 1965, 'shallow,': 1966, 'shape': 1967, 'shape.': 1968, 'share.': 1969, 'sharkskin': 1970, 'sharp.': 1971, 'she': 1972, 'she?': 1973, 'sheep': 1974, 'shibuya': 1975, 'shirt.': 1976, 'shirts': 1977, 'shirtsleeves': 1978, 'shirtsleeves.': 1979, 'shock.': 1980, 'shocked.': 1981, 'shoe': 1982, 'shoes.': 1983, 'shoot': 1984, 'shop': 1985, 'shop.': 1986, 'shopping.': 1987, 'short': 1988, 'short.': 1989, 'shortest': 1990, 'shot.': 1991, 'should': 1992, 'shouldnt': 1993, 'shouldve': 1994, 'shouldve.': 1995, 'show': 1996, 'showed': 1997, 'showing': 1998, 'sick': 1999, 'sick.': 2000, 'side': 2001, 'side.': 2002, 'sightseeing.': 2003, 'sign': 2004, 'silver': 2005, 'simple': 2006, 'simple.': 2007, 'since': 2008, 'sing?': 2009, 'singer': 2010, 'singer?': 2011, 'singing?': 2012, 'single': 2013, 'sir?': 2014, 'sister': 2015, 'sister?': 2016, 'sisters': 2017, 'sisters?': 2018, 'sit': 2019, 'sitting': 2020, 'situation': 2021, 'six-thirty.': 2022, 'sixteen': 2023, 'size': 2024, 'size.': 2025, 'skiing.': 2026, 'skin': 2027, 'skip': 2028, 'skipper.': 2029, 'sleep': 2030, 'sleep.': 2031, 'sleeping': 2032, 'sleeping.': 2033, 'sleeping?': 2034, 'sleepy,': 2035, 'sleepy.': 2036, 'sleepy?': 2037, 'slept': 2038, 'slight': 2039, 'slow.': 2040, 'slowly': 2041, 'slowly.': 2042, 'small': 2043, 'small.': 2044, 'smart': 2045, 'smart.': 2046, 'smartest': 2047, 'smell': 2048, 'smile.': 2049, 'smiling.': 2050, 'smoke.': 2051, 'snake.': 2052, 'snow': 2053, 'snowing': 2054, 'so': 2055, 'so.': 2056, 'soccer': 2057, 'socks.': 2058, 'sold': 2059, 'solve': 2060, 'some': 2061, 'some.': 2062, 'someone': 2063, 'something': 2064, 'something.': 2065, 'sometimes': 2066, 'somewhat': 2067, 'somewhere': 2068, 'somewhere,': 2069, 'son': 2070, 'son-in-law.': 2071, 'son.': 2072, 'song': 2073, 'song,': 2074, 'song.': 2075, 'soon': 2076, 'soon.': 2077, 'sorry': 2078, 'sorry,': 2079, 'sorry.': 2080, 'sound': 2081, 'sour.': 2082, 'source': 2083, 'spain.': 2084, 'speak': 2085, 'speak.': 2086, 'speak?': 2087, 'speaking': 2088, 'speaking.': 2089, 'speaking?': 2090, 'speaks': 2091, 'special': 2092, 'speeches': 2093, 'speed': 2094, 'spell': 2095, 'spend': 2096, 'spends': 2097, 'spent': 2098, 'spider.': 2099, 'spilled': 2100, 'spoken': 2101, 'sports.': 2102, 'spots': 2103, 'sprang': 2104, 'spread': 2105, 'staff': 2106, 'standing': 2107, 'staring': 2108, 'start?': 2109, 'started': 2110, 'started.': 2111, 'starved.': 2112, 'starving.': 2113, 'states.': 2114, 'station': 2115, 'station?': 2116, 'stay': 2117, 'stay.': 2118, 'stay?': 2119, 'stayed': 2120, 'staying': 2121, 'steak.': 2122, 'steal': 2123, 'still': 2124, 'stole': 2125, 'stolen': 2126, 'stop': 2127, 'stop.': 2128, 'stopped': 2129, 'stopping?': 2130, 'store': 2131, 'store.': 2132, 'story': 2133, 'story.': 2134, 'stove.': 2135, 'straight': 2136, 'strange': 2137, 'stranger?': 2138, 'strapless': 2139, 'street': 2140, 'street.': 2141, 'street?': 2142, 'stretch': 2143, 'stretch.': 2144, 'strict,': 2145, 'strong.': 2146, 'strong?': 2147, 'stronger,': 2148, 'student': 2149, 'student.': 2150, 'students': 2151, 'students.': 2152, 'study': 2153, 'studying': 2154, 'studying.': 2155, 'studying?': 2156, 'stuff': 2157, 'stupid.': 2158, 'subject.': 2159, 'submitted': 2160, 'submitting': 2161, 'suburbs': 2162, 'succeed.': 2163, 'success.': 2164, 'such': 2165, 'sugar': 2166, 'sugar.': 2167, 'suggestion.': 2168, 'suggestions.': 2169, 'suitcase': 2170, 'suitcases?': 2171, 'suits': 2172, 'summary': 2173, 'summer': 2174, 'summer.': 2175, 'sun': 2176, 'sunday.': 2177, 'sunday?': 2178, 'sunglasses': 2179, 'sunglasses.': 2180, 'sunny': 2181, 'sunscreen.': 2182, 'supermarket': 2183, 'supper': 2184, 'supplies': 2185, 'supply.': 2186, 'suppose': 2187, 'supposed': 2188, 'sure': 2189, 'sure.': 2190, 'surgery.': 2191, 'surprised': 2192, 'survive.': 2193, 'suspect': 2194, 'suspended.': 2195, 'suspension': 2196, 'swear': 2197, 'sweater.': 2198, 'sweet.': 2199, 'swim': 2200, 'swim.': 2201, 'swimming': 2202, 'swimming.': 2203, 'switzerland.': 2204, 'system.': 2205, 'table.': 2206, 'tag.': 2207, 'tail': 2208, 'tails.': 2209, 'take': 2210, 'take.': 2211, 'taken': 2212, 'taken?': 2213, 'taking': 2214, 'talented': 2215, 'talented,': 2216, 'talented.': 2217, 'talented?': 2218, 'talk': 2219, 'talk.': 2220, 'talkative.': 2221, 'talking': 2222, 'talking.': 2223, 'tall': 2224, 'tall.': 2225, 'taller,': 2226, 'taller.': 2227, 'tallest': 2228, 'tattoo?': 2229, 'taught': 2230, 'tax.': 2231, 'taxi': 2232, 'tea': 2233, 'tea,': 2234, 'tea.': 2235, 'teach': 2236, 'teacher': 2237, 'teacher.': 2238, 'teacher?': 2239, 'teachers.': 2240, 'teaches': 2241, 'teaching': 2242, 'team': 2243, 'team.': 2244, 'teammate.': 2245, 'teams': 2246, 'teenager.': 2247, 'television.': 2248, 'televisions': 2249, 'tell': 2250, 'telling': 2251, 'tells': 2252, 'temporary.': 2253, 'ten': 2254, 'tends': 2255, 'tennis': 2256, 'terrible': 2257, 'terribly': 2258, 'terrified.': 2259, 'tests.': 2260, 'texas.': 2261, 'th.': 2262, 'thailand.': 2263, 'than': 2264, 'thank': 2265, 'thanks': 2266, 'that': 2267, 'that,': 2268, 'that.': 2269, 'that?': 2270, 'thatll': 2271, 'thats': 2272, 'the': 2273, 'theater.': 2274, 'theft.': 2275, 'them': 2276, 'them.': 2277, 'then': 2278, 'then.': 2279, 'there': 2280, 'there,': 2281, 'there.': 2282, 'there?': 2283, 'theres': 2284, 'these': 2285, 'these.': 2286, 'they': 2287, 'they?': 2288, 'theyll': 2289, 'theyre': 2290, 'theyve': 2291, 'thick': 2292, 'thing': 2293, 'thing.': 2294, 'thing?': 2295, 'things': 2296, 'things.': 2297, 'things?': 2298, 'think': 2299, 'think,': 2300, 'think.': 2301, 'think?': 2302, 'thinker.': 2303, 'thinking': 2304, 'thinks': 2305, 'third': 2306, 'thirsty.': 2307, 'thirteen': 2308, 'thirteen.': 2309, 'thirty': 2310, 'thirty.': 2311, 'this': 2312, 'this.': 2313, 'this?': 2314, 'thisll': 2315, 'those': 2316, 'those.': 2317, 'thought': 2318, 'thought.': 2319, 'thousand': 2320, 'threatened': 2321, 'threatened.': 2322, 'three': 2323, 'three-year-old': 2324, 'threw': 2325, 'throw': 2326, 'ticket.': 2327, 'ticket?': 2328, 'tickets': 2329, 'tie': 2330, 'tie.': 2331, 'tight-fitting': 2332, 'tiki.': 2333, 'time': 2334, 'time.': 2335, 'time?': 2336, 'times': 2337, 'tired': 2338, 'tired.': 2339, 'title,': 2340, 'to': 2341, 'to,': 2342, 'to.': 2343, 'to?': 2344, 'today': 2345, 'today,': 2346, 'today.': 2347, 'today?': 2348, 'todays': 2349, 'toe': 2350, 'together': 2351, 'together.': 2352, 'together?': 2353, 'toilet?': 2354, 'tokyo': 2355, 'tokyo.': 2356, 'told': 2357, 'tom': 2358, 'tom,': 2359, 'tom.': 2360, 'tom?': 2361, 'tomatoes.': 2362, 'tomorrow': 2363, 'tomorrow.': 2364, 'tomorrow?': 2365, 'tomorrows': 2366, 'toms': 2367, 'toms.': 2368, 'toms?': 2369, 'tonight.': 2370, 'tonight?': 2371, 'too': 2372, 'too.': 2373, 'too?': 2374, 'took': 2375, 'toolbox': 2376, 'top': 2377, 'tossed': 2378, 'totally': 2379, 'touch': 2380, 'touching?': 2381, 'tour': 2382, 'toward': 2383, 'town': 2384, 'town.': 2385, 'townie?': 2386, 'toy': 2387, 'toys.': 2388, 'train': 2389, 'train.': 2390, 'trainer.': 2391, 'translate.': 2392, 'translated': 2393, 'translator.': 2394, 'travel': 2395, 'tree.': 2396, 'tried': 2397, 'trip': 2398, 'trip?': 2399, 'trouble': 2400, 'trouble.': 2401, 'true.': 2402, 'truly': 2403, 'trunk.': 2404, 'trust': 2405, 'trust.': 2406, 'truth': 2407, 'truthful?': 2408, 'try': 2409, 'try.': 2410, 'trying': 2411, 'tuesday.': 2412, 'tulips,': 2413, 'tune.': 2414, 'turn': 2415, 'turned': 2416, 'tv': 2417, 'tv.': 2418, 'twelve.': 2419, 'twice': 2420, 'twice.': 2421, 'two': 2422, 'two.': 2423, 'ugly': 2424, 'ukraine': 2425, 'ukraine.': 2426, 'ulaanbaatar': 2427, 'umbrella': 2428, 'umbrella,': 2429, 'umbrella.': 2430, 'umbrellas.': 2431, 'uncomfortable.': 2432, 'unconscious.': 2433, 'unconstitutional?': 2434, 'under': 2435, 'underestimate': 2436, 'understand': 2437, 'understand.': 2438, 'understands': 2439, 'understands?': 2440, 'understood': 2441, 'unemployed.': 2442, 'unethical': 2443, 'unhappy,': 2444, 'united': 2445, 'unlocked.': 2446, 'unlucky.': 2447, 'unmarried.': 2448, 'unprofessional.': 2449, 'unsociable.': 2450, 'until': 2451, 'up': 2452, 'up,': 2453, 'up.': 2454, 'upset': 2455, 'upset.': 2456, 'upstairs.': 2457, 'urged': 2458, 'uruguay.': 2459, 'us': 2460, 'us,': 2461, 'us.': 2462, 'use': 2463, 'use?': 2464, 'used': 2465, 'usually': 2466, 'vacation?': 2467, 'van.': 2468, 'vegetables.': 2469, 'very': 2470, 'video': 2471, 'video.': 2472, 'view.': 2473, 'vinegar.': 2474, 'violence': 2475, 'violent.': 2476, 'violin': 2477, 'violin.': 2478, 'visit': 2479, 'visit.': 2480, 'visited': 2481, 'vitamin': 2482, 'volunteer.': 2483, 'vomiting.': 2484, 'wait': 2485, 'wait.': 2486, 'wait?': 2487, 'waited': 2488, 'waiter': 2489, 'waiting': 2490, 'waking': 2491, 'walk': 2492, 'walk.': 2493, 'walked': 2494, 'walking': 2495, 'wall.': 2496, 'wallet': 2497, 'waned': 2498, 'want': 2499, 'want.': 2500, 'wanted': 2501, 'wanted.': 2502, 'wants': 2503, 'wants.': 2504, 'warsaw.': 2505, 'was': 2506, 'was.': 2507, 'wash': 2508, 'washed': 2509, 'washing': 2510, 'washing?': 2511, 'wasnt': 2512, 'waste': 2513, 'watch': 2514, 'watch.': 2515, 'watched': 2516, 'watches': 2517, 'watching': 2518, 'water': 2519, 'water.': 2520, 'water?': 2521, 'waxed': 2522, 'way': 2523, 'we': 2524, 'wealthy.': 2525, 'wear': 2526, 'wearing': 2527, 'wearing?': 2528, 'wears': 2529, 'wears.': 2530, 'weather': 2531, 'weather.': 2532, 'weathers': 2533, 'website': 2534, 'wed': 2535, 'week': 2536, 'week.': 2537, 'weeks': 2538, 'weighed': 2539, 'weight.': 2540, 'welcome': 2541, 'well': 2542, 'well,': 2543, 'well.': 2544, 'went': 2545, 'went,': 2546, 'went.': 2547, 'were': 2548, 'werent': 2549, 'weve': 2550, 'whale': 2551, 'what': 2552, 'whatever': 2553, 'whatll': 2554, 'whats': 2555, 'wheel?': 2556, 'wheels.': 2557, 'when': 2558, 'whenever': 2559, 'whens': 2560, 'where': 2561, 'wheres': 2562, 'whether': 2563, 'which': 2564, 'while': 2565, 'while.': 2566, 'whistling': 2567, 'white': 2568, 'who': 2569, 'who?': 2570, 'whoever': 2571, 'whole': 2572, 'whos': 2573, 'whose': 2574, 'why': 2575, 'wide': 2576, 'wife,': 2577, 'wife.': 2578, 'wifes': 2579, 'will': 2580, 'willing': 2581, 'win.': 2582, 'windmills,': 2583, 'window.': 2584, 'windows.': 2585, 'windsurfing.': 2586, 'wine': 2587, 'wine.': 2588, 'winning': 2589, 'wins.': 2590, 'winter.': 2591, 'winter?': 2592, 'wish': 2593, 'with': 2594, 'without': 2595, 'wolves': 2596, 'woman': 2597, 'woman,': 2598, 'woman.': 2599, 'woman?': 2600, 'women': 2601, 'women,': 2602, 'women.': 2603, 'won': 2604, 'wonder': 2605, 'wondering': 2606, 'wont': 2607, 'wooden': 2608, 'word': 2609, 'word.': 2610, 'words': 2611, 'words.': 2612, 'wore': 2613, 'work': 2614, 'work.': 2615, 'work?': 2616, 'worked': 2617, 'working': 2618, 'working.': 2619, 'works': 2620, 'world': 2621, 'world.': 2622, 'world?': 2623, 'worlds': 2624, 'worried': 2625, 'worried.': 2626, 'worry': 2627, 'worry.': 2628, 'worth': 2629, 'would': 2630, 'wouldnt': 2631, 'wouldve': 2632, 'wrestling': 2633, 'write': 2634, 'write.': 2635, 'writes': 2636, 'writing': 2637, 'written': 2638, 'wrong': 2639, 'wrong.': 2640, 'wrote': 2641, 'yeah.': 2642, 'year,': 2643, 'year.': 2644, 'year?': 2645, 'years': 2646, 'years.': 2647, 'yell': 2648, 'yelling': 2649, 'yellow.': 2650, 'yen.': 2651, 'yesterday': 2652, 'yesterday.': 2653, 'yesterday?': 2654, 'yet': 2655, 'yet.': 2656, 'yet?': 2657, 'yogurt.': 2658, 'yolks.': 2659, 'you': 2660, 'you,': 2661, 'you.': 2662, 'you?': 2663, 'youd': 2664, 'youll': 2665, 'young': 2666, 'young,': 2667, 'younger': 2668, 'younger,': 2669, 'youngest.': 2670, 'your': 2671, 'youre': 2672, 'yours.': 2673, 'yours?': 2674, 'yourself': 2675, 'yourself.': 2676, 'youve': 2677, 'zealand.': 2678, 'zero': 2679, 'zoologist.': 2680, 'zoology': 2681, '€': 2682}\n",
            "3271\n",
            "{0: '<PAD>', 1: '<UNK>', 2: ',', 3: '.', 4: ':', 5: ':.', 6: '?', 7: 'a', 8: 'able', 9: 'aboard.', 10: 'about', 11: 'about?', 12: 'above', 13: 'abroad', 14: 'abroad.', 15: 'abused', 16: 'accept', 17: 'accept.', 18: 'accepted', 19: 'accident.', 20: 'accountant?', 21: 'accurate', 22: 'accurately', 23: 'across', 24: 'act', 25: 'active.', 26: 'actor?', 27: 'actually', 28: 'actually,', 29: 'add?', 30: 'addict.', 31: 'address.', 32: 'admit', 33: 'admitted', 34: 'advance', 35: 'advance.', 36: 'adventures', 37: 'advice,', 38: 'advice.', 39: 'afraid', 40: 'after', 41: 'afternoon.', 42: 'afternoon?', 43: 'again', 44: 'again,', 45: 'again.', 46: 'again?', 47: 'age.', 48: 'aggressive.', 49: 'ago.', 50: 'agree', 51: 'agreed', 52: 'ahead', 53: 'airport', 54: 'alcohol?', 55: 'alice', 56: 'all', 57: 'all.', 58: 'all?', 59: 'allergic', 60: 'allergies.', 61: 'allowed', 62: 'almost', 63: 'alone', 64: 'alone!', 65: 'alone.', 66: 'alone?', 67: 'along', 68: 'already', 69: 'also', 70: 'alternative.', 71: 'always', 72: 'am', 73: 'am.', 74: 'amazing', 75: 'amazing.', 76: 'ambitious.', 77: 'amusing', 78: 'an', 79: 'ancient', 80: 'and', 81: 'angry.', 82: 'animal.', 83: 'animals', 84: 'animals.', 85: 'announced', 86: 'annoying', 87: 'another', 88: 'answer', 89: 'answer.', 90: 'answer?', 91: 'answered.', 92: 'any', 93: 'anybody', 94: 'anybody.', 95: 'anymore.', 96: 'anyone', 97: 'anyone.', 98: 'anything', 99: 'anything.', 100: 'anything?', 101: 'anyway.', 102: 'anyway?', 103: 'anywhere', 104: 'anywhere.', 105: 'apart.', 106: 'apartment', 107: 'apartment.', 108: 'apologize', 109: 'apologize.', 110: 'apologized.', 111: 'appearance.', 112: 'apple', 113: 'apple.', 114: 'apples,', 115: 'apples.', 116: 'application', 117: 'appreciate', 118: 'approved.', 119: 'are', 120: 'are!', 121: 'are.', 122: 'arent', 123: 'argued', 124: 'arizona.', 125: 'arm.', 126: 'army', 127: 'around', 128: 'arrive', 129: 'artist.', 130: 'as', 131: 'ask', 132: 'ask.', 133: 'ask?', 134: 'asked', 135: 'asleep.', 136: 'asleep?', 137: 'assume', 138: 'assure', 139: 'at', 140: 'ate', 141: 'attack!', 142: 'attackers', 143: 'attend', 144: 'attention.', 145: 'attitude.', 146: 'attractive.', 147: 'aunts', 148: 'australia', 149: 'australia,', 150: 'australia.', 151: 'australia?', 152: 'awards.', 153: 'aware', 154: 'away', 155: 'away.', 156: 'awful', 157: 'awkward.', 158: 'b.', 159: 'baby.', 160: 'back', 161: 'back.', 162: 'back?', 163: 'backpack.', 164: 'bad', 165: 'bad?', 166: 'badly.', 167: 'bag', 168: 'bags', 169: 'baking', 170: 'ball.', 171: 'bananas', 172: 'bananas.', 173: 'bangkok', 174: 'bank', 175: 'banker?', 176: 'bankrupt.', 177: 'barking.', 178: 'barks', 179: 'basement.', 180: 'bath', 181: 'bath.', 182: 'batteries.', 183: 'bazaar.', 184: 'be', 185: 'be.', 186: 'be?', 187: 'beans.', 188: 'bear', 189: 'beat', 190: 'beautiful', 191: 'beautiful.', 192: 'beauty', 193: 'became', 194: 'because', 195: 'become', 196: 'bed', 197: 'bed.', 198: 'bee.', 199: 'beef.', 200: 'beef?', 201: 'been', 202: 'beer,', 203: 'beer.', 204: 'beers', 205: 'beers,', 206: 'before', 207: 'before.', 208: 'began', 209: 'begin?', 210: 'beginning', 211: 'begins', 212: 'behave', 213: 'behind', 214: 'beholder.', 215: 'beijing', 216: 'being', 217: 'belgium.', 218: 'believe', 219: 'believed', 220: 'believing', 221: 'bell?', 222: 'below', 223: 'benefits', 224: 'berlin', 225: 'bern', 226: 'best', 227: 'best-selling', 228: 'best.', 229: 'best?', 230: 'bet', 231: 'better', 232: 'better.', 233: 'between', 234: 'bicycle', 235: 'bicycle.', 236: 'bicycle?', 237: 'big', 238: 'bigger.', 239: 'biggest', 240: 'billionaire,', 241: 'billionaires', 242: 'biologist.', 243: 'bird', 244: 'birthday', 245: 'birthday!', 246: 'birthday,', 247: 'birthday.', 248: 'bit', 249: 'bit.', 250: 'bitten', 251: 'bitter.', 252: 'black', 253: 'black.', 254: 'blackboard.', 255: 'blame', 256: 'blames', 257: 'blank.', 258: 'blew', 259: 'blocked', 260: 'blossoms?', 261: 'blue', 262: 'blue.', 263: 'boat.', 264: 'body.', 265: 'book', 266: 'book.', 267: 'booked.', 268: 'booklet', 269: 'books', 270: 'books.', 271: 'bored', 272: 'bored.', 273: 'born', 274: 'born.', 275: 'born?', 276: 'borrow', 277: 'borrowed', 278: 'boston', 279: 'boston.', 280: 'boston?', 281: 'both', 282: 'bother.', 283: 'bottle', 284: 'bottles', 285: 'bought', 286: 'bowline.', 287: 'box.', 288: 'boxes', 289: 'boxing', 290: 'boy.', 291: 'boyfriend', 292: 'boyfriend.', 293: 'boyfriends', 294: 'boys', 295: 'boys.', 296: 'brasilia.', 297: 'brave.', 298: 'braver', 299: 'brazil', 300: 'brazil.', 301: 'bread.', 302: 'bread?', 303: 'break', 304: 'breakfast', 305: 'breakfast.', 306: 'breathe', 307: 'bridge', 308: 'bridge.', 309: 'briefcase.', 310: 'bright', 311: 'bring', 312: 'british', 313: 'broke', 314: 'broke.', 315: 'broken.', 316: 'brother', 317: 'brother.', 318: 'brother?', 319: 'brothers.', 320: 'brought', 321: 'brown', 322: 'brussels', 323: 'bug.', 324: 'bugs.', 325: 'build', 326: 'build.', 327: 'building?', 328: 'buildings.', 329: 'bull.', 330: 'bullfighting?', 331: 'burned', 332: 'bus', 333: 'bus.', 334: 'business', 335: 'busy', 336: 'busy.', 337: 'but', 338: 'buy', 339: 'buy?', 340: 'buying', 341: 'buys', 342: 'by', 343: 'by.', 344: 'c.', 345: 'cab.', 346: 'cake', 347: 'cake,', 348: 'cake.', 349: 'cake?', 350: 'calculator.', 351: 'call', 352: 'call.', 353: 'called', 354: 'calling', 355: 'calm.', 356: 'came', 357: 'came.', 358: 'camera.', 359: 'cameras.', 360: 'can', 361: 'can.', 362: 'canada.', 363: 'canadian', 364: 'canadian.', 365: 'canals.', 366: 'canaries.', 367: 'candle.', 368: 'candy.', 369: 'cannot', 370: 'cant', 371: 'cap.', 372: 'capital', 373: 'capital.', 374: 'captain.', 375: 'car', 376: 'car.', 377: 'car?', 378: 'card.', 379: 'cards.', 380: 'care', 381: 'care,', 382: 'careful.', 383: 'carefully.', 384: 'careless?', 385: 'cares', 386: 'cars', 387: 'cars.', 388: 'cash.', 389: 'cat', 390: 'cat.', 391: 'cats', 392: 'causing', 393: 'cave.', 394: 'celebrate.', 395: 'cell', 396: 'center', 397: 'certain', 398: 'certain.', 399: 'chair', 400: 'chair.', 401: 'challenge', 402: 'chance', 403: 'chance.', 404: 'change', 405: 'change.', 406: 'changed', 407: 'changes.', 408: 'character', 409: 'charismatic', 410: 'charity.', 411: 'chased', 412: 'cheap', 413: 'cheap,', 414: 'cheap.', 415: 'cheaper.', 416: 'checked.', 417: 'cheerful', 418: 'cheese.', 419: 'chemistry', 420: 'cherry', 421: 'chess', 422: 'chess?', 423: 'chicago.', 424: 'chicago?', 425: 'chicken.', 426: 'chicken?', 427: 'children', 428: 'china.', 429: 'chinese.', 430: 'chocolate.', 431: 'choice.', 432: 'choose', 433: 'chopsticks.', 434: 'chose', 435: 'christmas', 436: 'christmas!', 437: 'christmas.', 438: 'chubby', 439: 'chubby.', 440: 'citizen,', 441: 'citizens.', 442: 'city.', 443: 'claims', 444: 'clap?', 445: 'class.', 446: 'classes,', 447: 'classmates.', 448: 'classroom', 449: 'cleaning', 450: 'clear', 451: 'clear.', 452: 'clearly.', 453: 'climate', 454: 'climb', 455: 'climbed', 456: 'clogs', 457: 'close', 458: 'close.', 459: 'close?', 460: 'closed', 461: 'closed.', 462: 'clothes', 463: 'clothes.', 464: 'clothing', 465: 'clouds.', 466: 'club.', 467: 'coach.', 468: 'coat.', 469: 'coffee', 470: 'coffee.', 471: 'coin', 472: 'coins.', 473: 'coke,', 474: 'cold', 475: 'cold.', 476: 'colder', 477: 'colleagues?', 478: 'collect', 479: 'college?', 480: 'color', 481: 'colors.', 482: 'come', 483: 'come?', 484: 'comes', 485: 'comfort.', 486: 'comfortable.', 487: 'coming', 488: 'coming.', 489: 'communication.', 490: 'companies', 491: 'company.', 492: 'compare', 493: 'competent.', 494: 'competitive.', 495: 'complain.', 496: 'complained', 497: 'complaints.', 498: 'complex.', 499: 'complicated.', 500: 'computer', 501: 'conceive', 502: 'concentrate', 503: 'concerned', 504: 'concert', 505: 'conference', 506: 'confused.', 507: 'confusing', 508: 'congratulations!', 509: 'cons.', 510: 'conservative.', 511: 'constant', 512: 'contact', 513: 'continue', 514: 'continue.', 515: 'contribute', 516: 'control.', 517: 'convalescing', 518: 'convince', 519: 'convinced', 520: 'convincing.', 521: 'cook', 522: 'cook.', 523: 'cookbooks.', 524: 'cooked?', 525: 'cookie.', 526: 'cookies.', 527: 'cooking.', 528: 'cooking?', 529: 'cool', 530: 'cooler', 531: 'cooperative.', 532: 'correct', 533: 'correct?', 534: 'cost', 535: 'cost?', 536: 'cough', 537: 'could', 538: 'couldnt', 539: 'countries', 540: 'countries.', 541: 'couple', 542: 'couple?', 543: 'courageous.', 544: 'cousins.', 545: 'covered', 546: 'cows', 547: 'crackers.', 548: 'cranky.', 549: 'crazy.', 550: 'cream.', 551: 'creative.', 552: 'cried?', 553: 'criminal.', 554: 'crowded', 555: 'cry', 556: 'cry.', 557: 'crying.', 558: 'cultures.', 559: 'cup', 560: 'cure', 561: 'curious.', 562: 'curry', 563: 'cut', 564: 'cycling.', 565: 'dad', 566: 'dad.', 567: 'daiquiri.', 568: 'damaged', 569: 'dance', 570: 'dance,', 571: 'danced', 572: 'danced.', 573: 'dangerous', 574: 'dark', 575: 'dark.', 576: 'darker', 577: 'date', 578: 'dating', 579: 'daughter.', 580: 'daughters', 581: 'day', 582: 'day!', 583: 'day.', 584: 'day?', 585: 'days', 586: 'days.', 587: 'days?', 588: 'dazed', 589: 'dead', 590: 'dead.', 591: 'deal.', 592: 'debt.', 593: 'debt?', 594: 'decide', 595: 'decide.', 596: 'decided', 597: 'decided.', 598: 'deeply.', 599: 'defeat', 600: 'defeated.', 601: 'definitely', 602: 'degree.', 603: 'delete', 604: 'delicious.', 605: 'delightful.', 606: 'depend', 607: 'derailed', 608: 'deserve', 609: 'desk.', 610: 'dessert.', 611: 'dessert?', 612: 'destroyed', 613: 'details.', 614: 'detained', 615: 'detergent.', 616: 'developed', 617: 'did', 618: 'did.', 619: 'didnt', 620: 'die', 621: 'died', 622: 'died.', 623: 'dieting.', 624: 'difference', 625: 'difficult', 626: 'difficult.', 627: 'dinner.', 628: 'director.', 629: 'disappeared', 630: 'disappointed?', 631: 'disco', 632: 'discussed', 633: 'dishes.', 634: 'disliked', 635: 'distance', 636: 'divorced.', 637: 'do', 638: 'do,', 639: 'do.', 640: 'do?', 641: 'doctor', 642: 'doctor,', 643: 'doctor.', 644: 'doctors.', 645: 'does', 646: 'does.', 647: 'doesnt', 648: 'doesnt.', 649: 'dog', 650: 'dog,', 651: 'dog.', 652: 'dogs.', 653: 'doing', 654: 'doing.', 655: 'dollars', 656: 'dollars!', 657: 'dollars.', 658: 'done', 659: 'done.', 660: 'dont', 661: 'door', 662: 'door.', 663: 'door?', 664: 'doors.', 665: 'doubt', 666: 'down', 667: 'down.', 668: 'downloaded', 669: 'downstairs', 670: 'downstairs.', 671: 'drank', 672: 'drank,', 673: 'draw', 674: 'drawer', 675: 'dream', 676: 'dream.', 677: 'dress', 678: 'dress.', 679: 'drink', 680: 'drink.', 681: 'drink?', 682: 'drinking', 683: 'drinks', 684: 'drive', 685: 'drive.', 686: 'driver', 687: 'driver.', 688: 'driving', 689: 'driving?', 690: 'drops?', 691: 'drugs.', 692: 'drummer', 693: 'drunk', 694: 'drunk.', 695: 'ducks', 696: 'dumb.', 697: 'durian.', 698: 'duties?', 699: 'dying', 700: 'dying.', 701: 'each', 702: 'earlier', 703: 'earned', 704: 'easier.', 705: 'easily.', 706: 'easy', 707: 'easy.', 708: 'eat', 709: 'eat.', 710: 'eat?', 711: 'eaten', 712: 'eating', 713: 'eating.', 714: 'eats', 715: 'egg', 716: 'eggs', 717: 'egypt.', 718: 'eight.', 719: 'eighteen', 720: 'eighteen.', 721: 'either', 722: 'elderly.', 723: 'else', 724: 'else.', 725: 'emphasize', 726: 'empty', 727: 'empty.', 728: 'encourage', 729: 'enemy', 730: 'engine.', 731: 'england.', 732: 'english', 733: 'english.', 734: 'english?', 735: 'enjoy', 736: 'enjoyed', 737: 'enjoying', 738: 'enough', 739: 'enough.', 740: 'enter', 741: 'error.', 742: 'escaped', 743: 'especially', 744: 'essay.', 745: 'even', 746: 'evening.', 747: 'evening?', 748: 'ever', 749: 'ever.', 750: 'everest', 751: 'everest.', 752: 'every', 753: 'everybody', 754: 'everybody.', 755: 'everyone', 756: 'everyone!', 757: 'everyone.', 758: 'everything', 759: 'everything.', 760: 'everything?', 761: 'everythings', 762: 'everywhere.', 763: 'exactly', 764: 'exam', 765: 'example?', 766: 'exams', 767: 'excellent.', 768: 'except', 769: 'exceptions.', 770: 'exchange', 771: 'exchanging', 772: 'excited.', 773: 'exciting.', 774: 'excuse', 775: 'exercise.', 776: 'exist.', 777: 'expect', 778: 'expect.', 779: 'expected', 780: 'expecting', 781: 'expensive', 782: 'explain', 783: 'explosion', 784: 'express', 785: 'extra', 786: 'extremely', 787: 'eye', 788: 'eyes', 789: 'eyes.', 790: 'eyesight.', 791: 'face', 792: 'face.', 793: 'facing', 794: 'fact', 795: 'facts!', 796: 'fake.', 797: 'fall.', 798: 'fall?', 799: 'fallen', 800: 'falling.', 801: 'family', 802: 'family.', 803: 'famous', 804: 'famous.', 805: 'famous?', 806: 'far', 807: 'far.', 808: 'far?', 809: 'fast', 810: 'fast.', 811: 'faster', 812: 'faster.', 813: 'father', 814: 'father.', 815: 'fathers', 816: 'fault?', 817: 'favor.', 818: 'favorite', 819: 'february', 820: 'feel', 821: 'feeling', 822: 'feeling.', 823: 'feels', 824: 'fell', 825: 'felt', 826: 'few', 827: 'fight', 828: 'fight.', 829: 'figure', 830: 'files.', 831: 'filled', 832: 'final', 833: 'finally', 834: 'financial', 835: 'find', 836: 'fine,', 837: 'finish', 838: 'finish.', 839: 'finished', 840: 'finished.', 841: 'finland.', 842: 'fire', 843: 'fire.', 844: 'first', 845: 'first.', 846: 'fish', 847: 'fish.', 848: 'fish?', 849: 'fishing.', 850: 'five', 851: 'five.', 852: 'fix', 853: 'fixed', 854: 'flashlight', 855: 'flew', 856: 'flowers', 857: 'flowers.', 858: 'flown?', 859: 'fluently?', 860: 'fly', 861: 'fog.', 862: 'folk', 863: 'follow', 864: 'food', 865: 'food.', 866: 'food?', 867: 'foolish.', 868: 'foot.', 869: 'for', 870: 'for,', 871: 'for.', 872: 'for?', 873: 'foreign', 874: 'foreigner.', 875: 'foreigners?', 876: 'forever', 877: 'forget', 878: 'forget.', 879: 'forgive', 880: 'forgot', 881: 'forgot.', 882: 'forgotten', 883: 'former', 884: 'fortune', 885: 'forty.', 886: 'forward', 887: 'found', 888: 'fountain', 889: 'four', 890: 'france.', 891: 'free', 892: 'french', 893: 'french,', 894: 'french.', 895: 'french?', 896: 'fresh', 897: 'freshman.', 898: 'fried', 899: 'friend', 900: 'friend.', 901: 'friendly', 902: 'friendly.', 903: 'friends', 904: 'friends.', 905: 'fries.', 906: 'from', 907: 'from?', 908: 'front', 909: 'fruit.', 910: 'fuji', 911: 'fuji.', 912: 'full', 913: 'full.', 914: 'fully', 915: 'fun', 916: 'fun.', 917: 'funny', 918: 'funny.', 919: 'further.', 920: 'fuse?', 921: 'future.', 922: 'future?', 923: 'game', 924: 'game?', 925: 'games.', 926: 'gas.', 927: 'gate', 928: 'gate.', 929: 'gave', 930: 'generally', 931: 'gentle', 932: 'gentleman.', 933: 'germany', 934: 'germany.', 935: 'get', 936: 'get,', 937: 'gets', 938: 'getting', 939: 'ghosts', 940: 'gift.', 941: 'gingerbread.', 942: 'girl', 943: 'girl.', 944: 'girlfriend', 945: 'girlfriend.', 946: 'girls', 947: 'give', 948: 'glad', 949: 'glasses.', 950: 'go', 951: 'go,', 952: 'go.', 953: 'go?', 954: 'goal.', 955: 'godmother.', 956: 'goes', 957: 'going', 958: 'going?', 959: 'gold', 960: 'golf?', 961: 'gone', 962: 'gone.', 963: 'gone?', 964: 'good', 965: 'good-looking.', 966: 'good.', 967: 'goodbye.', 968: 'got', 969: 'gotten', 970: 'grabbed', 971: 'grade.', 972: 'gradually,', 973: 'graduated', 974: 'grammar', 975: 'grandfather', 976: 'grandmother', 977: 'grass.', 978: 'grateful', 979: 'great', 980: 'great-grandmother.', 981: 'greatest', 982: 'grew', 983: 'group', 984: 'grow', 985: 'grows', 986: 'guess', 987: 'guess.', 988: 'guide.', 989: 'guilty', 990: 'guitar.', 991: 'gun.', 992: 'guy,', 993: 'guy.', 994: 'guys', 995: 'habits?', 996: 'had', 997: 'hadnt', 998: 'hair.', 999: 'haircut,', 1000: 'half', 1001: 'half-brother.', 1002: 'halloween', 1003: 'hamburgers', 1004: 'hammer?', 1005: 'hand', 1006: 'hand.', 1007: 'handle', 1008: 'hands', 1009: 'hands.', 1010: 'happen', 1011: 'happen,', 1012: 'happen?', 1013: 'happened', 1014: 'happened.', 1015: 'happening', 1016: 'happens.', 1017: 'happy', 1018: 'happy.', 1019: 'hard', 1020: 'hard.', 1021: 'harvard.', 1022: 'has', 1023: 'hasnt', 1024: 'hat', 1025: 'hat,', 1026: 'hat.', 1027: 'hate', 1028: 'hated', 1029: 'hates', 1030: 'haunted.', 1031: 'have', 1032: 'have.', 1033: 'havent', 1034: 'having', 1035: 'hayashi', 1036: 'he', 1037: 'he?', 1038: 'head', 1039: 'headache', 1040: 'headache.', 1041: 'headed', 1042: 'headline', 1043: 'health', 1044: 'healthy', 1045: 'hear', 1046: 'heard', 1047: 'heart.', 1048: 'heat.', 1049: 'heaven.', 1050: 'heavier,', 1051: 'heavy.', 1052: 'hed', 1053: 'heights.', 1054: 'hello!', 1055: 'help', 1056: 'help.', 1057: 'help?', 1058: 'helped', 1059: 'helpful.', 1060: 'helping', 1061: 'helsinki', 1062: 'her', 1063: 'her.', 1064: 'here', 1065: 'here,', 1066: 'here.', 1067: 'here?', 1068: 'herself?', 1069: 'hes', 1070: 'hi,', 1071: 'hiccups.', 1072: 'hidden', 1073: 'hide.', 1074: 'hiding', 1075: 'high', 1076: 'highest', 1077: 'highly', 1078: 'hiking.', 1079: 'him', 1080: 'him.', 1081: 'himself', 1082: 'himself.', 1083: 'hippopotamus', 1084: 'hire', 1085: 'his', 1086: 'history', 1087: 'history!', 1088: 'hit', 1089: 'hobby.', 1090: 'hold', 1091: 'holding', 1092: 'holiday', 1093: 'home', 1094: 'home.', 1095: 'homework', 1096: 'homework.', 1097: 'honestly.', 1098: 'hope', 1099: 'hoping', 1100: 'horizon.', 1101: 'hospital', 1102: 'hospital,', 1103: 'hospital.', 1104: 'hot', 1105: 'hotel.', 1106: 'hour.', 1107: 'hours', 1108: 'hours.', 1109: 'house', 1110: 'house.', 1111: 'house?', 1112: 'houses', 1113: 'how', 1114: 'hows', 1115: 'human.', 1116: 'humiliating.', 1117: 'hunger.', 1118: 'hungry,', 1119: 'hungry.', 1120: 'hunting.', 1121: 'hurry', 1122: 'hurry.', 1123: 'hurt', 1124: 'hurt.', 1125: 'hurts.', 1126: 'husband.', 1127: 'husbands', 1128: 'i', 1129: 'i?', 1130: 'ice', 1131: 'id', 1132: 'idea', 1133: 'idea.', 1134: 'ideas', 1135: 'ideas.', 1136: 'identify', 1137: 'if', 1138: 'ignore', 1139: 'ill', 1140: 'ill.', 1141: 'im', 1142: 'im,', 1143: 'imagining', 1144: 'immediately.', 1145: 'import', 1146: 'important', 1147: 'important.', 1148: 'impossible.', 1149: 'impress', 1150: 'impressed.', 1151: 'impressive.', 1152: 'improve', 1153: 'in', 1154: 'in.', 1155: 'in?', 1156: 'incentive.', 1157: 'including', 1158: 'india.', 1159: 'inevitable.', 1160: 'influential.', 1161: 'injured.', 1162: 'insects.', 1163: 'insecure', 1164: 'inside.', 1165: 'instead.', 1166: 'intelligent', 1167: 'intends', 1168: 'interested', 1169: 'interested.', 1170: 'interesting', 1171: 'internet.', 1172: 'intersection.', 1173: 'into', 1174: 'involved', 1175: 'involved.', 1176: 'irish', 1177: 'iron', 1178: 'is', 1179: 'is.', 1180: 'is?', 1181: 'island.', 1182: 'isnt', 1183: 'isnt.', 1184: 'issues?', 1185: 'it', 1186: 'it,', 1187: 'it.', 1188: 'it?', 1189: 'italy', 1190: 'itll', 1191: 'its', 1192: 'ive', 1193: 'jackson', 1194: 'jackson.', 1195: 'jackson?', 1196: 'jail.', 1197: 'japan', 1198: 'japan.', 1199: 'japanese', 1200: 'japanese.', 1201: 'japanese?', 1202: 'jazz.', 1203: 'jealous,', 1204: 'jeans.', 1205: 'job', 1206: 'job.', 1207: 'jobs', 1208: 'john.', 1209: 'join', 1210: 'joined', 1211: 'joke', 1212: 'joke,', 1213: 'judged', 1214: 'juice.', 1215: 'july.', 1216: 'jumped', 1217: 'just', 1218: 'keep', 1219: 'kept', 1220: 'ketchup', 1221: 'key.', 1222: 'keys', 1223: 'kid', 1224: 'kid.', 1225: 'kidding!', 1226: 'kids', 1227: 'kids,', 1228: 'killed', 1229: 'killed.', 1230: 'kilometers', 1231: 'kind', 1232: 'kind.', 1233: 'king', 1234: 'kiss', 1235: 'kissed', 1236: 'kite.', 1237: 'kitten.', 1238: 'knew', 1239: 'knife', 1240: 'knocked', 1241: 'know', 1242: 'know,', 1243: 'know.', 1244: 'knowing', 1245: 'known', 1246: 'knows', 1247: 'knows.', 1248: 'korean', 1249: 'kosher', 1250: 'kyiv', 1251: 'kyiv.', 1252: 'lamp', 1253: 'language', 1254: 'language.', 1255: 'languages', 1256: 'languages,', 1257: 'languages.', 1258: 'laptop', 1259: 'laptop,', 1260: 'laptop?', 1261: 'large', 1262: 'large.', 1263: 'larger', 1264: 'larger.', 1265: 'last', 1266: 'late', 1267: 'late.', 1268: 'lately?', 1269: 'later?', 1270: 'latin.', 1271: 'laugh.', 1272: 'laughing.', 1273: 'laughs', 1274: 'laughter.', 1275: 'laundry', 1276: 'law', 1277: 'lazy.', 1278: 'lead', 1279: 'learn', 1280: 'learn.', 1281: 'learned', 1282: 'learning', 1283: 'least', 1284: 'leather.', 1285: 'leave', 1286: 'leave.', 1287: 'leaves', 1288: 'leaving', 1289: 'left', 1290: 'left.', 1291: 'legs.', 1292: 'lend', 1293: 'lent', 1294: 'let', 1295: 'lets', 1296: 'letter', 1297: 'letter.', 1298: 'letter?', 1299: 'letters.', 1300: 'library', 1301: 'lie.', 1302: 'lied', 1303: 'life', 1304: 'lifetime.', 1305: 'light', 1306: 'light.', 1307: 'lightning', 1308: 'like', 1309: 'like.', 1310: 'like?', 1311: 'liked', 1312: 'likely', 1313: 'likes', 1314: 'limping', 1315: 'line', 1316: 'lion.', 1317: 'lips.', 1318: 'liquid', 1319: 'list', 1320: 'list.', 1321: 'listed.', 1322: 'listen.', 1323: 'listened', 1324: 'listening', 1325: 'listening.', 1326: 'lit', 1327: 'liter', 1328: 'literally', 1329: 'little', 1330: 'little.', 1331: 'little?', 1332: 'live', 1333: 'live.', 1334: 'lived', 1335: 'lived.', 1336: 'lives', 1337: 'lives.', 1338: 'living', 1339: 'loan.', 1340: 'local?', 1341: 'locked', 1342: 'log', 1343: 'london', 1344: 'lonely.', 1345: 'long', 1346: 'long.', 1347: 'long?', 1348: 'longer', 1349: 'longer.', 1350: 'longer?', 1351: 'look', 1352: 'look.', 1353: 'looked', 1354: 'looking', 1355: 'looks', 1356: 'lose', 1357: 'lose.', 1358: 'loss', 1359: 'lost', 1360: 'lost.', 1361: 'lot', 1362: 'lot.', 1363: 'louder.', 1364: 'love', 1365: 'love.', 1366: 'loved', 1367: 'lovely!', 1368: 'lover.', 1369: 'loves', 1370: 'low.', 1371: 'lower', 1372: 'lucky', 1373: 'lucky.', 1374: 'lunch', 1375: 'lunch.', 1376: 'lunch?', 1377: 'lying', 1378: 'lying.', 1379: 'machine.', 1380: 'mad.', 1381: 'made', 1382: 'made.', 1383: 'made?', 1384: 'madrid', 1385: 'mail', 1386: 'mailbox', 1387: 'make', 1388: 'makes', 1389: 'making', 1390: 'man', 1391: 'man.', 1392: 'man?', 1393: 'many', 1394: 'map', 1395: 'map.', 1396: 'marine', 1397: 'mark', 1398: 'married', 1399: 'married.', 1400: 'marry', 1401: 'marshmallows?', 1402: 'mary', 1403: 'mary.', 1404: 'mary?', 1405: 'marys', 1406: 'marys.', 1407: 'mask.', 1408: 'material.', 1409: 'math', 1410: 'mathematics', 1411: 'mathematics.', 1412: 'matter', 1413: 'matter.', 1414: 'may', 1415: 'maybe', 1416: 'me', 1417: 'me,', 1418: 'me.', 1419: 'me?', 1420: 'mean', 1421: 'meaning', 1422: 'means', 1423: 'meat.', 1424: 'meat?', 1425: 'medicine.', 1426: 'meet', 1427: 'meeting.', 1428: 'meeting?', 1429: 'meetings.', 1430: 'member.', 1431: 'men', 1432: 'men.', 1433: 'merry', 1434: 'message.', 1435: 'met', 1436: 'met.', 1437: 'mexican', 1438: 'microwave', 1439: 'middle', 1440: 'might', 1441: 'mightve', 1442: 'miles', 1443: 'milk', 1444: 'milk.', 1445: 'million', 1446: 'millionaire.', 1447: 'mind', 1448: 'mine.', 1449: 'minute.', 1450: 'minutes', 1451: 'minutes.', 1452: 'misleading.', 1453: 'miss', 1454: 'mistake.', 1455: 'mistaken.', 1456: 'mistakes.', 1457: 'model', 1458: 'model.', 1459: 'modest', 1460: 'moment.', 1461: 'monday', 1462: 'monday.', 1463: 'mondays?', 1464: 'money', 1465: 'money.', 1466: 'money?', 1467: 'mongolia.', 1468: 'month', 1469: 'month.', 1470: 'months', 1471: 'mood.', 1472: 'mood?', 1473: 'moon', 1474: 'more', 1475: 'more.', 1476: 'more?', 1477: 'morning', 1478: 'morning.', 1479: 'mosquitoes', 1480: 'most', 1481: 'mother', 1482: 'mother.', 1483: 'motor', 1484: 'motorcycle?', 1485: 'mount', 1486: 'mountain', 1487: 'mountaintops', 1488: 'mouth', 1489: 'moved', 1490: 'movie.', 1491: 'movie?', 1492: 'movies', 1493: 'movies.', 1494: 'mt.', 1495: 'much', 1496: 'much,', 1497: 'much.', 1498: 'mug', 1499: 'mushrooms', 1500: 'music.', 1501: 'musician.', 1502: 'must', 1503: 'my', 1504: 'myself', 1505: 'myself.', 1506: 'naka-meguro.', 1507: 'name', 1508: 'name.', 1509: 'name?', 1510: 'names', 1511: 'names.', 1512: 'names?', 1513: 'narrow.', 1514: 'naughty', 1515: 'near', 1516: 'nearby.', 1517: 'nearly', 1518: 'necessary.', 1519: 'need', 1520: 'need?', 1521: 'needed', 1522: 'needs', 1523: 'neighbor?', 1524: 'neighborhood', 1525: 'neither', 1526: 'nervous', 1527: 'nervous.', 1528: 'netherlands', 1529: 'never', 1530: 'new', 1531: 'new.', 1532: 'next', 1533: 'next.', 1534: 'next?', 1535: 'nice', 1536: 'nice.', 1537: 'nickname.', 1538: 'night', 1539: 'night,', 1540: 'night.', 1541: 'night?', 1542: 'nine.', 1543: 'no', 1544: 'nobel', 1545: 'nobody', 1546: 'noisy', 1547: 'nor', 1548: 'normal', 1549: 'not', 1550: 'not.', 1551: 'notebook?', 1552: 'notes.', 1553: 'nothing', 1554: 'notice', 1555: 'notice.', 1556: 'novels.', 1557: 'now', 1558: 'now,', 1559: 'now.', 1560: 'now?', 1561: 'nowadays', 1562: 'nowadays.', 1563: 'number', 1564: 'number.', 1565: 'numbers', 1566: 'nursing', 1567: 'nutritious.', 1568: 'obnoxious.', 1569: 'obvious.', 1570: 'obviously', 1571: 'obviously,', 1572: 'ocean', 1573: 'oclock.', 1574: 'october', 1575: 'october.', 1576: 'of', 1577: 'off', 1578: 'off.', 1579: 'off?', 1580: 'offended.', 1581: 'offered', 1582: 'office', 1583: 'office.', 1584: 'office?', 1585: 'often', 1586: 'often?', 1587: 'oh,', 1588: 'ok', 1589: 'ok,', 1590: 'ok.', 1591: 'ok?', 1592: 'okay.', 1593: 'old', 1594: 'old.', 1595: 'older', 1596: 'on', 1597: 'on.', 1598: 'on?', 1599: 'once', 1600: 'once.', 1601: 'one', 1602: 'one.', 1603: 'one?', 1604: 'ones.', 1605: 'only', 1606: 'open', 1607: 'open.', 1608: 'opened', 1609: 'opens', 1610: 'opinion', 1611: 'opinion.', 1612: 'or', 1613: 'orange.', 1614: 'oranges', 1615: 'ostriches', 1616: 'other', 1617: 'other.', 1618: 'otherwise.', 1619: 'ottawa', 1620: 'ought', 1621: 'our', 1622: 'out', 1623: 'out.', 1624: 'outside', 1625: 'outside.', 1626: 'oven.', 1627: 'over', 1628: 'over.', 1629: 'overreact.', 1630: 'overseas', 1631: 'overseas.', 1632: 'overweight.', 1633: 'own', 1634: 'pack', 1635: 'page', 1636: 'paid', 1637: 'paid.', 1638: 'pain.', 1639: 'pain?', 1640: 'painful', 1641: 'paint?', 1642: 'painted', 1643: 'palace.', 1644: 'pancakes.', 1645: 'papers', 1646: 'parents', 1647: 'parents.', 1648: 'paris', 1649: 'park', 1650: 'park.', 1651: 'parked', 1652: 'parking', 1653: 'part', 1654: 'particularly', 1655: 'party.', 1656: 'passed', 1657: 'passengers', 1658: 'passport,', 1659: 'pattern.', 1660: 'pay', 1661: 'paying', 1662: 'payment', 1663: 'peach', 1664: 'peak', 1665: 'peas.', 1666: 'pen', 1667: 'pencil.', 1668: 'pens.', 1669: 'people', 1670: 'people,', 1671: 'people.', 1672: 'per', 1673: 'perfect', 1674: 'person', 1675: 'person.', 1676: 'pet.', 1677: 'phoenix', 1678: 'phone', 1679: 'phone.', 1680: 'phone?', 1681: 'photographs', 1682: 'pick', 1683: 'picture', 1684: 'picture.', 1685: 'picture?', 1686: 'piece', 1687: 'pig', 1688: 'pig.', 1689: 'pizza', 1690: 'pizza?', 1691: 'place', 1692: 'place,', 1693: 'place.', 1694: 'plan', 1695: 'plan.', 1696: 'plane', 1697: 'planes', 1698: 'planes.', 1699: 'planning', 1700: 'plans', 1701: 'plans.', 1702: 'plans?', 1703: 'planted', 1704: 'plants', 1705: 'plants?', 1706: 'play', 1707: 'played', 1708: 'player', 1709: 'player.', 1710: 'playing', 1711: 'plays', 1712: 'please', 1713: 'please.', 1714: 'please?', 1715: 'pleased', 1716: 'pleased.', 1717: 'plumber.', 1718: 'pocket.', 1719: 'pocketknife.', 1720: 'poem', 1721: 'poems.', 1722: 'point', 1723: 'point.', 1724: 'pointing', 1725: 'poland', 1726: 'police', 1727: 'police.', 1728: 'policeman', 1729: 'polite.', 1730: 'pond.', 1731: 'poor', 1732: 'poor.', 1733: 'pop', 1734: 'popular', 1735: 'pork,', 1736: 'pork.', 1737: 'positive', 1738: 'possible,', 1739: 'potential.', 1740: 'power.', 1741: 'powerful.', 1742: 'practical.', 1743: 'pray', 1744: 'predict', 1745: 'predictable.', 1746: 'prefer', 1747: 'preparations', 1748: 'pressure', 1749: 'pretended', 1750: 'pretty', 1751: 'pretty.', 1752: 'price', 1753: 'price?', 1754: 'prices?', 1755: 'prime', 1756: 'prison', 1757: 'prize,', 1758: 'proactive.', 1759: 'probably', 1760: 'problem', 1761: 'problem.', 1762: 'problem?', 1763: 'problems.', 1764: 'process', 1765: 'produces', 1766: 'products', 1767: 'professor.', 1768: 'promised', 1769: 'pronouncing', 1770: 'proof', 1771: 'proof.', 1772: 'pros', 1773: 'protect', 1774: 'proved', 1775: 'public', 1776: 'public.', 1777: 'pulled', 1778: 'punch', 1779: 'puppy', 1780: 'purpose.', 1781: 'put', 1782: 'question', 1783: 'question.', 1784: 'question?', 1785: 'questions', 1786: 'questions.', 1787: 'quicker', 1788: 'quickly', 1789: 'quickly.', 1790: 'quiet', 1791: 'quiet.', 1792: 'quietly.', 1793: 'quit', 1794: 'quit.', 1795: 'quit?', 1796: 'quite', 1797: 'radio', 1798: 'radio.', 1799: 'radio?', 1800: 'rain', 1801: 'rain.', 1802: 'rained', 1803: 'raining', 1804: 'raining.', 1805: 'raise', 1806: 'ramen.', 1807: 'ran', 1808: 'rang', 1809: 'rare.', 1810: 'rate?', 1811: 'rather', 1812: 'reach', 1813: 'read', 1814: 'read.', 1815: 'read?', 1816: 'reading', 1817: 'reading.', 1818: 'ready', 1819: 'ready.', 1820: 'real', 1821: 'realize', 1822: 'realized', 1823: 'really', 1824: 'really?', 1825: 'received', 1826: 'recent', 1827: 'red', 1828: 'red.', 1829: 'refrigerator.', 1830: 'refused', 1831: 'regrets.', 1832: 'relationship', 1833: 'relatives.', 1834: 'relax.', 1835: 'reluctant', 1836: 'remained', 1837: 'remember', 1838: 'remembers', 1839: 'remind', 1840: 'rent', 1841: 'rent.', 1842: 'repair', 1843: 'repeat', 1844: 'repeated', 1845: 'rephrase', 1846: 'replaceable.', 1847: 'reply.', 1848: 'report', 1849: 'report.', 1850: 'report?', 1851: 'reprimanded', 1852: 'requested,', 1853: 'required', 1854: 'respect', 1855: 'respect.', 1856: 'response', 1857: 'rest', 1858: 'restaurant', 1859: 'restaurant.', 1860: 'restroom?', 1861: 'results', 1862: 'return', 1863: 'rewarded.', 1864: 'rice', 1865: 'rice,', 1866: 'rice.', 1867: 'rich', 1868: 'rich.', 1869: 'ride', 1870: 'riding.', 1871: 'right', 1872: 'right.', 1873: 'right?', 1874: 'ring', 1875: 'rings', 1876: 'risk.', 1877: 'risky', 1878: 'risky.', 1879: 'rival.', 1880: 'river.', 1881: 'robbed', 1882: 'rock', 1883: 'rolled', 1884: 'rome.', 1885: 'roof', 1886: 'room', 1887: 'room.', 1888: 'roommate.', 1889: 'rooms', 1890: 'rosemary.', 1891: 'roses', 1892: 'roses.', 1893: 'round', 1894: 'rude', 1895: 'rude.', 1896: 'rule,', 1897: 'rule.', 1898: 'rumored', 1899: 'run', 1900: 'run.', 1901: 'run?', 1902: 'runner.', 1903: 'running.', 1904: 'sacred', 1905: 'sad.', 1906: 'safe', 1907: 'safe.', 1908: 'said', 1909: 'said.', 1910: 'sale', 1911: 'same', 1912: 'same.', 1913: 'sandwiches', 1914: 'sandwiches.', 1915: 'sang', 1916: 'santas', 1917: 'sashimi.', 1918: 'sat', 1919: 'save', 1920: 'saw', 1921: 'say', 1922: 'say.', 1923: 'say?', 1924: 'saying.', 1925: 'says', 1926: 'says.', 1927: 'scare', 1928: 'scared', 1929: 'scary.', 1930: 'school', 1931: 'school,', 1932: 'school.', 1933: 'school?', 1934: 'schoolbooks.', 1935: 'scored', 1936: 'scripts.', 1937: 'sea', 1938: 'searched', 1939: 'searching', 1940: 'seat', 1941: 'secret.', 1942: 'secret?', 1943: 'see', 1944: 'seem', 1945: 'seemed', 1946: 'seems', 1947: 'seen', 1948: 'seen.', 1949: 'send', 1950: 'senior', 1951: 'seniority.', 1952: 'sense.', 1953: 'sent', 1954: 'sentence?', 1955: 'serious', 1956: 'serious.', 1957: 'seriously', 1958: 'served', 1959: 'set', 1960: 'setting', 1961: 'seven', 1962: 'several', 1963: 'sewing', 1964: 'shake', 1965: 'shall', 1966: 'shallow,', 1967: 'shape', 1968: 'shape.', 1969: 'share.', 1970: 'sharkskin', 1971: 'sharp.', 1972: 'she', 1973: 'she?', 1974: 'sheep', 1975: 'shibuya', 1976: 'shirt.', 1977: 'shirts', 1978: 'shirtsleeves', 1979: 'shirtsleeves.', 1980: 'shock.', 1981: 'shocked.', 1982: 'shoe', 1983: 'shoes.', 1984: 'shoot', 1985: 'shop', 1986: 'shop.', 1987: 'shopping.', 1988: 'short', 1989: 'short.', 1990: 'shortest', 1991: 'shot.', 1992: 'should', 1993: 'shouldnt', 1994: 'shouldve', 1995: 'shouldve.', 1996: 'show', 1997: 'showed', 1998: 'showing', 1999: 'sick', 2000: 'sick.', 2001: 'side', 2002: 'side.', 2003: 'sightseeing.', 2004: 'sign', 2005: 'silver', 2006: 'simple', 2007: 'simple.', 2008: 'since', 2009: 'sing?', 2010: 'singer', 2011: 'singer?', 2012: 'singing?', 2013: 'single', 2014: 'sir?', 2015: 'sister', 2016: 'sister?', 2017: 'sisters', 2018: 'sisters?', 2019: 'sit', 2020: 'sitting', 2021: 'situation', 2022: 'six-thirty.', 2023: 'sixteen', 2024: 'size', 2025: 'size.', 2026: 'skiing.', 2027: 'skin', 2028: 'skip', 2029: 'skipper.', 2030: 'sleep', 2031: 'sleep.', 2032: 'sleeping', 2033: 'sleeping.', 2034: 'sleeping?', 2035: 'sleepy,', 2036: 'sleepy.', 2037: 'sleepy?', 2038: 'slept', 2039: 'slight', 2040: 'slow.', 2041: 'slowly', 2042: 'slowly.', 2043: 'small', 2044: 'small.', 2045: 'smart', 2046: 'smart.', 2047: 'smartest', 2048: 'smell', 2049: 'smile.', 2050: 'smiling.', 2051: 'smoke.', 2052: 'snake.', 2053: 'snow', 2054: 'snowing', 2055: 'so', 2056: 'so.', 2057: 'soccer', 2058: 'socks.', 2059: 'sold', 2060: 'solve', 2061: 'some', 2062: 'some.', 2063: 'someone', 2064: 'something', 2065: 'something.', 2066: 'sometimes', 2067: 'somewhat', 2068: 'somewhere', 2069: 'somewhere,', 2070: 'son', 2071: 'son-in-law.', 2072: 'son.', 2073: 'song', 2074: 'song,', 2075: 'song.', 2076: 'soon', 2077: 'soon.', 2078: 'sorry', 2079: 'sorry,', 2080: 'sorry.', 2081: 'sound', 2082: 'sour.', 2083: 'source', 2084: 'spain.', 2085: 'speak', 2086: 'speak.', 2087: 'speak?', 2088: 'speaking', 2089: 'speaking.', 2090: 'speaking?', 2091: 'speaks', 2092: 'special', 2093: 'speeches', 2094: 'speed', 2095: 'spell', 2096: 'spend', 2097: 'spends', 2098: 'spent', 2099: 'spider.', 2100: 'spilled', 2101: 'spoken', 2102: 'sports.', 2103: 'spots', 2104: 'sprang', 2105: 'spread', 2106: 'staff', 2107: 'standing', 2108: 'staring', 2109: 'start?', 2110: 'started', 2111: 'started.', 2112: 'starved.', 2113: 'starving.', 2114: 'states.', 2115: 'station', 2116: 'station?', 2117: 'stay', 2118: 'stay.', 2119: 'stay?', 2120: 'stayed', 2121: 'staying', 2122: 'steak.', 2123: 'steal', 2124: 'still', 2125: 'stole', 2126: 'stolen', 2127: 'stop', 2128: 'stop.', 2129: 'stopped', 2130: 'stopping?', 2131: 'store', 2132: 'store.', 2133: 'story', 2134: 'story.', 2135: 'stove.', 2136: 'straight', 2137: 'strange', 2138: 'stranger?', 2139: 'strapless', 2140: 'street', 2141: 'street.', 2142: 'street?', 2143: 'stretch', 2144: 'stretch.', 2145: 'strict,', 2146: 'strong.', 2147: 'strong?', 2148: 'stronger,', 2149: 'student', 2150: 'student.', 2151: 'students', 2152: 'students.', 2153: 'study', 2154: 'studying', 2155: 'studying.', 2156: 'studying?', 2157: 'stuff', 2158: 'stupid.', 2159: 'subject.', 2160: 'submitted', 2161: 'submitting', 2162: 'suburbs', 2163: 'succeed.', 2164: 'success.', 2165: 'such', 2166: 'sugar', 2167: 'sugar.', 2168: 'suggestion.', 2169: 'suggestions.', 2170: 'suitcase', 2171: 'suitcases?', 2172: 'suits', 2173: 'summary', 2174: 'summer', 2175: 'summer.', 2176: 'sun', 2177: 'sunday.', 2178: 'sunday?', 2179: 'sunglasses', 2180: 'sunglasses.', 2181: 'sunny', 2182: 'sunscreen.', 2183: 'supermarket', 2184: 'supper', 2185: 'supplies', 2186: 'supply.', 2187: 'suppose', 2188: 'supposed', 2189: 'sure', 2190: 'sure.', 2191: 'surgery.', 2192: 'surprised', 2193: 'survive.', 2194: 'suspect', 2195: 'suspended.', 2196: 'suspension', 2197: 'swear', 2198: 'sweater.', 2199: 'sweet.', 2200: 'swim', 2201: 'swim.', 2202: 'swimming', 2203: 'swimming.', 2204: 'switzerland.', 2205: 'system.', 2206: 'table.', 2207: 'tag.', 2208: 'tail', 2209: 'tails.', 2210: 'take', 2211: 'take.', 2212: 'taken', 2213: 'taken?', 2214: 'taking', 2215: 'talented', 2216: 'talented,', 2217: 'talented.', 2218: 'talented?', 2219: 'talk', 2220: 'talk.', 2221: 'talkative.', 2222: 'talking', 2223: 'talking.', 2224: 'tall', 2225: 'tall.', 2226: 'taller,', 2227: 'taller.', 2228: 'tallest', 2229: 'tattoo?', 2230: 'taught', 2231: 'tax.', 2232: 'taxi', 2233: 'tea', 2234: 'tea,', 2235: 'tea.', 2236: 'teach', 2237: 'teacher', 2238: 'teacher.', 2239: 'teacher?', 2240: 'teachers.', 2241: 'teaches', 2242: 'teaching', 2243: 'team', 2244: 'team.', 2245: 'teammate.', 2246: 'teams', 2247: 'teenager.', 2248: 'television.', 2249: 'televisions', 2250: 'tell', 2251: 'telling', 2252: 'tells', 2253: 'temporary.', 2254: 'ten', 2255: 'tends', 2256: 'tennis', 2257: 'terrible', 2258: 'terribly', 2259: 'terrified.', 2260: 'tests.', 2261: 'texas.', 2262: 'th.', 2263: 'thailand.', 2264: 'than', 2265: 'thank', 2266: 'thanks', 2267: 'that', 2268: 'that,', 2269: 'that.', 2270: 'that?', 2271: 'thatll', 2272: 'thats', 2273: 'the', 2274: 'theater.', 2275: 'theft.', 2276: 'them', 2277: 'them.', 2278: 'then', 2279: 'then.', 2280: 'there', 2281: 'there,', 2282: 'there.', 2283: 'there?', 2284: 'theres', 2285: 'these', 2286: 'these.', 2287: 'they', 2288: 'they?', 2289: 'theyll', 2290: 'theyre', 2291: 'theyve', 2292: 'thick', 2293: 'thing', 2294: 'thing.', 2295: 'thing?', 2296: 'things', 2297: 'things.', 2298: 'things?', 2299: 'think', 2300: 'think,', 2301: 'think.', 2302: 'think?', 2303: 'thinker.', 2304: 'thinking', 2305: 'thinks', 2306: 'third', 2307: 'thirsty.', 2308: 'thirteen', 2309: 'thirteen.', 2310: 'thirty', 2311: 'thirty.', 2312: 'this', 2313: 'this.', 2314: 'this?', 2315: 'thisll', 2316: 'those', 2317: 'those.', 2318: 'thought', 2319: 'thought.', 2320: 'thousand', 2321: 'threatened', 2322: 'threatened.', 2323: 'three', 2324: 'three-year-old', 2325: 'threw', 2326: 'throw', 2327: 'ticket.', 2328: 'ticket?', 2329: 'tickets', 2330: 'tie', 2331: 'tie.', 2332: 'tight-fitting', 2333: 'tiki.', 2334: 'time', 2335: 'time.', 2336: 'time?', 2337: 'times', 2338: 'tired', 2339: 'tired.', 2340: 'title,', 2341: 'to', 2342: 'to,', 2343: 'to.', 2344: 'to?', 2345: 'today', 2346: 'today,', 2347: 'today.', 2348: 'today?', 2349: 'todays', 2350: 'toe', 2351: 'together', 2352: 'together.', 2353: 'together?', 2354: 'toilet?', 2355: 'tokyo', 2356: 'tokyo.', 2357: 'told', 2358: 'tom', 2359: 'tom,', 2360: 'tom.', 2361: 'tom?', 2362: 'tomatoes.', 2363: 'tomorrow', 2364: 'tomorrow.', 2365: 'tomorrow?', 2366: 'tomorrows', 2367: 'toms', 2368: 'toms.', 2369: 'toms?', 2370: 'tonight.', 2371: 'tonight?', 2372: 'too', 2373: 'too.', 2374: 'too?', 2375: 'took', 2376: 'toolbox', 2377: 'top', 2378: 'tossed', 2379: 'totally', 2380: 'touch', 2381: 'touching?', 2382: 'tour', 2383: 'toward', 2384: 'town', 2385: 'town.', 2386: 'townie?', 2387: 'toy', 2388: 'toys.', 2389: 'train', 2390: 'train.', 2391: 'trainer.', 2392: 'translate.', 2393: 'translated', 2394: 'translator.', 2395: 'travel', 2396: 'tree.', 2397: 'tried', 2398: 'trip', 2399: 'trip?', 2400: 'trouble', 2401: 'trouble.', 2402: 'true.', 2403: 'truly', 2404: 'trunk.', 2405: 'trust', 2406: 'trust.', 2407: 'truth', 2408: 'truthful?', 2409: 'try', 2410: 'try.', 2411: 'trying', 2412: 'tuesday.', 2413: 'tulips,', 2414: 'tune.', 2415: 'turn', 2416: 'turned', 2417: 'tv', 2418: 'tv.', 2419: 'twelve.', 2420: 'twice', 2421: 'twice.', 2422: 'two', 2423: 'two.', 2424: 'ugly', 2425: 'ukraine', 2426: 'ukraine.', 2427: 'ulaanbaatar', 2428: 'umbrella', 2429: 'umbrella,', 2430: 'umbrella.', 2431: 'umbrellas.', 2432: 'uncomfortable.', 2433: 'unconscious.', 2434: 'unconstitutional?', 2435: 'under', 2436: 'underestimate', 2437: 'understand', 2438: 'understand.', 2439: 'understands', 2440: 'understands?', 2441: 'understood', 2442: 'unemployed.', 2443: 'unethical', 2444: 'unhappy,', 2445: 'united', 2446: 'unlocked.', 2447: 'unlucky.', 2448: 'unmarried.', 2449: 'unprofessional.', 2450: 'unsociable.', 2451: 'until', 2452: 'up', 2453: 'up,', 2454: 'up.', 2455: 'upset', 2456: 'upset.', 2457: 'upstairs.', 2458: 'urged', 2459: 'uruguay.', 2460: 'us', 2461: 'us,', 2462: 'us.', 2463: 'use', 2464: 'use?', 2465: 'used', 2466: 'usually', 2467: 'vacation?', 2468: 'van.', 2469: 'vegetables.', 2470: 'very', 2471: 'video', 2472: 'video.', 2473: 'view.', 2474: 'vinegar.', 2475: 'violence', 2476: 'violent.', 2477: 'violin', 2478: 'violin.', 2479: 'visit', 2480: 'visit.', 2481: 'visited', 2482: 'vitamin', 2483: 'volunteer.', 2484: 'vomiting.', 2485: 'wait', 2486: 'wait.', 2487: 'wait?', 2488: 'waited', 2489: 'waiter', 2490: 'waiting', 2491: 'waking', 2492: 'walk', 2493: 'walk.', 2494: 'walked', 2495: 'walking', 2496: 'wall.', 2497: 'wallet', 2498: 'waned', 2499: 'want', 2500: 'want.', 2501: 'wanted', 2502: 'wanted.', 2503: 'wants', 2504: 'wants.', 2505: 'warsaw.', 2506: 'was', 2507: 'was.', 2508: 'wash', 2509: 'washed', 2510: 'washing', 2511: 'washing?', 2512: 'wasnt', 2513: 'waste', 2514: 'watch', 2515: 'watch.', 2516: 'watched', 2517: 'watches', 2518: 'watching', 2519: 'water', 2520: 'water.', 2521: 'water?', 2522: 'waxed', 2523: 'way', 2524: 'we', 2525: 'wealthy.', 2526: 'wear', 2527: 'wearing', 2528: 'wearing?', 2529: 'wears', 2530: 'wears.', 2531: 'weather', 2532: 'weather.', 2533: 'weathers', 2534: 'website', 2535: 'wed', 2536: 'week', 2537: 'week.', 2538: 'weeks', 2539: 'weighed', 2540: 'weight.', 2541: 'welcome', 2542: 'well', 2543: 'well,', 2544: 'well.', 2545: 'went', 2546: 'went,', 2547: 'went.', 2548: 'were', 2549: 'werent', 2550: 'weve', 2551: 'whale', 2552: 'what', 2553: 'whatever', 2554: 'whatll', 2555: 'whats', 2556: 'wheel?', 2557: 'wheels.', 2558: 'when', 2559: 'whenever', 2560: 'whens', 2561: 'where', 2562: 'wheres', 2563: 'whether', 2564: 'which', 2565: 'while', 2566: 'while.', 2567: 'whistling', 2568: 'white', 2569: 'who', 2570: 'who?', 2571: 'whoever', 2572: 'whole', 2573: 'whos', 2574: 'whose', 2575: 'why', 2576: 'wide', 2577: 'wife,', 2578: 'wife.', 2579: 'wifes', 2580: 'will', 2581: 'willing', 2582: 'win.', 2583: 'windmills,', 2584: 'window.', 2585: 'windows.', 2586: 'windsurfing.', 2587: 'wine', 2588: 'wine.', 2589: 'winning', 2590: 'wins.', 2591: 'winter.', 2592: 'winter?', 2593: 'wish', 2594: 'with', 2595: 'without', 2596: 'wolves', 2597: 'woman', 2598: 'woman,', 2599: 'woman.', 2600: 'woman?', 2601: 'women', 2602: 'women,', 2603: 'women.', 2604: 'won', 2605: 'wonder', 2606: 'wondering', 2607: 'wont', 2608: 'wooden', 2609: 'word', 2610: 'word.', 2611: 'words', 2612: 'words.', 2613: 'wore', 2614: 'work', 2615: 'work.', 2616: 'work?', 2617: 'worked', 2618: 'working', 2619: 'working.', 2620: 'works', 2621: 'world', 2622: 'world.', 2623: 'world?', 2624: 'worlds', 2625: 'worried', 2626: 'worried.', 2627: 'worry', 2628: 'worry.', 2629: 'worth', 2630: 'would', 2631: 'wouldnt', 2632: 'wouldve', 2633: 'wrestling', 2634: 'write', 2635: 'write.', 2636: 'writes', 2637: 'writing', 2638: 'written', 2639: 'wrong', 2640: 'wrong.', 2641: 'wrote', 2642: 'yeah.', 2643: 'year,', 2644: 'year.', 2645: 'year?', 2646: 'years', 2647: 'years.', 2648: 'yell', 2649: 'yelling', 2650: 'yellow.', 2651: 'yen.', 2652: 'yesterday', 2653: 'yesterday.', 2654: 'yesterday?', 2655: 'yet', 2656: 'yet.', 2657: 'yet?', 2658: 'yogurt.', 2659: 'yolks.', 2660: 'you', 2661: 'you,', 2662: 'you.', 2663: 'you?', 2664: 'youd', 2665: 'youll', 2666: 'young', 2667: 'young,', 2668: 'younger', 2669: 'younger,', 2670: 'youngest.', 2671: 'your', 2672: 'youre', 2673: 'yours.', 2674: 'yours?', 2675: 'yourself', 2676: 'yourself.', 2677: 'youve', 2678: 'zealand.', 2679: 'zero', 2680: 'zoologist.', 2681: 'zoology', 2682: '€'}\n",
            "3271\n"
          ]
        }
      ]
    },
    {
      "cell_type": "markdown",
      "source": [
        "### Shuffle and Split:"
      ],
      "metadata": {
        "id": "cTAinQTcK-qX"
      }
    },
    {
      "cell_type": "code",
      "source": [
        "#Shuffle the data\n",
        "lines = shuffle(cleaned_data)\n",
        "# Train - Test Split\n",
        "X, y = cleaned_data.cleaned_source, cleaned_data.cleaned_target\n",
        "X_train, X_test, y_train, y_test = train_test_split(X, y, test_size = 0.1)\n",
        "X_train.shape, X_test.shape"
      ],
      "metadata": {
        "id": "z9cjY1KML3SN",
        "colab": {
          "base_uri": "https://localhost:8080/"
        },
        "outputId": "4455187b-6251-4419-dcf7-23ac6e868c56"
      },
      "execution_count": 14,
      "outputs": [
        {
          "output_type": "execute_result",
          "data": {
            "text/plain": [
              "((2420,), (269,))"
            ]
          },
          "metadata": {},
          "execution_count": 14
        }
      ]
    },
    {
      "cell_type": "code",
      "source": [
        "# Input tokens for encoder\n",
        "num_encoder_tokens=len(source_word2idx)\n",
        "# Input tokens for decoder zero padded\n",
        "num_decoder_tokens=len(target_idx2word)\n",
        "print(num_decoder_tokens)"
      ],
      "metadata": {
        "id": "pHERqXO-MHCO",
        "colab": {
          "base_uri": "https://localhost:8080/"
        },
        "outputId": "fe712165-d6cc-40ab-ad84-94eacb61f33b"
      },
      "execution_count": 15,
      "outputs": [
        {
          "output_type": "stream",
          "name": "stdout",
          "text": [
            "3271\n"
          ]
        }
      ]
    },
    {
      "cell_type": "markdown",
      "source": [
        "## Generate in Batch:\n",
        "\n",
        "To manage our memory we will create and input data pipeline in batches."
      ],
      "metadata": {
        "id": "iKAiKIdWfvbU"
      }
    },
    {
      "cell_type": "code",
      "source": [
        "def generate_batch(X, y, batch_size=128):\n",
        "    while True:\n",
        "        for j in range(0, len(X), batch_size):\n",
        "            batch_X = X[j:j + batch_size]\n",
        "            batch_y = y[j:j + batch_size]\n",
        "\n",
        "            encoder_input_data = np.zeros((len(batch_X), max_source_length), dtype='float32')\n",
        "            decoder_input_data = np.zeros((len(batch_X), max_target_length), dtype='float32')\n",
        "            decoder_target_data = np.zeros((len(batch_X), max_target_length, num_decoder_tokens), dtype='float32')\n",
        "\n",
        "            for i, (input_text, target_text) in enumerate(zip(batch_X, batch_y)):\n",
        "                input_seq = [source_word2idx.get(word, source_word2idx[UNK_TOKEN]) for word in input_text.split()]\n",
        "                target_seq = [target_word2idx.get(word, target_word2idx[UNK_TOKEN]) for word in target_text.split()]\n",
        "\n",
        "                encoder_input_data[i] = pad_sequences([input_seq], maxlen=max_source_length, padding='post')[0]\n",
        "                decoder_input_data[i] = pad_sequences([target_seq], maxlen=max_target_length, padding='post')[0]\n",
        "\n",
        "                for t in range(1, len(target_seq)):\n",
        "                    decoder_target_data[i, t - 1, target_seq[t]] = 1.\n",
        "\n",
        "            # Yield as expected structure: ((inputs), targets)\n",
        "            yield ((encoder_input_data, decoder_input_data), decoder_target_data)"
      ],
      "metadata": {
        "id": "2OyPEBFFfebG"
      },
      "execution_count": 16,
      "outputs": []
    },
    {
      "cell_type": "code",
      "source": [
        "def create_tf_dataset(X, y, batch_size=128):\n",
        "    output_signature = (\n",
        "        (tf.TensorSpec(shape=(None, max_source_length), dtype=tf.float32),  # encoder_input_data\n",
        "         tf.TensorSpec(shape=(None, max_target_length), dtype=tf.float32)),  # decoder_input_data\n",
        "        tf.TensorSpec(shape=(None, max_target_length, num_decoder_tokens), dtype=tf.float32)  # decoder_target_data\n",
        "    )\n",
        "    return tf.data.Dataset.from_generator(\n",
        "        lambda: generate_batch(X, y, batch_size),  # Lambda to call the generator function\n",
        "        output_signature=output_signature  # Defining the output signature for the dataset\n",
        "    )\n"
      ],
      "metadata": {
        "id": "y6ASWYzXQTds"
      },
      "execution_count": 17,
      "outputs": []
    },
    {
      "cell_type": "markdown",
      "source": [
        "# Model Building:\n",
        "\n",
        "1. encoder inputs: The 2D array will be of shape (batch_size, max source sentence length). For a batch_size of 128 and a max source sentence length of 47, the shape of encoder_input will be (128,47)\n",
        "\n",
        "2. decoder inputs: The 2D array will be of shape (batch_size, max target sentence length). For a batch_size of 128 and a max target sentence length of 55, the shape of decoder inputs will be (128,55)\n",
        "\n",
        "3. decoder outputs: The 3D array will be of shape (batch_size, max target sentence length, number of unique words in target sentences). For a batch_size of 128 and a max target sentence length of 55, the shape of decoder output will be (128,55, 27200)."
      ],
      "metadata": {
        "id": "-zLvmwLqml_r"
      }
    },
    {
      "cell_type": "markdown",
      "source": [
        "## Encoder Architecture:\n",
        "Encoder encodes the input sentence.\n",
        "1. It takes the input source tokens from input layer.\n",
        "2. Embedding layer then translates sparse vectors into a dense lower dimesional space preserving teh semantic realtionships.\n",
        "3. Create the LSTM layer and only set return_state to True, because we want hidden state and cell state, as an input to decoder."
      ],
      "metadata": {
        "id": "tlF-3oSnmwAb"
      }
    },
    {
      "cell_type": "code",
      "source": [
        "train_samples = len(X_train)\n",
        "val_samples = len(X_test)\n",
        "batch_size = 128\n",
        "epochs = 3\n",
        "latent_dim=256"
      ],
      "metadata": {
        "id": "55ta7529yew7"
      },
      "execution_count": 18,
      "outputs": []
    },
    {
      "cell_type": "code",
      "source": [
        "def define_encoder(input_shape, num_encoder_tokens, latent_dim):\n",
        "    \"\"\"\n",
        "    Defines the encoder architecture for a sequence-to-sequence model.\n",
        "\n",
        "    The encoder processes input sequences through an embedding layer and LSTM,\n",
        "    returning the final states that capture the encoded information.\n",
        "    Parameters:\n",
        "    -----------\n",
        "    input_shape : tuple\n",
        "        Shape of the input tensor (max_sequence_length,) for variable-length sequences\n",
        "    num_encoder_tokens : int\n",
        "        Size of the source vocabulary (including special tokens)\n",
        "    latent_dim : int\n",
        "        Dimensionality of the embedding and LSTM layers\n",
        "    Returns:\n",
        "    --------\n",
        "    tuple: (encoder_inputs, encoder_states)\n",
        "        encoder_inputs : keras.Input\n",
        "            Input layer for the encoder\n",
        "        encoder_states : list\n",
        "            Final states [hidden_state, cell_state] from the LSTM\n",
        "    \"\"\"\n",
        "    encoder_inputs = Input(shape=input_shape, name='encoder_inputs')\n",
        "    enc_emb = Embedding(num_encoder_tokens, latent_dim, mask_zero=True, name='encoder_embedding')(encoder_inputs)\n",
        "    encoder_lstm = LSTM(latent_dim, return_state=True, name='encoder_lstm')\n",
        "    encoder_outputs, state_h, state_c = encoder_lstm(enc_emb)\n",
        "    encoder_states = [state_h, state_c]\n",
        "\n",
        "    return encoder_inputs, encoder_states"
      ],
      "metadata": {
        "id": "m9EblEt08rYY"
      },
      "execution_count": 19,
      "outputs": []
    },
    {
      "cell_type": "markdown",
      "source": [
        "## Decoder Architecture.\n",
        "\n",
        "1. Decoder uses hidden state and cell state from encoder and from embedding layer as an input.\n",
        "\n",
        "2. Decoder returns output sentence and also hidden and cell states.\n",
        "\n",
        "3. The final layer in decoder is linear layer(dense) with softmax activation function used for predictions.\n"
      ],
      "metadata": {
        "id": "AuQx-m8JQDwu"
      }
    },
    {
      "cell_type": "code",
      "source": [
        "def define_decoder(latent_dim, num_decoder_tokens, encoder_states, max_target_length):\n",
        "    \"\"\"\n",
        "    Defines the decoder architecture for a sequence-to-sequence model.\n",
        "\n",
        "    The decoder processes target sequences through an embedding layer and LSTM,\n",
        "    using the encoder states as initial state, and outputs probability distributions\n",
        "    over the target vocabulary via a dense softmax layer.\n",
        "\n",
        "    Parameters:\n",
        "    -----------\n",
        "    latent_dim : int\n",
        "        Dimensionality of the embedding and LSTM layers (must match encoder)\n",
        "    num_decoder_tokens : int\n",
        "        Size of the target vocabulary (including special tokens)\n",
        "    encoder_states : list\n",
        "        Final states [hidden_state, cell_state] from the encoder LSTM\n",
        "    max_target_length : int\n",
        "        Maximum length of target sequences (for shape reference)\n",
        "\n",
        "    Returns:\n",
        "    --------\n",
        "    tuple: (decoder_inputs, decoder_outputs)\n",
        "        decoder_inputs : keras.Input\n",
        "            Input layer for the decoder (teacher forcing inputs)\n",
        "        decoder_outputs : keras.Layer\n",
        "            Output tensor containing sequence of vocabulary probabilities\n",
        "    \"\"\"\n",
        "    decoder_inputs = Input(shape=(None,), name='decoder_inputs')\n",
        "    dec_emb_layer = Embedding(num_decoder_tokens, latent_dim, mask_zero=True, name='decoder_embedding')\n",
        "    dec_emb = dec_emb_layer(decoder_inputs)\n",
        "\n",
        "    decoder_lstm = LSTM(latent_dim, return_sequences=True, return_state=True, name='decoder_lstm')\n",
        "    decoder_outputs, _, _ = decoder_lstm(dec_emb, initial_state=encoder_states)\n",
        "\n",
        "    decoder_dense = Dense(num_decoder_tokens, activation='softmax', name='decoder_dense')\n",
        "    decoder_outputs = decoder_dense(decoder_outputs)\n",
        "\n",
        "    return decoder_inputs, decoder_outputs, dec_emb_layer, decoder_lstm, decoder_dense"
      ],
      "metadata": {
        "id": "pX2jWevV9On5"
      },
      "execution_count": 20,
      "outputs": []
    },
    {
      "cell_type": "markdown",
      "source": [
        "### Building Seq - to - Seq Model:\n",
        "This function creates a complete model that:\n",
        "\n",
        "1. Encodes input sequences into context vectors\n",
        "2. Decodes the context vectors into target sequences\n",
        "3. Outputs probability distributions over the target vocabulary"
      ],
      "metadata": {
        "id": "X565nxQPQKhh"
      }
    },
    {
      "cell_type": "code",
      "source": [
        "def build_seq2seq_model(input_shape, num_encoder_tokens, num_decoder_tokens, latent_dim, max_target_length):\n",
        "    \"\"\"\n",
        "    Constructs an end-to-end sequence-to-sequence model combining encoder and decoder.\n",
        "    Parameters:\n",
        "    -----------\n",
        "    input_shape : tuple\n",
        "        Shape of the input sequences (max_sequence_length,)\n",
        "    num_encoder_tokens : int\n",
        "        Size of the source vocabulary (including special tokens)\n",
        "    num_decoder_tokens : int\n",
        "        Size of the target vocabulary (including special tokens)\n",
        "    latent_dim : int\n",
        "        Dimensionality of the embedding and LSTM layers\n",
        "    max_target_length : int\n",
        "        Maximum length of target sequences (for reference)\n",
        "\n",
        "    Returns:\n",
        "    --------\n",
        "    keras.Model\n",
        "        A compiled seq2seq model with encoder and decoder components\n",
        "    \"\"\"\n",
        "    encoder_inputs, encoder_states = define_encoder(input_shape, num_encoder_tokens, latent_dim)\n",
        "    decoder_inputs, decoder_outputs, dec_emb_layer, decoder_lstm, decoder_dense = define_decoder(latent_dim, num_decoder_tokens, encoder_states, max_target_length)\n",
        "\n",
        "    model = Model([encoder_inputs, decoder_inputs], decoder_outputs)\n",
        "    return model, encoder_inputs, decoder_inputs, encoder_states, dec_emb_layer, decoder_lstm, decoder_dense"
      ],
      "metadata": {
        "id": "-F3198bJ-GbQ"
      },
      "execution_count": 21,
      "outputs": []
    },
    {
      "cell_type": "code",
      "source": [
        "# Create dataset\n",
        "import tensorflow as tf\n",
        "from tensorflow.keras.models import Model\n",
        "from tensorflow.keras.layers import Input, Embedding, LSTM, Dense\n",
        "\n",
        "train_dataset = create_tf_dataset(X_train, y_train, batch_size=batch_size)\n",
        "val_dataset = create_tf_dataset(X_test, y_test, batch_size=batch_size)\n",
        "\n",
        "# Test the first batch\n",
        "for batch in train_dataset.take(1):\n",
        "    print(f\"Input data shape: {batch[0][0].shape}, {batch[0][1].shape}\")  # encoder_input_data, decoder_input_data\n",
        "    print(f\"Target data shape: {batch[1].shape}\")  # decoder_target_data"
      ],
      "metadata": {
        "id": "t7mAhhX7S__E",
        "colab": {
          "base_uri": "https://localhost:8080/"
        },
        "outputId": "e53f362f-d26e-4492-aead-1ba4201bf89e"
      },
      "execution_count": 22,
      "outputs": [
        {
          "output_type": "stream",
          "name": "stdout",
          "text": [
            "Input data shape: (128, 25), (128, 22)\n",
            "Target data shape: (128, 22, 3271)\n"
          ]
        }
      ]
    },
    {
      "cell_type": "code",
      "source": [
        "# Prepare the dataset for training\n",
        "train_dataset = train_dataset.prefetch(tf.data.AUTOTUNE)  # Optimizing for performance\n",
        "val_dataset = val_dataset.prefetch(tf.data.AUTOTUNE)\n",
        "\n",
        "# Build and compile the model\n",
        "input_shape = (None,)  # Variable-length input sequence (e.g., (None,))\n",
        "latent_dim = 256  # Latent dimension for LSTM\n",
        "model, encoder_inputs, decoder_inputs, encoder_states, dec_emb_layer, decoder_lstm, decoder_dense = build_seq2seq_model(\n",
        "    input_shape=(max_source_length,),\n",
        "    num_encoder_tokens=num_encoder_tokens,\n",
        "    num_decoder_tokens=num_decoder_tokens,\n",
        "    latent_dim=latent_dim,\n",
        "    max_target_length=max_target_length\n",
        ")\n",
        "model.summary()"
      ],
      "metadata": {
        "id": "HNSHthB7QwJb",
        "colab": {
          "base_uri": "https://localhost:8080/",
          "height": 578
        },
        "outputId": "dfcdd4b8-c4e1-4a6c-e074-0ab616491c2d"
      },
      "execution_count": 23,
      "outputs": [
        {
          "output_type": "display_data",
          "data": {
            "text/plain": [
              "\u001b[1mModel: \"functional\"\u001b[0m\n"
            ],
            "text/html": [
              "<pre style=\"white-space:pre;overflow-x:auto;line-height:normal;font-family:Menlo,'DejaVu Sans Mono',consolas,'Courier New',monospace\"><span style=\"font-weight: bold\">Model: \"functional\"</span>\n",
              "</pre>\n"
            ]
          },
          "metadata": {}
        },
        {
          "output_type": "display_data",
          "data": {
            "text/plain": [
              "┏━━━━━━━━━━━━━━━━━━━━━┳━━━━━━━━━━━━━━━━━━━┳━━━━━━━━━━━━┳━━━━━━━━━━━━━━━━━━━┓\n",
              "┃\u001b[1m \u001b[0m\u001b[1mLayer (type)       \u001b[0m\u001b[1m \u001b[0m┃\u001b[1m \u001b[0m\u001b[1mOutput Shape     \u001b[0m\u001b[1m \u001b[0m┃\u001b[1m \u001b[0m\u001b[1m   Param #\u001b[0m\u001b[1m \u001b[0m┃\u001b[1m \u001b[0m\u001b[1mConnected to     \u001b[0m\u001b[1m \u001b[0m┃\n",
              "┡━━━━━━━━━━━━━━━━━━━━━╇━━━━━━━━━━━━━━━━━━━╇━━━━━━━━━━━━╇━━━━━━━━━━━━━━━━━━━┩\n",
              "│ encoder_inputs      │ (\u001b[38;5;45mNone\u001b[0m, \u001b[38;5;34m25\u001b[0m)        │          \u001b[38;5;34m0\u001b[0m │ -                 │\n",
              "│ (\u001b[38;5;33mInputLayer\u001b[0m)        │                   │            │                   │\n",
              "├─────────────────────┼───────────────────┼────────────┼───────────────────┤\n",
              "│ decoder_inputs      │ (\u001b[38;5;45mNone\u001b[0m, \u001b[38;5;45mNone\u001b[0m)      │          \u001b[38;5;34m0\u001b[0m │ -                 │\n",
              "│ (\u001b[38;5;33mInputLayer\u001b[0m)        │                   │            │                   │\n",
              "├─────────────────────┼───────────────────┼────────────┼───────────────────┤\n",
              "│ encoder_embedding   │ (\u001b[38;5;45mNone\u001b[0m, \u001b[38;5;34m25\u001b[0m, \u001b[38;5;34m256\u001b[0m)   │    \u001b[38;5;34m686,848\u001b[0m │ encoder_inputs[\u001b[38;5;34m0\u001b[0m… │\n",
              "│ (\u001b[38;5;33mEmbedding\u001b[0m)         │                   │            │                   │\n",
              "├─────────────────────┼───────────────────┼────────────┼───────────────────┤\n",
              "│ not_equal           │ (\u001b[38;5;45mNone\u001b[0m, \u001b[38;5;34m25\u001b[0m)        │          \u001b[38;5;34m0\u001b[0m │ encoder_inputs[\u001b[38;5;34m0\u001b[0m… │\n",
              "│ (\u001b[38;5;33mNotEqual\u001b[0m)          │                   │            │                   │\n",
              "├─────────────────────┼───────────────────┼────────────┼───────────────────┤\n",
              "│ decoder_embedding   │ (\u001b[38;5;45mNone\u001b[0m, \u001b[38;5;45mNone\u001b[0m, \u001b[38;5;34m256\u001b[0m) │    \u001b[38;5;34m837,376\u001b[0m │ decoder_inputs[\u001b[38;5;34m0\u001b[0m… │\n",
              "│ (\u001b[38;5;33mEmbedding\u001b[0m)         │                   │            │                   │\n",
              "├─────────────────────┼───────────────────┼────────────┼───────────────────┤\n",
              "│ encoder_lstm (\u001b[38;5;33mLSTM\u001b[0m) │ [(\u001b[38;5;45mNone\u001b[0m, \u001b[38;5;34m256\u001b[0m),     │    \u001b[38;5;34m525,312\u001b[0m │ encoder_embeddin… │\n",
              "│                     │ (\u001b[38;5;45mNone\u001b[0m, \u001b[38;5;34m256\u001b[0m),      │            │ not_equal[\u001b[38;5;34m0\u001b[0m][\u001b[38;5;34m0\u001b[0m]   │\n",
              "│                     │ (\u001b[38;5;45mNone\u001b[0m, \u001b[38;5;34m256\u001b[0m)]      │            │                   │\n",
              "├─────────────────────┼───────────────────┼────────────┼───────────────────┤\n",
              "│ decoder_lstm (\u001b[38;5;33mLSTM\u001b[0m) │ [(\u001b[38;5;45mNone\u001b[0m, \u001b[38;5;45mNone\u001b[0m,     │    \u001b[38;5;34m525,312\u001b[0m │ decoder_embeddin… │\n",
              "│                     │ \u001b[38;5;34m256\u001b[0m), (\u001b[38;5;45mNone\u001b[0m,      │            │ encoder_lstm[\u001b[38;5;34m0\u001b[0m][\u001b[38;5;34m…\u001b[0m │\n",
              "│                     │ \u001b[38;5;34m256\u001b[0m), (\u001b[38;5;45mNone\u001b[0m,      │            │ encoder_lstm[\u001b[38;5;34m0\u001b[0m][\u001b[38;5;34m…\u001b[0m │\n",
              "│                     │ \u001b[38;5;34m256\u001b[0m)]             │            │                   │\n",
              "├─────────────────────┼───────────────────┼────────────┼───────────────────┤\n",
              "│ decoder_dense       │ (\u001b[38;5;45mNone\u001b[0m, \u001b[38;5;45mNone\u001b[0m,      │    \u001b[38;5;34m840,647\u001b[0m │ decoder_lstm[\u001b[38;5;34m0\u001b[0m][\u001b[38;5;34m…\u001b[0m │\n",
              "│ (\u001b[38;5;33mDense\u001b[0m)             │ \u001b[38;5;34m3271\u001b[0m)             │            │                   │\n",
              "└─────────────────────┴───────────────────┴────────────┴───────────────────┘\n"
            ],
            "text/html": [
              "<pre style=\"white-space:pre;overflow-x:auto;line-height:normal;font-family:Menlo,'DejaVu Sans Mono',consolas,'Courier New',monospace\">┏━━━━━━━━━━━━━━━━━━━━━┳━━━━━━━━━━━━━━━━━━━┳━━━━━━━━━━━━┳━━━━━━━━━━━━━━━━━━━┓\n",
              "┃<span style=\"font-weight: bold\"> Layer (type)        </span>┃<span style=\"font-weight: bold\"> Output Shape      </span>┃<span style=\"font-weight: bold\">    Param # </span>┃<span style=\"font-weight: bold\"> Connected to      </span>┃\n",
              "┡━━━━━━━━━━━━━━━━━━━━━╇━━━━━━━━━━━━━━━━━━━╇━━━━━━━━━━━━╇━━━━━━━━━━━━━━━━━━━┩\n",
              "│ encoder_inputs      │ (<span style=\"color: #00d7ff; text-decoration-color: #00d7ff\">None</span>, <span style=\"color: #00af00; text-decoration-color: #00af00\">25</span>)        │          <span style=\"color: #00af00; text-decoration-color: #00af00\">0</span> │ -                 │\n",
              "│ (<span style=\"color: #0087ff; text-decoration-color: #0087ff\">InputLayer</span>)        │                   │            │                   │\n",
              "├─────────────────────┼───────────────────┼────────────┼───────────────────┤\n",
              "│ decoder_inputs      │ (<span style=\"color: #00d7ff; text-decoration-color: #00d7ff\">None</span>, <span style=\"color: #00d7ff; text-decoration-color: #00d7ff\">None</span>)      │          <span style=\"color: #00af00; text-decoration-color: #00af00\">0</span> │ -                 │\n",
              "│ (<span style=\"color: #0087ff; text-decoration-color: #0087ff\">InputLayer</span>)        │                   │            │                   │\n",
              "├─────────────────────┼───────────────────┼────────────┼───────────────────┤\n",
              "│ encoder_embedding   │ (<span style=\"color: #00d7ff; text-decoration-color: #00d7ff\">None</span>, <span style=\"color: #00af00; text-decoration-color: #00af00\">25</span>, <span style=\"color: #00af00; text-decoration-color: #00af00\">256</span>)   │    <span style=\"color: #00af00; text-decoration-color: #00af00\">686,848</span> │ encoder_inputs[<span style=\"color: #00af00; text-decoration-color: #00af00\">0</span>… │\n",
              "│ (<span style=\"color: #0087ff; text-decoration-color: #0087ff\">Embedding</span>)         │                   │            │                   │\n",
              "├─────────────────────┼───────────────────┼────────────┼───────────────────┤\n",
              "│ not_equal           │ (<span style=\"color: #00d7ff; text-decoration-color: #00d7ff\">None</span>, <span style=\"color: #00af00; text-decoration-color: #00af00\">25</span>)        │          <span style=\"color: #00af00; text-decoration-color: #00af00\">0</span> │ encoder_inputs[<span style=\"color: #00af00; text-decoration-color: #00af00\">0</span>… │\n",
              "│ (<span style=\"color: #0087ff; text-decoration-color: #0087ff\">NotEqual</span>)          │                   │            │                   │\n",
              "├─────────────────────┼───────────────────┼────────────┼───────────────────┤\n",
              "│ decoder_embedding   │ (<span style=\"color: #00d7ff; text-decoration-color: #00d7ff\">None</span>, <span style=\"color: #00d7ff; text-decoration-color: #00d7ff\">None</span>, <span style=\"color: #00af00; text-decoration-color: #00af00\">256</span>) │    <span style=\"color: #00af00; text-decoration-color: #00af00\">837,376</span> │ decoder_inputs[<span style=\"color: #00af00; text-decoration-color: #00af00\">0</span>… │\n",
              "│ (<span style=\"color: #0087ff; text-decoration-color: #0087ff\">Embedding</span>)         │                   │            │                   │\n",
              "├─────────────────────┼───────────────────┼────────────┼───────────────────┤\n",
              "│ encoder_lstm (<span style=\"color: #0087ff; text-decoration-color: #0087ff\">LSTM</span>) │ [(<span style=\"color: #00d7ff; text-decoration-color: #00d7ff\">None</span>, <span style=\"color: #00af00; text-decoration-color: #00af00\">256</span>),     │    <span style=\"color: #00af00; text-decoration-color: #00af00\">525,312</span> │ encoder_embeddin… │\n",
              "│                     │ (<span style=\"color: #00d7ff; text-decoration-color: #00d7ff\">None</span>, <span style=\"color: #00af00; text-decoration-color: #00af00\">256</span>),      │            │ not_equal[<span style=\"color: #00af00; text-decoration-color: #00af00\">0</span>][<span style=\"color: #00af00; text-decoration-color: #00af00\">0</span>]   │\n",
              "│                     │ (<span style=\"color: #00d7ff; text-decoration-color: #00d7ff\">None</span>, <span style=\"color: #00af00; text-decoration-color: #00af00\">256</span>)]      │            │                   │\n",
              "├─────────────────────┼───────────────────┼────────────┼───────────────────┤\n",
              "│ decoder_lstm (<span style=\"color: #0087ff; text-decoration-color: #0087ff\">LSTM</span>) │ [(<span style=\"color: #00d7ff; text-decoration-color: #00d7ff\">None</span>, <span style=\"color: #00d7ff; text-decoration-color: #00d7ff\">None</span>,     │    <span style=\"color: #00af00; text-decoration-color: #00af00\">525,312</span> │ decoder_embeddin… │\n",
              "│                     │ <span style=\"color: #00af00; text-decoration-color: #00af00\">256</span>), (<span style=\"color: #00d7ff; text-decoration-color: #00d7ff\">None</span>,      │            │ encoder_lstm[<span style=\"color: #00af00; text-decoration-color: #00af00\">0</span>][<span style=\"color: #00af00; text-decoration-color: #00af00\">…</span> │\n",
              "│                     │ <span style=\"color: #00af00; text-decoration-color: #00af00\">256</span>), (<span style=\"color: #00d7ff; text-decoration-color: #00d7ff\">None</span>,      │            │ encoder_lstm[<span style=\"color: #00af00; text-decoration-color: #00af00\">0</span>][<span style=\"color: #00af00; text-decoration-color: #00af00\">…</span> │\n",
              "│                     │ <span style=\"color: #00af00; text-decoration-color: #00af00\">256</span>)]             │            │                   │\n",
              "├─────────────────────┼───────────────────┼────────────┼───────────────────┤\n",
              "│ decoder_dense       │ (<span style=\"color: #00d7ff; text-decoration-color: #00d7ff\">None</span>, <span style=\"color: #00d7ff; text-decoration-color: #00d7ff\">None</span>,      │    <span style=\"color: #00af00; text-decoration-color: #00af00\">840,647</span> │ decoder_lstm[<span style=\"color: #00af00; text-decoration-color: #00af00\">0</span>][<span style=\"color: #00af00; text-decoration-color: #00af00\">…</span> │\n",
              "│ (<span style=\"color: #0087ff; text-decoration-color: #0087ff\">Dense</span>)             │ <span style=\"color: #00af00; text-decoration-color: #00af00\">3271</span>)             │            │                   │\n",
              "└─────────────────────┴───────────────────┴────────────┴───────────────────┘\n",
              "</pre>\n"
            ]
          },
          "metadata": {}
        },
        {
          "output_type": "display_data",
          "data": {
            "text/plain": [
              "\u001b[1m Total params: \u001b[0m\u001b[38;5;34m3,415,495\u001b[0m (13.03 MB)\n"
            ],
            "text/html": [
              "<pre style=\"white-space:pre;overflow-x:auto;line-height:normal;font-family:Menlo,'DejaVu Sans Mono',consolas,'Courier New',monospace\"><span style=\"font-weight: bold\"> Total params: </span><span style=\"color: #00af00; text-decoration-color: #00af00\">3,415,495</span> (13.03 MB)\n",
              "</pre>\n"
            ]
          },
          "metadata": {}
        },
        {
          "output_type": "display_data",
          "data": {
            "text/plain": [
              "\u001b[1m Trainable params: \u001b[0m\u001b[38;5;34m3,415,495\u001b[0m (13.03 MB)\n"
            ],
            "text/html": [
              "<pre style=\"white-space:pre;overflow-x:auto;line-height:normal;font-family:Menlo,'DejaVu Sans Mono',consolas,'Courier New',monospace\"><span style=\"font-weight: bold\"> Trainable params: </span><span style=\"color: #00af00; text-decoration-color: #00af00\">3,415,495</span> (13.03 MB)\n",
              "</pre>\n"
            ]
          },
          "metadata": {}
        },
        {
          "output_type": "display_data",
          "data": {
            "text/plain": [
              "\u001b[1m Non-trainable params: \u001b[0m\u001b[38;5;34m0\u001b[0m (0.00 B)\n"
            ],
            "text/html": [
              "<pre style=\"white-space:pre;overflow-x:auto;line-height:normal;font-family:Menlo,'DejaVu Sans Mono',consolas,'Courier New',monospace\"><span style=\"font-weight: bold\"> Non-trainable params: </span><span style=\"color: #00af00; text-decoration-color: #00af00\">0</span> (0.00 B)\n",
              "</pre>\n"
            ]
          },
          "metadata": {}
        }
      ]
    },
    {
      "cell_type": "code",
      "source": [
        "from tensorflow.keras.callbacks import EarlyStopping, ModelCheckpoint\n",
        "\n",
        "# 1. Define callbacks\n",
        "callbacks = [\n",
        "    # Stop training if val_loss doesn't improve for 3 consecutive epochs\n",
        "    EarlyStopping(monitor='val_loss', patience=3, restore_best_weights=True, verbose=1),\n",
        "\n",
        "    # Save the model with the best validation accuracy\n",
        "    ModelCheckpoint('best_seq2seq_model.h5', monitor='val_accuracy', save_best_only=True, verbose=1)\n",
        "]\n",
        "\n",
        "# 2. Compile the model\n",
        "model.compile(\n",
        "    optimizer='rmsprop',\n",
        "    loss='categorical_crossentropy',\n",
        "    metrics=['accuracy']\n",
        ")\n",
        "\n",
        "# 3. Training parameters\n",
        "train_samples = len(X_train)\n",
        "val_samples = len(X_test)\n",
        "\n",
        "steps_per_epoch = train_samples // batch_size\n",
        "validation_steps = val_samples // batch_size\n",
        "\n",
        "# 4. Train the model with callbacks\n",
        "model.fit(\n",
        "    train_dataset,\n",
        "    steps_per_epoch=steps_per_epoch,\n",
        "    epochs=epochs,\n",
        "    validation_data=val_dataset,\n",
        "    validation_steps=validation_steps,\n",
        "    callbacks=callbacks\n",
        ")\n",
        "\n",
        "# 5. Save final model (optional, in case best wasn't triggered)\n",
        "model.save('final_seq2seq_model.h5')"
      ],
      "metadata": {
        "id": "HcvcavhmQ_mL",
        "colab": {
          "base_uri": "https://localhost:8080/"
        },
        "outputId": "52d73848-fc73-48e4-b0ce-c2f8cfd56bb5"
      },
      "execution_count": 24,
      "outputs": [
        {
          "output_type": "stream",
          "name": "stdout",
          "text": [
            "Epoch 1/3\n",
            "\u001b[1m18/18\u001b[0m \u001b[32m━━━━━━━━━━━━━━━━━━━━\u001b[0m\u001b[37m\u001b[0m \u001b[1m0s\u001b[0m 2s/step - accuracy: 0.0366 - loss: 6.9616\n",
            "Epoch 1: val_accuracy improved from -inf to 0.04545, saving model to best_seq2seq_model.h5\n"
          ]
        },
        {
          "output_type": "stream",
          "name": "stderr",
          "text": [
            "WARNING:absl:You are saving your model as an HDF5 file via `model.save()` or `keras.saving.save_model(model)`. This file format is considered legacy. We recommend using instead the native Keras format, e.g. `model.save('my_model.keras')` or `keras.saving.save_model(model, 'my_model.keras')`. \n"
          ]
        },
        {
          "output_type": "stream",
          "name": "stdout",
          "text": [
            "\b\b\b\b\b\b\b\b\b\b\b\b\b\b\b\b\b\b\b\b\b\b\b\b\b\b\b\b\b\b\b\b\b\b\b\b\b\b\b\b\b\b\b\b\b\b\b\b\b\b\b\b\b\b\b\b\b\b\b\b\b\b\b\b\b\b\b\b\b\b\b\r\u001b[1m18/18\u001b[0m \u001b[32m━━━━━━━━━━━━━━━━━━━━\u001b[0m\u001b[37m\u001b[0m \u001b[1m45s\u001b[0m 2s/step - accuracy: 0.0369 - loss: 6.9596 - val_accuracy: 0.0455 - val_loss: 6.5167\n",
            "Epoch 2/3\n",
            "\u001b[1m18/18\u001b[0m \u001b[32m━━━━━━━━━━━━━━━━━━━━\u001b[0m\u001b[37m\u001b[0m \u001b[1m0s\u001b[0m 2s/step - accuracy: 0.0455 - loss: 6.0141\n",
            "Epoch 2: val_accuracy did not improve from 0.04545\n",
            "\u001b[1m18/18\u001b[0m \u001b[32m━━━━━━━━━━━━━━━━━━━━\u001b[0m\u001b[37m\u001b[0m \u001b[1m41s\u001b[0m 2s/step - accuracy: 0.0455 - loss: 5.9998 - val_accuracy: 0.0455 - val_loss: 5.3464\n",
            "Epoch 3/3\n",
            "\u001b[1m18/18\u001b[0m \u001b[32m━━━━━━━━━━━━━━━━━━━━\u001b[0m\u001b[37m\u001b[0m \u001b[1m0s\u001b[0m 2s/step - accuracy: 0.0492 - loss: 5.2925\n",
            "Epoch 3: val_accuracy improved from 0.04545 to 0.05433, saving model to best_seq2seq_model.h5\n"
          ]
        },
        {
          "output_type": "stream",
          "name": "stderr",
          "text": [
            "WARNING:absl:You are saving your model as an HDF5 file via `model.save()` or `keras.saving.save_model(model)`. This file format is considered legacy. We recommend using instead the native Keras format, e.g. `model.save('my_model.keras')` or `keras.saving.save_model(model, 'my_model.keras')`. \n"
          ]
        },
        {
          "output_type": "stream",
          "name": "stdout",
          "text": [
            "\b\b\b\b\b\b\b\b\b\b\b\b\b\b\b\b\b\b\b\b\b\b\b\b\b\b\b\b\b\b\b\b\b\b\b\b\b\b\b\b\b\b\b\b\b\b\b\b\b\b\b\b\b\b\b\b\b\b\b\b\b\b\b\b\b\b\b\b\b\b\b\r\u001b[1m18/18\u001b[0m \u001b[32m━━━━━━━━━━━━━━━━━━━━\u001b[0m\u001b[37m\u001b[0m \u001b[1m41s\u001b[0m 2s/step - accuracy: 0.0493 - loss: 5.2889 - val_accuracy: 0.0543 - val_loss: 5.1217\n",
            "Restoring model weights from the end of the best epoch: 3.\n"
          ]
        },
        {
          "output_type": "stream",
          "name": "stderr",
          "text": [
            "WARNING:absl:You are saving your model as an HDF5 file via `model.save()` or `keras.saving.save_model(model)`. This file format is considered legacy. We recommend using instead the native Keras format, e.g. `model.save('my_model.keras')` or `keras.saving.save_model(model, 'my_model.keras')`. \n"
          ]
        }
      ]
    },
    {
      "cell_type": "markdown",
      "source": [
        "## Make Inferences:\n",
        "\n",
        "Steps in Inferences:\n",
        "\n",
        "1. Encode the input sequences into hidden state and cell state of the LSTM\n",
        "2. The decoder will predict one sequence at a time. The first input to the decoder will be hidden state and cell state of the encoder and the START_ tag\n",
        "3. The output of the decoder will be fed as an input to the decoder for the next time step as shown in the diagram below.\n",
        "4. At each time step, decoder outputs one-hot encoded vector to which we apply np.argmax and convert the vector to word from the dictionary that stores index to word\n",
        "5. Keep appending the target words generated at each time step\n",
        "Repeat the steps till we hit the _END tag or the word limit\n",
        "![inference.png](data:image/png;base64,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)"
      ],
      "metadata": {
        "id": "Lu3I2z-h5c25"
      }
    },
    {
      "cell_type": "code",
      "source": [
        "# Encoder model (same as in training)\n",
        "encoder_model = Model(encoder_inputs, encoder_states)\n",
        "\n",
        "# Decoder setup for inference\n",
        "# These inputs will hold the LSTM states for each timestep\n",
        "decoder_state_input_h = Input(shape=(latent_dim,), name='decoder_input_h')\n",
        "decoder_state_input_c = Input(shape=(latent_dim,), name='decoder_input_c')\n",
        "decoder_states_inputs = [decoder_state_input_h, decoder_state_input_c]\n",
        "\n",
        "# Embedding layer reused from training\n",
        "dec_emb2 = dec_emb_layer(decoder_inputs)\n",
        "\n",
        "# Reuse the LSTM layer and pass in the previous states\n",
        "decoder_outputs2, state_h2, state_c2 = decoder_lstm(\n",
        "    dec_emb2, initial_state=decoder_states_inputs\n",
        ")\n",
        "decoder_states2 = [state_h2, state_c2]\n",
        "\n",
        "# Reuse the dense softmax layer\n",
        "decoder_outputs2 = decoder_dense(decoder_outputs2)\n",
        "\n",
        "# Final inference decoder model\n",
        "decoder_model = Model(\n",
        "    [decoder_inputs] + decoder_states_inputs,\n",
        "    [decoder_outputs2] + decoder_states2\n",
        ")"
      ],
      "metadata": {
        "id": "Rj_U2eL0G17R"
      },
      "execution_count": 25,
      "outputs": []
    },
    {
      "cell_type": "markdown",
      "source": [
        "### Function for Quick Predictions."
      ],
      "metadata": {
        "id": "KSGmYfY150yj"
      }
    },
    {
      "cell_type": "code",
      "source": [
        "def decode_sequence(input_seq):\n",
        "    # Encode the input as state vectors.\n",
        "    states_value = encoder_model.predict(input_seq)\n",
        "    # Generate empty target sequence of length 1.\n",
        "    target_seq = np.zeros((1,1))\n",
        "    # Populate the first character of\n",
        "    #target sequence with the start character.\n",
        "    target_seq[0, 0] = target_word2idx['START_']\n",
        "# Sampling loop for a batch of sequences\n",
        "    # (to simplify, here we assume a batch of size 1).\n",
        "    stop_condition = False\n",
        "    decoded_sentence = ''\n",
        "    while not stop_condition:\n",
        "        output_tokens, h, c = decoder_model.predict([target_seq] + states_value)\n",
        "# Sample a token\n",
        "        sampled_token_index = np.argmax(output_tokens[0, -1, :])\n",
        "        sampled_word =target_idx2word[sampled_token_index]\n",
        "        decoded_sentence += ' '+ sampled_word\n",
        "# Exit condition: either hit max length\n",
        "        # or find stop character.\n",
        "        if (sampled_word == '_END' or\n",
        "           len(decoded_sentence) > 50):\n",
        "            stop_condition = True\n",
        "# Update the target sequence (of length 1).\n",
        "        target_seq = np.zeros((1,1))\n",
        "        target_seq[0, 0] = sampled_token_index\n",
        "# Update states\n",
        "        states_value = [h, c]\n",
        "    return decoded_sentence"
      ],
      "metadata": {
        "id": "wL88oomW5wjr"
      },
      "execution_count": 26,
      "outputs": []
    },
    {
      "cell_type": "code",
      "source": [
        "train_gen = generate_batch(X_train, y_train, batch_size = 1)\n",
        "k=-1"
      ],
      "metadata": {
        "id": "FJskUKVM5zzF"
      },
      "execution_count": 27,
      "outputs": []
    },
    {
      "cell_type": "code",
      "source": [
        "k+=1\n",
        "(input_seq, actual_output), _ = next(train_gen)\n",
        "decoded_sentence = decode_sequence(input_seq)\n",
        "print('Input Source sentence:', X_train[k:k+1].values[0])\n",
        "print('Actual Target Translation:', y_train[k:k+1].values[0][6:-4])\n",
        "print('Predicted Target Translation:', decoded_sentence[:-4])"
      ],
      "metadata": {
        "id": "iLLE6voc57pC",
        "colab": {
          "base_uri": "https://localhost:8080/"
        },
        "outputId": "dfb3a23f-1726-41f0-a445-d41ba6a7360b"
      },
      "execution_count": 31,
      "outputs": [
        {
          "output_type": "stream",
          "name": "stdout",
          "text": [
            "\u001b[1m1/1\u001b[0m \u001b[32m━━━━━━━━━━━━━━━━━━━━\u001b[0m\u001b[37m\u001b[0m \u001b[1m0s\u001b[0m 50ms/step\n",
            "\u001b[1m1/1\u001b[0m \u001b[32m━━━━━━━━━━━━━━━━━━━━\u001b[0m\u001b[37m\u001b[0m \u001b[1m0s\u001b[0m 44ms/step\n",
            "\u001b[1m1/1\u001b[0m \u001b[32m━━━━━━━━━━━━━━━━━━━━\u001b[0m\u001b[37m\u001b[0m \u001b[1m0s\u001b[0m 50ms/step\n",
            "Input Source sentence: i read lips.\n",
            "Actual Target Translation:  म ओठ पढ्छु । \n",
            "Predicted Target Translation:  म \n"
          ]
        }
      ]
    },
    {
      "cell_type": "code",
      "source": [],
      "metadata": {
        "id": "SWNt3r0659rk"
      },
      "execution_count": null,
      "outputs": []
    }
  ]
}